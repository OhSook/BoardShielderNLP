{
  "nbformat": 4,
  "nbformat_minor": 0,
  "metadata": {
    "colab": {
      "provenance": [],
      "gpuType": "T4",
      "mount_file_id": "1h1-2G-Sas6I-ZEFatndzEVh_tqIv5TJn",
      "authorship_tag": "ABX9TyPGb9mHhSMrhUwRlYVV/Vkc",
      "include_colab_link": true
    },
    "kernelspec": {
      "name": "python3",
      "display_name": "Python 3"
    },
    "language_info": {
      "name": "python"
    },
    "accelerator": "GPU"
  },
  "cells": [
    {
      "cell_type": "markdown",
      "metadata": {
        "id": "view-in-github",
        "colab_type": "text"
      },
      "source": [
        "<a href=\"https://colab.research.google.com/github/OhSook/BoardShielderNLP/blob/main/lstmLolgall.ipynb\" target=\"_parent\"><img src=\"https://colab.research.google.com/assets/colab-badge.svg\" alt=\"Open In Colab\"/></a>"
      ]
    },
    {
      "cell_type": "code",
      "execution_count": null,
      "metadata": {
        "id": "4WJQS5VGqiSa"
      },
      "outputs": [],
      "source": [
        "import pickle\n",
        "import pandas as pd\n",
        "import numpy as np\n",
        "import matplotlib.pyplot as plt\n",
        "import re\n",
        "import urllib.request\n",
        "from konlpy.tag import Okt\n",
        "from tqdm import tqdm\n",
        "from tensorflow.keras.preprocessing.text import Tokenizer\n",
        "from tensorflow.keras.preprocessing.sequence import pad_sequences"
      ]
    },
    {
      "cell_type": "code",
      "source": [
        "pip install konlpy"
      ],
      "metadata": {
        "colab": {
          "base_uri": "https://localhost:8080/"
        },
        "id": "DEruI0y_rh1a",
        "outputId": "8d33401c-09d9-4b25-ce28-c648f822a7c4"
      },
      "execution_count": null,
      "outputs": [
        {
          "output_type": "stream",
          "name": "stdout",
          "text": [
            "Requirement already satisfied: konlpy in /usr/local/lib/python3.10/dist-packages (0.6.0)\n",
            "Requirement already satisfied: JPype1>=0.7.0 in /usr/local/lib/python3.10/dist-packages (from konlpy) (1.4.1)\n",
            "Requirement already satisfied: lxml>=4.1.0 in /usr/local/lib/python3.10/dist-packages (from konlpy) (4.9.3)\n",
            "Requirement already satisfied: numpy>=1.6 in /usr/local/lib/python3.10/dist-packages (from konlpy) (1.23.5)\n",
            "Requirement already satisfied: packaging in /usr/local/lib/python3.10/dist-packages (from JPype1>=0.7.0->konlpy) (23.2)\n"
          ]
        }
      ]
    },
    {
      "cell_type": "code",
      "source": [
        "pip install tensorflow"
      ],
      "metadata": {
        "colab": {
          "base_uri": "https://localhost:8080/"
        },
        "id": "kyCPSaSQrXzv",
        "outputId": "63c59c37-bfb1-430c-c75e-60e602ab4911"
      },
      "execution_count": null,
      "outputs": [
        {
          "output_type": "stream",
          "name": "stdout",
          "text": [
            "Requirement already satisfied: tensorflow in /usr/local/lib/python3.10/dist-packages (2.14.0)\n",
            "Requirement already satisfied: absl-py>=1.0.0 in /usr/local/lib/python3.10/dist-packages (from tensorflow) (1.4.0)\n",
            "Requirement already satisfied: astunparse>=1.6.0 in /usr/local/lib/python3.10/dist-packages (from tensorflow) (1.6.3)\n",
            "Requirement already satisfied: flatbuffers>=23.5.26 in /usr/local/lib/python3.10/dist-packages (from tensorflow) (23.5.26)\n",
            "Requirement already satisfied: gast!=0.5.0,!=0.5.1,!=0.5.2,>=0.2.1 in /usr/local/lib/python3.10/dist-packages (from tensorflow) (0.5.4)\n",
            "Requirement already satisfied: google-pasta>=0.1.1 in /usr/local/lib/python3.10/dist-packages (from tensorflow) (0.2.0)\n",
            "Requirement already satisfied: h5py>=2.9.0 in /usr/local/lib/python3.10/dist-packages (from tensorflow) (3.9.0)\n",
            "Requirement already satisfied: libclang>=13.0.0 in /usr/local/lib/python3.10/dist-packages (from tensorflow) (16.0.6)\n",
            "Requirement already satisfied: ml-dtypes==0.2.0 in /usr/local/lib/python3.10/dist-packages (from tensorflow) (0.2.0)\n",
            "Requirement already satisfied: numpy>=1.23.5 in /usr/local/lib/python3.10/dist-packages (from tensorflow) (1.23.5)\n",
            "Requirement already satisfied: opt-einsum>=2.3.2 in /usr/local/lib/python3.10/dist-packages (from tensorflow) (3.3.0)\n",
            "Requirement already satisfied: packaging in /usr/local/lib/python3.10/dist-packages (from tensorflow) (23.2)\n",
            "Requirement already satisfied: protobuf!=4.21.0,!=4.21.1,!=4.21.2,!=4.21.3,!=4.21.4,!=4.21.5,<5.0.0dev,>=3.20.3 in /usr/local/lib/python3.10/dist-packages (from tensorflow) (3.20.3)\n",
            "Requirement already satisfied: setuptools in /usr/local/lib/python3.10/dist-packages (from tensorflow) (67.7.2)\n",
            "Requirement already satisfied: six>=1.12.0 in /usr/local/lib/python3.10/dist-packages (from tensorflow) (1.16.0)\n",
            "Requirement already satisfied: termcolor>=1.1.0 in /usr/local/lib/python3.10/dist-packages (from tensorflow) (2.3.0)\n",
            "Requirement already satisfied: typing-extensions>=3.6.6 in /usr/local/lib/python3.10/dist-packages (from tensorflow) (4.5.0)\n",
            "Requirement already satisfied: wrapt<1.15,>=1.11.0 in /usr/local/lib/python3.10/dist-packages (from tensorflow) (1.14.1)\n",
            "Requirement already satisfied: tensorflow-io-gcs-filesystem>=0.23.1 in /usr/local/lib/python3.10/dist-packages (from tensorflow) (0.34.0)\n",
            "Requirement already satisfied: grpcio<2.0,>=1.24.3 in /usr/local/lib/python3.10/dist-packages (from tensorflow) (1.59.2)\n",
            "Requirement already satisfied: tensorboard<2.15,>=2.14 in /usr/local/lib/python3.10/dist-packages (from tensorflow) (2.14.1)\n",
            "Requirement already satisfied: tensorflow-estimator<2.15,>=2.14.0 in /usr/local/lib/python3.10/dist-packages (from tensorflow) (2.14.0)\n",
            "Requirement already satisfied: keras<2.15,>=2.14.0 in /usr/local/lib/python3.10/dist-packages (from tensorflow) (2.14.0)\n",
            "Requirement already satisfied: wheel<1.0,>=0.23.0 in /usr/local/lib/python3.10/dist-packages (from astunparse>=1.6.0->tensorflow) (0.41.3)\n",
            "Requirement already satisfied: google-auth<3,>=1.6.3 in /usr/local/lib/python3.10/dist-packages (from tensorboard<2.15,>=2.14->tensorflow) (2.17.3)\n",
            "Requirement already satisfied: google-auth-oauthlib<1.1,>=0.5 in /usr/local/lib/python3.10/dist-packages (from tensorboard<2.15,>=2.14->tensorflow) (1.0.0)\n",
            "Requirement already satisfied: markdown>=2.6.8 in /usr/local/lib/python3.10/dist-packages (from tensorboard<2.15,>=2.14->tensorflow) (3.5.1)\n",
            "Requirement already satisfied: requests<3,>=2.21.0 in /usr/local/lib/python3.10/dist-packages (from tensorboard<2.15,>=2.14->tensorflow) (2.31.0)\n",
            "Requirement already satisfied: tensorboard-data-server<0.8.0,>=0.7.0 in /usr/local/lib/python3.10/dist-packages (from tensorboard<2.15,>=2.14->tensorflow) (0.7.2)\n",
            "Requirement already satisfied: werkzeug>=1.0.1 in /usr/local/lib/python3.10/dist-packages (from tensorboard<2.15,>=2.14->tensorflow) (3.0.1)\n",
            "Requirement already satisfied: cachetools<6.0,>=2.0.0 in /usr/local/lib/python3.10/dist-packages (from google-auth<3,>=1.6.3->tensorboard<2.15,>=2.14->tensorflow) (5.3.2)\n",
            "Requirement already satisfied: pyasn1-modules>=0.2.1 in /usr/local/lib/python3.10/dist-packages (from google-auth<3,>=1.6.3->tensorboard<2.15,>=2.14->tensorflow) (0.3.0)\n",
            "Requirement already satisfied: rsa<5,>=3.1.4 in /usr/local/lib/python3.10/dist-packages (from google-auth<3,>=1.6.3->tensorboard<2.15,>=2.14->tensorflow) (4.9)\n",
            "Requirement already satisfied: requests-oauthlib>=0.7.0 in /usr/local/lib/python3.10/dist-packages (from google-auth-oauthlib<1.1,>=0.5->tensorboard<2.15,>=2.14->tensorflow) (1.3.1)\n",
            "Requirement already satisfied: charset-normalizer<4,>=2 in /usr/local/lib/python3.10/dist-packages (from requests<3,>=2.21.0->tensorboard<2.15,>=2.14->tensorflow) (3.3.2)\n",
            "Requirement already satisfied: idna<4,>=2.5 in /usr/local/lib/python3.10/dist-packages (from requests<3,>=2.21.0->tensorboard<2.15,>=2.14->tensorflow) (3.4)\n",
            "Requirement already satisfied: urllib3<3,>=1.21.1 in /usr/local/lib/python3.10/dist-packages (from requests<3,>=2.21.0->tensorboard<2.15,>=2.14->tensorflow) (2.0.7)\n",
            "Requirement already satisfied: certifi>=2017.4.17 in /usr/local/lib/python3.10/dist-packages (from requests<3,>=2.21.0->tensorboard<2.15,>=2.14->tensorflow) (2023.7.22)\n",
            "Requirement already satisfied: MarkupSafe>=2.1.1 in /usr/local/lib/python3.10/dist-packages (from werkzeug>=1.0.1->tensorboard<2.15,>=2.14->tensorflow) (2.1.3)\n",
            "Requirement already satisfied: pyasn1<0.6.0,>=0.4.6 in /usr/local/lib/python3.10/dist-packages (from pyasn1-modules>=0.2.1->google-auth<3,>=1.6.3->tensorboard<2.15,>=2.14->tensorflow) (0.5.0)\n",
            "Requirement already satisfied: oauthlib>=3.0.0 in /usr/local/lib/python3.10/dist-packages (from requests-oauthlib>=0.7.0->google-auth-oauthlib<1.1,>=0.5->tensorboard<2.15,>=2.14->tensorflow) (3.2.2)\n"
          ]
        }
      ]
    },
    {
      "cell_type": "code",
      "source": [
        "pip install tqdm"
      ],
      "metadata": {
        "id": "ORIfQL77raLJ"
      },
      "execution_count": null,
      "outputs": []
    },
    {
      "cell_type": "code",
      "source": [
        "train_data = pd.read_csv('/content/drive/MyDrive/lolgallData_train.csv', encoding='cp949')\n",
        "test_data = pd.read_csv('/content/drive/MyDrive/nlp_datasets_test.csv', encoding='cp949')\n"
      ],
      "metadata": {
        "id": "fSqSjgH7yNNB"
      },
      "execution_count": null,
      "outputs": []
    },
    {
      "cell_type": "code",
      "source": [
        "print('훈련용 리뷰 개수 :',len(train_data)) # 훈련용 리뷰 개수 출력\n"
      ],
      "metadata": {
        "colab": {
          "base_uri": "https://localhost:8080/"
        },
        "id": "es0bDkTX0aJs",
        "outputId": "5a49b133-ce47-4649-c10b-aec9708a2ff7"
      },
      "execution_count": null,
      "outputs": [
        {
          "output_type": "stream",
          "name": "stdout",
          "text": [
            "훈련용 리뷰 개수 : 6964\n"
          ]
        }
      ]
    },
    {
      "cell_type": "code",
      "source": [
        "train_data[:5] # 상위 5개 출력\n"
      ],
      "metadata": {
        "colab": {
          "base_uri": "https://localhost:8080/",
          "height": 206
        },
        "id": "xsdXRH-r0cwG",
        "outputId": "6294319e-9302-4dc3-d99c-01435401508b"
      },
      "execution_count": null,
      "outputs": [
        {
          "output_type": "execute_result",
          "data": {
            "text/plain": [
              "                                  title  labels\n",
              "0                     KT는 내년이 진짜 지옥이겠는데     1.0\n",
              "1                        Kt는 남은 애들 데려와라     1.0\n",
              "2                    월즈 2번먹기가 존나 빡세네 진짜     1.0\n",
              "3                          젠지 트로피는 도난당함     1.0\n",
              "4  작년이나 올해나 롤드컵 때 어떤 기적 같은 걸 본 거 같음....     1.0"
            ],
            "text/html": [
              "\n",
              "  <div id=\"df-21d92e22-b137-4855-b71d-79fe197b7fd2\" class=\"colab-df-container\">\n",
              "    <div>\n",
              "<style scoped>\n",
              "    .dataframe tbody tr th:only-of-type {\n",
              "        vertical-align: middle;\n",
              "    }\n",
              "\n",
              "    .dataframe tbody tr th {\n",
              "        vertical-align: top;\n",
              "    }\n",
              "\n",
              "    .dataframe thead th {\n",
              "        text-align: right;\n",
              "    }\n",
              "</style>\n",
              "<table border=\"1\" class=\"dataframe\">\n",
              "  <thead>\n",
              "    <tr style=\"text-align: right;\">\n",
              "      <th></th>\n",
              "      <th>title</th>\n",
              "      <th>labels</th>\n",
              "    </tr>\n",
              "  </thead>\n",
              "  <tbody>\n",
              "    <tr>\n",
              "      <th>0</th>\n",
              "      <td>KT는 내년이 진짜 지옥이겠는데</td>\n",
              "      <td>1.0</td>\n",
              "    </tr>\n",
              "    <tr>\n",
              "      <th>1</th>\n",
              "      <td>Kt는 남은 애들 데려와라</td>\n",
              "      <td>1.0</td>\n",
              "    </tr>\n",
              "    <tr>\n",
              "      <th>2</th>\n",
              "      <td>월즈 2번먹기가 존나 빡세네 진짜</td>\n",
              "      <td>1.0</td>\n",
              "    </tr>\n",
              "    <tr>\n",
              "      <th>3</th>\n",
              "      <td>젠지 트로피는 도난당함</td>\n",
              "      <td>1.0</td>\n",
              "    </tr>\n",
              "    <tr>\n",
              "      <th>4</th>\n",
              "      <td>작년이나 올해나 롤드컵 때 어떤 기적 같은 걸 본 거 같음....</td>\n",
              "      <td>1.0</td>\n",
              "    </tr>\n",
              "  </tbody>\n",
              "</table>\n",
              "</div>\n",
              "    <div class=\"colab-df-buttons\">\n",
              "\n",
              "  <div class=\"colab-df-container\">\n",
              "    <button class=\"colab-df-convert\" onclick=\"convertToInteractive('df-21d92e22-b137-4855-b71d-79fe197b7fd2')\"\n",
              "            title=\"Convert this dataframe to an interactive table.\"\n",
              "            style=\"display:none;\">\n",
              "\n",
              "  <svg xmlns=\"http://www.w3.org/2000/svg\" height=\"24px\" viewBox=\"0 -960 960 960\">\n",
              "    <path d=\"M120-120v-720h720v720H120Zm60-500h600v-160H180v160Zm220 220h160v-160H400v160Zm0 220h160v-160H400v160ZM180-400h160v-160H180v160Zm440 0h160v-160H620v160ZM180-180h160v-160H180v160Zm440 0h160v-160H620v160Z\"/>\n",
              "  </svg>\n",
              "    </button>\n",
              "\n",
              "  <style>\n",
              "    .colab-df-container {\n",
              "      display:flex;\n",
              "      gap: 12px;\n",
              "    }\n",
              "\n",
              "    .colab-df-convert {\n",
              "      background-color: #E8F0FE;\n",
              "      border: none;\n",
              "      border-radius: 50%;\n",
              "      cursor: pointer;\n",
              "      display: none;\n",
              "      fill: #1967D2;\n",
              "      height: 32px;\n",
              "      padding: 0 0 0 0;\n",
              "      width: 32px;\n",
              "    }\n",
              "\n",
              "    .colab-df-convert:hover {\n",
              "      background-color: #E2EBFA;\n",
              "      box-shadow: 0px 1px 2px rgba(60, 64, 67, 0.3), 0px 1px 3px 1px rgba(60, 64, 67, 0.15);\n",
              "      fill: #174EA6;\n",
              "    }\n",
              "\n",
              "    .colab-df-buttons div {\n",
              "      margin-bottom: 4px;\n",
              "    }\n",
              "\n",
              "    [theme=dark] .colab-df-convert {\n",
              "      background-color: #3B4455;\n",
              "      fill: #D2E3FC;\n",
              "    }\n",
              "\n",
              "    [theme=dark] .colab-df-convert:hover {\n",
              "      background-color: #434B5C;\n",
              "      box-shadow: 0px 1px 3px 1px rgba(0, 0, 0, 0.15);\n",
              "      filter: drop-shadow(0px 1px 2px rgba(0, 0, 0, 0.3));\n",
              "      fill: #FFFFFF;\n",
              "    }\n",
              "  </style>\n",
              "\n",
              "    <script>\n",
              "      const buttonEl =\n",
              "        document.querySelector('#df-21d92e22-b137-4855-b71d-79fe197b7fd2 button.colab-df-convert');\n",
              "      buttonEl.style.display =\n",
              "        google.colab.kernel.accessAllowed ? 'block' : 'none';\n",
              "\n",
              "      async function convertToInteractive(key) {\n",
              "        const element = document.querySelector('#df-21d92e22-b137-4855-b71d-79fe197b7fd2');\n",
              "        const dataTable =\n",
              "          await google.colab.kernel.invokeFunction('convertToInteractive',\n",
              "                                                    [key], {});\n",
              "        if (!dataTable) return;\n",
              "\n",
              "        const docLinkHtml = 'Like what you see? Visit the ' +\n",
              "          '<a target=\"_blank\" href=https://colab.research.google.com/notebooks/data_table.ipynb>data table notebook</a>'\n",
              "          + ' to learn more about interactive tables.';\n",
              "        element.innerHTML = '';\n",
              "        dataTable['output_type'] = 'display_data';\n",
              "        await google.colab.output.renderOutput(dataTable, element);\n",
              "        const docLink = document.createElement('div');\n",
              "        docLink.innerHTML = docLinkHtml;\n",
              "        element.appendChild(docLink);\n",
              "      }\n",
              "    </script>\n",
              "  </div>\n",
              "\n",
              "\n",
              "<div id=\"df-2755b6d8-021d-4f91-a1e1-980b7d5ed583\">\n",
              "  <button class=\"colab-df-quickchart\" onclick=\"quickchart('df-2755b6d8-021d-4f91-a1e1-980b7d5ed583')\"\n",
              "            title=\"Suggest charts\"\n",
              "            style=\"display:none;\">\n",
              "\n",
              "<svg xmlns=\"http://www.w3.org/2000/svg\" height=\"24px\"viewBox=\"0 0 24 24\"\n",
              "     width=\"24px\">\n",
              "    <g>\n",
              "        <path d=\"M19 3H5c-1.1 0-2 .9-2 2v14c0 1.1.9 2 2 2h14c1.1 0 2-.9 2-2V5c0-1.1-.9-2-2-2zM9 17H7v-7h2v7zm4 0h-2V7h2v10zm4 0h-2v-4h2v4z\"/>\n",
              "    </g>\n",
              "</svg>\n",
              "  </button>\n",
              "\n",
              "<style>\n",
              "  .colab-df-quickchart {\n",
              "      --bg-color: #E8F0FE;\n",
              "      --fill-color: #1967D2;\n",
              "      --hover-bg-color: #E2EBFA;\n",
              "      --hover-fill-color: #174EA6;\n",
              "      --disabled-fill-color: #AAA;\n",
              "      --disabled-bg-color: #DDD;\n",
              "  }\n",
              "\n",
              "  [theme=dark] .colab-df-quickchart {\n",
              "      --bg-color: #3B4455;\n",
              "      --fill-color: #D2E3FC;\n",
              "      --hover-bg-color: #434B5C;\n",
              "      --hover-fill-color: #FFFFFF;\n",
              "      --disabled-bg-color: #3B4455;\n",
              "      --disabled-fill-color: #666;\n",
              "  }\n",
              "\n",
              "  .colab-df-quickchart {\n",
              "    background-color: var(--bg-color);\n",
              "    border: none;\n",
              "    border-radius: 50%;\n",
              "    cursor: pointer;\n",
              "    display: none;\n",
              "    fill: var(--fill-color);\n",
              "    height: 32px;\n",
              "    padding: 0;\n",
              "    width: 32px;\n",
              "  }\n",
              "\n",
              "  .colab-df-quickchart:hover {\n",
              "    background-color: var(--hover-bg-color);\n",
              "    box-shadow: 0 1px 2px rgba(60, 64, 67, 0.3), 0 1px 3px 1px rgba(60, 64, 67, 0.15);\n",
              "    fill: var(--button-hover-fill-color);\n",
              "  }\n",
              "\n",
              "  .colab-df-quickchart-complete:disabled,\n",
              "  .colab-df-quickchart-complete:disabled:hover {\n",
              "    background-color: var(--disabled-bg-color);\n",
              "    fill: var(--disabled-fill-color);\n",
              "    box-shadow: none;\n",
              "  }\n",
              "\n",
              "  .colab-df-spinner {\n",
              "    border: 2px solid var(--fill-color);\n",
              "    border-color: transparent;\n",
              "    border-bottom-color: var(--fill-color);\n",
              "    animation:\n",
              "      spin 1s steps(1) infinite;\n",
              "  }\n",
              "\n",
              "  @keyframes spin {\n",
              "    0% {\n",
              "      border-color: transparent;\n",
              "      border-bottom-color: var(--fill-color);\n",
              "      border-left-color: var(--fill-color);\n",
              "    }\n",
              "    20% {\n",
              "      border-color: transparent;\n",
              "      border-left-color: var(--fill-color);\n",
              "      border-top-color: var(--fill-color);\n",
              "    }\n",
              "    30% {\n",
              "      border-color: transparent;\n",
              "      border-left-color: var(--fill-color);\n",
              "      border-top-color: var(--fill-color);\n",
              "      border-right-color: var(--fill-color);\n",
              "    }\n",
              "    40% {\n",
              "      border-color: transparent;\n",
              "      border-right-color: var(--fill-color);\n",
              "      border-top-color: var(--fill-color);\n",
              "    }\n",
              "    60% {\n",
              "      border-color: transparent;\n",
              "      border-right-color: var(--fill-color);\n",
              "    }\n",
              "    80% {\n",
              "      border-color: transparent;\n",
              "      border-right-color: var(--fill-color);\n",
              "      border-bottom-color: var(--fill-color);\n",
              "    }\n",
              "    90% {\n",
              "      border-color: transparent;\n",
              "      border-bottom-color: var(--fill-color);\n",
              "    }\n",
              "  }\n",
              "</style>\n",
              "\n",
              "  <script>\n",
              "    async function quickchart(key) {\n",
              "      const quickchartButtonEl =\n",
              "        document.querySelector('#' + key + ' button');\n",
              "      quickchartButtonEl.disabled = true;  // To prevent multiple clicks.\n",
              "      quickchartButtonEl.classList.add('colab-df-spinner');\n",
              "      try {\n",
              "        const charts = await google.colab.kernel.invokeFunction(\n",
              "            'suggestCharts', [key], {});\n",
              "      } catch (error) {\n",
              "        console.error('Error during call to suggestCharts:', error);\n",
              "      }\n",
              "      quickchartButtonEl.classList.remove('colab-df-spinner');\n",
              "      quickchartButtonEl.classList.add('colab-df-quickchart-complete');\n",
              "    }\n",
              "    (() => {\n",
              "      let quickchartButtonEl =\n",
              "        document.querySelector('#df-2755b6d8-021d-4f91-a1e1-980b7d5ed583 button');\n",
              "      quickchartButtonEl.style.display =\n",
              "        google.colab.kernel.accessAllowed ? 'block' : 'none';\n",
              "    })();\n",
              "  </script>\n",
              "</div>\n",
              "    </div>\n",
              "  </div>\n"
            ]
          },
          "metadata": {},
          "execution_count": 30
        }
      ]
    },
    {
      "cell_type": "code",
      "source": [
        "print('테스트용 리뷰 개수 :',len(test_data)) # 테스트용 리뷰 개수 출력\n",
        "test_data[:5]"
      ],
      "metadata": {
        "colab": {
          "base_uri": "https://localhost:8080/",
          "height": 224
        },
        "id": "GLsGMatq0oH3",
        "outputId": "88068d84-615e-4007-f6bf-3ad815bba228"
      },
      "execution_count": null,
      "outputs": [
        {
          "output_type": "stream",
          "name": "stdout",
          "text": [
            "테스트용 리뷰 개수 : 3175\n"
          ]
        },
        {
          "output_type": "execute_result",
          "data": {
            "text/plain": [
              "                              title  labels\n",
              "0  아니 킅도 lpl 다 만나는데 젠지는 올해 blg가 끝이네       1\n",
              "1              요즘 진짜 젠마카세 보는 낙으로 산다       1\n",
              "2            병신들 이제 피넛 없어서 놀이터도 못먹어       0\n",
              "3                    젠지 팀컬러가 왜 도둑임?       1\n",
              "4                                꺄악       1"
            ],
            "text/html": [
              "\n",
              "  <div id=\"df-432886e1-070b-4394-a026-1e6018e35b91\" class=\"colab-df-container\">\n",
              "    <div>\n",
              "<style scoped>\n",
              "    .dataframe tbody tr th:only-of-type {\n",
              "        vertical-align: middle;\n",
              "    }\n",
              "\n",
              "    .dataframe tbody tr th {\n",
              "        vertical-align: top;\n",
              "    }\n",
              "\n",
              "    .dataframe thead th {\n",
              "        text-align: right;\n",
              "    }\n",
              "</style>\n",
              "<table border=\"1\" class=\"dataframe\">\n",
              "  <thead>\n",
              "    <tr style=\"text-align: right;\">\n",
              "      <th></th>\n",
              "      <th>title</th>\n",
              "      <th>labels</th>\n",
              "    </tr>\n",
              "  </thead>\n",
              "  <tbody>\n",
              "    <tr>\n",
              "      <th>0</th>\n",
              "      <td>아니 킅도 lpl 다 만나는데 젠지는 올해 blg가 끝이네</td>\n",
              "      <td>1</td>\n",
              "    </tr>\n",
              "    <tr>\n",
              "      <th>1</th>\n",
              "      <td>요즘 진짜 젠마카세 보는 낙으로 산다</td>\n",
              "      <td>1</td>\n",
              "    </tr>\n",
              "    <tr>\n",
              "      <th>2</th>\n",
              "      <td>병신들 이제 피넛 없어서 놀이터도 못먹어</td>\n",
              "      <td>0</td>\n",
              "    </tr>\n",
              "    <tr>\n",
              "      <th>3</th>\n",
              "      <td>젠지 팀컬러가 왜 도둑임?</td>\n",
              "      <td>1</td>\n",
              "    </tr>\n",
              "    <tr>\n",
              "      <th>4</th>\n",
              "      <td>꺄악</td>\n",
              "      <td>1</td>\n",
              "    </tr>\n",
              "  </tbody>\n",
              "</table>\n",
              "</div>\n",
              "    <div class=\"colab-df-buttons\">\n",
              "\n",
              "  <div class=\"colab-df-container\">\n",
              "    <button class=\"colab-df-convert\" onclick=\"convertToInteractive('df-432886e1-070b-4394-a026-1e6018e35b91')\"\n",
              "            title=\"Convert this dataframe to an interactive table.\"\n",
              "            style=\"display:none;\">\n",
              "\n",
              "  <svg xmlns=\"http://www.w3.org/2000/svg\" height=\"24px\" viewBox=\"0 -960 960 960\">\n",
              "    <path d=\"M120-120v-720h720v720H120Zm60-500h600v-160H180v160Zm220 220h160v-160H400v160Zm0 220h160v-160H400v160ZM180-400h160v-160H180v160Zm440 0h160v-160H620v160ZM180-180h160v-160H180v160Zm440 0h160v-160H620v160Z\"/>\n",
              "  </svg>\n",
              "    </button>\n",
              "\n",
              "  <style>\n",
              "    .colab-df-container {\n",
              "      display:flex;\n",
              "      gap: 12px;\n",
              "    }\n",
              "\n",
              "    .colab-df-convert {\n",
              "      background-color: #E8F0FE;\n",
              "      border: none;\n",
              "      border-radius: 50%;\n",
              "      cursor: pointer;\n",
              "      display: none;\n",
              "      fill: #1967D2;\n",
              "      height: 32px;\n",
              "      padding: 0 0 0 0;\n",
              "      width: 32px;\n",
              "    }\n",
              "\n",
              "    .colab-df-convert:hover {\n",
              "      background-color: #E2EBFA;\n",
              "      box-shadow: 0px 1px 2px rgba(60, 64, 67, 0.3), 0px 1px 3px 1px rgba(60, 64, 67, 0.15);\n",
              "      fill: #174EA6;\n",
              "    }\n",
              "\n",
              "    .colab-df-buttons div {\n",
              "      margin-bottom: 4px;\n",
              "    }\n",
              "\n",
              "    [theme=dark] .colab-df-convert {\n",
              "      background-color: #3B4455;\n",
              "      fill: #D2E3FC;\n",
              "    }\n",
              "\n",
              "    [theme=dark] .colab-df-convert:hover {\n",
              "      background-color: #434B5C;\n",
              "      box-shadow: 0px 1px 3px 1px rgba(0, 0, 0, 0.15);\n",
              "      filter: drop-shadow(0px 1px 2px rgba(0, 0, 0, 0.3));\n",
              "      fill: #FFFFFF;\n",
              "    }\n",
              "  </style>\n",
              "\n",
              "    <script>\n",
              "      const buttonEl =\n",
              "        document.querySelector('#df-432886e1-070b-4394-a026-1e6018e35b91 button.colab-df-convert');\n",
              "      buttonEl.style.display =\n",
              "        google.colab.kernel.accessAllowed ? 'block' : 'none';\n",
              "\n",
              "      async function convertToInteractive(key) {\n",
              "        const element = document.querySelector('#df-432886e1-070b-4394-a026-1e6018e35b91');\n",
              "        const dataTable =\n",
              "          await google.colab.kernel.invokeFunction('convertToInteractive',\n",
              "                                                    [key], {});\n",
              "        if (!dataTable) return;\n",
              "\n",
              "        const docLinkHtml = 'Like what you see? Visit the ' +\n",
              "          '<a target=\"_blank\" href=https://colab.research.google.com/notebooks/data_table.ipynb>data table notebook</a>'\n",
              "          + ' to learn more about interactive tables.';\n",
              "        element.innerHTML = '';\n",
              "        dataTable['output_type'] = 'display_data';\n",
              "        await google.colab.output.renderOutput(dataTable, element);\n",
              "        const docLink = document.createElement('div');\n",
              "        docLink.innerHTML = docLinkHtml;\n",
              "        element.appendChild(docLink);\n",
              "      }\n",
              "    </script>\n",
              "  </div>\n",
              "\n",
              "\n",
              "<div id=\"df-e6e5cabd-f315-40e9-8428-aebe84ddd661\">\n",
              "  <button class=\"colab-df-quickchart\" onclick=\"quickchart('df-e6e5cabd-f315-40e9-8428-aebe84ddd661')\"\n",
              "            title=\"Suggest charts\"\n",
              "            style=\"display:none;\">\n",
              "\n",
              "<svg xmlns=\"http://www.w3.org/2000/svg\" height=\"24px\"viewBox=\"0 0 24 24\"\n",
              "     width=\"24px\">\n",
              "    <g>\n",
              "        <path d=\"M19 3H5c-1.1 0-2 .9-2 2v14c0 1.1.9 2 2 2h14c1.1 0 2-.9 2-2V5c0-1.1-.9-2-2-2zM9 17H7v-7h2v7zm4 0h-2V7h2v10zm4 0h-2v-4h2v4z\"/>\n",
              "    </g>\n",
              "</svg>\n",
              "  </button>\n",
              "\n",
              "<style>\n",
              "  .colab-df-quickchart {\n",
              "      --bg-color: #E8F0FE;\n",
              "      --fill-color: #1967D2;\n",
              "      --hover-bg-color: #E2EBFA;\n",
              "      --hover-fill-color: #174EA6;\n",
              "      --disabled-fill-color: #AAA;\n",
              "      --disabled-bg-color: #DDD;\n",
              "  }\n",
              "\n",
              "  [theme=dark] .colab-df-quickchart {\n",
              "      --bg-color: #3B4455;\n",
              "      --fill-color: #D2E3FC;\n",
              "      --hover-bg-color: #434B5C;\n",
              "      --hover-fill-color: #FFFFFF;\n",
              "      --disabled-bg-color: #3B4455;\n",
              "      --disabled-fill-color: #666;\n",
              "  }\n",
              "\n",
              "  .colab-df-quickchart {\n",
              "    background-color: var(--bg-color);\n",
              "    border: none;\n",
              "    border-radius: 50%;\n",
              "    cursor: pointer;\n",
              "    display: none;\n",
              "    fill: var(--fill-color);\n",
              "    height: 32px;\n",
              "    padding: 0;\n",
              "    width: 32px;\n",
              "  }\n",
              "\n",
              "  .colab-df-quickchart:hover {\n",
              "    background-color: var(--hover-bg-color);\n",
              "    box-shadow: 0 1px 2px rgba(60, 64, 67, 0.3), 0 1px 3px 1px rgba(60, 64, 67, 0.15);\n",
              "    fill: var(--button-hover-fill-color);\n",
              "  }\n",
              "\n",
              "  .colab-df-quickchart-complete:disabled,\n",
              "  .colab-df-quickchart-complete:disabled:hover {\n",
              "    background-color: var(--disabled-bg-color);\n",
              "    fill: var(--disabled-fill-color);\n",
              "    box-shadow: none;\n",
              "  }\n",
              "\n",
              "  .colab-df-spinner {\n",
              "    border: 2px solid var(--fill-color);\n",
              "    border-color: transparent;\n",
              "    border-bottom-color: var(--fill-color);\n",
              "    animation:\n",
              "      spin 1s steps(1) infinite;\n",
              "  }\n",
              "\n",
              "  @keyframes spin {\n",
              "    0% {\n",
              "      border-color: transparent;\n",
              "      border-bottom-color: var(--fill-color);\n",
              "      border-left-color: var(--fill-color);\n",
              "    }\n",
              "    20% {\n",
              "      border-color: transparent;\n",
              "      border-left-color: var(--fill-color);\n",
              "      border-top-color: var(--fill-color);\n",
              "    }\n",
              "    30% {\n",
              "      border-color: transparent;\n",
              "      border-left-color: var(--fill-color);\n",
              "      border-top-color: var(--fill-color);\n",
              "      border-right-color: var(--fill-color);\n",
              "    }\n",
              "    40% {\n",
              "      border-color: transparent;\n",
              "      border-right-color: var(--fill-color);\n",
              "      border-top-color: var(--fill-color);\n",
              "    }\n",
              "    60% {\n",
              "      border-color: transparent;\n",
              "      border-right-color: var(--fill-color);\n",
              "    }\n",
              "    80% {\n",
              "      border-color: transparent;\n",
              "      border-right-color: var(--fill-color);\n",
              "      border-bottom-color: var(--fill-color);\n",
              "    }\n",
              "    90% {\n",
              "      border-color: transparent;\n",
              "      border-bottom-color: var(--fill-color);\n",
              "    }\n",
              "  }\n",
              "</style>\n",
              "\n",
              "  <script>\n",
              "    async function quickchart(key) {\n",
              "      const quickchartButtonEl =\n",
              "        document.querySelector('#' + key + ' button');\n",
              "      quickchartButtonEl.disabled = true;  // To prevent multiple clicks.\n",
              "      quickchartButtonEl.classList.add('colab-df-spinner');\n",
              "      try {\n",
              "        const charts = await google.colab.kernel.invokeFunction(\n",
              "            'suggestCharts', [key], {});\n",
              "      } catch (error) {\n",
              "        console.error('Error during call to suggestCharts:', error);\n",
              "      }\n",
              "      quickchartButtonEl.classList.remove('colab-df-spinner');\n",
              "      quickchartButtonEl.classList.add('colab-df-quickchart-complete');\n",
              "    }\n",
              "    (() => {\n",
              "      let quickchartButtonEl =\n",
              "        document.querySelector('#df-e6e5cabd-f315-40e9-8428-aebe84ddd661 button');\n",
              "      quickchartButtonEl.style.display =\n",
              "        google.colab.kernel.accessAllowed ? 'block' : 'none';\n",
              "    })();\n",
              "  </script>\n",
              "</div>\n",
              "    </div>\n",
              "  </div>\n"
            ]
          },
          "metadata": {},
          "execution_count": 31
        }
      ]
    },
    {
      "cell_type": "code",
      "source": [
        "# document 열과 label 열의 중복을 제외한 값의 개수\n",
        "train_data['title'].nunique(), train_data['labels'].nunique()"
      ],
      "metadata": {
        "colab": {
          "base_uri": "https://localhost:8080/"
        },
        "id": "JL89Mcp83C4N",
        "outputId": "b88855b1-2f9b-4485-8614-6ad10b08ba3f"
      },
      "execution_count": null,
      "outputs": [
        {
          "output_type": "execute_result",
          "data": {
            "text/plain": [
              "(6724, 2)"
            ]
          },
          "metadata": {},
          "execution_count": 32
        }
      ]
    },
    {
      "cell_type": "code",
      "source": [
        "# document 열의 중복 제거\n",
        "train_data.drop_duplicates(subset=['title'], inplace=True)"
      ],
      "metadata": {
        "id": "bZO4VX2j4T4n"
      },
      "execution_count": null,
      "outputs": []
    },
    {
      "cell_type": "code",
      "source": [
        "print('총 샘플의 수 :',len(train_data))\n"
      ],
      "metadata": {
        "colab": {
          "base_uri": "https://localhost:8080/"
        },
        "id": "WJvX4WLb4XYi",
        "outputId": "439bff74-8803-4b26-952b-1fc99576f4df"
      },
      "execution_count": null,
      "outputs": [
        {
          "output_type": "stream",
          "name": "stdout",
          "text": [
            "총 샘플의 수 : 6724\n"
          ]
        }
      ]
    },
    {
      "cell_type": "code",
      "source": [
        "train_data['labels'].value_counts().plot(kind = 'bar')\n"
      ],
      "metadata": {
        "colab": {
          "base_uri": "https://localhost:8080/",
          "height": 456
        },
        "id": "-GHNvoXV4ZOh",
        "outputId": "335cdf59-0549-484a-ce7e-d8846f8bbc64"
      },
      "execution_count": null,
      "outputs": [
        {
          "output_type": "execute_result",
          "data": {
            "text/plain": [
              "<Axes: >"
            ]
          },
          "metadata": {},
          "execution_count": 35
        },
        {
          "output_type": "display_data",
          "data": {
            "text/plain": [
              "<Figure size 640x480 with 1 Axes>"
            ],
            "image/png": "[encoded data removed]"
          },
          "metadata": {}
        }
      ]
    },
    {
      "cell_type": "code",
      "source": [
        "print(train_data.groupby('labels').size().reset_index(name = 'count'))"
      ],
      "metadata": {
        "colab": {
          "base_uri": "https://localhost:8080/"
        },
        "id": "kq2Dyf9i72Cz",
        "outputId": "074e6231-6360-48f5-e551-778ddc831daf"
      },
      "execution_count": null,
      "outputs": [
        {
          "output_type": "stream",
          "name": "stdout",
          "text": [
            "   labels  count\n",
            "0     0.0   1717\n",
            "1     1.0   5006\n"
          ]
        }
      ]
    },
    {
      "cell_type": "code",
      "source": [
        "print(train_data.isnull().values.any())\n"
      ],
      "metadata": {
        "colab": {
          "base_uri": "https://localhost:8080/"
        },
        "id": "nJdOz8T37-W2",
        "outputId": "bb81676a-3b7c-4247-e84e-9bea8ce3ee36"
      },
      "execution_count": null,
      "outputs": [
        {
          "output_type": "stream",
          "name": "stdout",
          "text": [
            "True\n"
          ]
        }
      ]
    },
    {
      "cell_type": "code",
      "source": [
        "print(train_data.isnull().sum())"
      ],
      "metadata": {
        "colab": {
          "base_uri": "https://localhost:8080/"
        },
        "id": "Ja86fim28AsY",
        "outputId": "34b5c901-6619-4db7-c4a0-8e9a0f92bbd9"
      },
      "execution_count": null,
      "outputs": [
        {
          "output_type": "stream",
          "name": "stdout",
          "text": [
            "title     0\n",
            "labels    1\n",
            "dtype: int64\n"
          ]
        }
      ]
    },
    {
      "cell_type": "code",
      "source": [
        "print(len(train_data))\n"
      ],
      "metadata": {
        "colab": {
          "base_uri": "https://localhost:8080/"
        },
        "id": "zPDhD8KT8D_i",
        "outputId": "ce55a174-920a-4bae-8d50-a69035e6f0af"
      },
      "execution_count": null,
      "outputs": [
        {
          "output_type": "stream",
          "name": "stdout",
          "text": [
            "6724\n"
          ]
        }
      ]
    },
    {
      "cell_type": "code",
      "source": [
        "#알파벳과 공백을 제외하고 모두 제거\n",
        "eng_text = 'do!!! you expect... people~ to~ read~ the FAQ, etc. and actually accept hard~! atheism?@@'\n",
        "print(re.sub(r'[^a-zA-Z ]', '', eng_text))"
      ],
      "metadata": {
        "colab": {
          "base_uri": "https://localhost:8080/"
        },
        "id": "PPq_VTQL8Ljy",
        "outputId": "0c0296f9-201d-47ee-e82d-4db6364b1bf3"
      },
      "execution_count": null,
      "outputs": [
        {
          "output_type": "stream",
          "name": "stdout",
          "text": [
            "do you expect people to read the FAQ etc and actually accept hard atheism\n"
          ]
        }
      ]
    },
    {
      "cell_type": "code",
      "source": [
        "# 한글과 공백을 제외하고 모두 제거\n",
        "train_data['title'] = train_data['title'].str.replace(\"[^ㄱ-ㅎㅏ-ㅣ가-힣 ]\",\"\")\n",
        "train_data[:5]"
      ],
      "metadata": {
        "colab": {
          "base_uri": "https://localhost:8080/",
          "height": 242
        },
        "id": "_5D1LxiR8SUv",
        "outputId": "9e3af922-227e-4456-ba22-683c2ebbb4be"
      },
      "execution_count": null,
      "outputs": [
        {
          "output_type": "stream",
          "name": "stderr",
          "text": [
            "<ipython-input-41-b2619cd119b6>:2: FutureWarning: The default value of regex will change from True to False in a future version.\n",
            "  train_data['title'] = train_data['title'].str.replace(\"[^ㄱ-ㅎㅏ-ㅣ가-힣 ]\",\"\")\n"
          ]
        },
        {
          "output_type": "execute_result",
          "data": {
            "text/plain": [
              "                              title  labels\n",
              "0                   는 내년이 진짜 지옥이겠는데     1.0\n",
              "1                      는 남은 애들 데려와라     1.0\n",
              "2                 월즈 번먹기가 존나 빡세네 진짜     1.0\n",
              "3                      젠지 트로피는 도난당함     1.0\n",
              "4  작년이나 올해나 롤드컵 때 어떤 기적 같은 걸 본 거 같음     1.0"
            ],
            "text/html": [
              "\n",
              "  <div id=\"df-22736dd9-cd0a-4e52-a5d5-de24ac54263f\" class=\"colab-df-container\">\n",
              "    <div>\n",
              "<style scoped>\n",
              "    .dataframe tbody tr th:only-of-type {\n",
              "        vertical-align: middle;\n",
              "    }\n",
              "\n",
              "    .dataframe tbody tr th {\n",
              "        vertical-align: top;\n",
              "    }\n",
              "\n",
              "    .dataframe thead th {\n",
              "        text-align: right;\n",
              "    }\n",
              "</style>\n",
              "<table border=\"1\" class=\"dataframe\">\n",
              "  <thead>\n",
              "    <tr style=\"text-align: right;\">\n",
              "      <th></th>\n",
              "      <th>title</th>\n",
              "      <th>labels</th>\n",
              "    </tr>\n",
              "  </thead>\n",
              "  <tbody>\n",
              "    <tr>\n",
              "      <th>0</th>\n",
              "      <td>는 내년이 진짜 지옥이겠는데</td>\n",
              "      <td>1.0</td>\n",
              "    </tr>\n",
              "    <tr>\n",
              "      <th>1</th>\n",
              "      <td>는 남은 애들 데려와라</td>\n",
              "      <td>1.0</td>\n",
              "    </tr>\n",
              "    <tr>\n",
              "      <th>2</th>\n",
              "      <td>월즈 번먹기가 존나 빡세네 진짜</td>\n",
              "      <td>1.0</td>\n",
              "    </tr>\n",
              "    <tr>\n",
              "      <th>3</th>\n",
              "      <td>젠지 트로피는 도난당함</td>\n",
              "      <td>1.0</td>\n",
              "    </tr>\n",
              "    <tr>\n",
              "      <th>4</th>\n",
              "      <td>작년이나 올해나 롤드컵 때 어떤 기적 같은 걸 본 거 같음</td>\n",
              "      <td>1.0</td>\n",
              "    </tr>\n",
              "  </tbody>\n",
              "</table>\n",
              "</div>\n",
              "    <div class=\"colab-df-buttons\">\n",
              "\n",
              "  <div class=\"colab-df-container\">\n",
              "    <button class=\"colab-df-convert\" onclick=\"convertToInteractive('df-22736dd9-cd0a-4e52-a5d5-de24ac54263f')\"\n",
              "            title=\"Convert this dataframe to an interactive table.\"\n",
              "            style=\"display:none;\">\n",
              "\n",
              "  <svg xmlns=\"http://www.w3.org/2000/svg\" height=\"24px\" viewBox=\"0 -960 960 960\">\n",
              "    <path d=\"M120-120v-720h720v720H120Zm60-500h600v-160H180v160Zm220 220h160v-160H400v160Zm0 220h160v-160H400v160ZM180-400h160v-160H180v160Zm440 0h160v-160H620v160ZM180-180h160v-160H180v160Zm440 0h160v-160H620v160Z\"/>\n",
              "  </svg>\n",
              "    </button>\n",
              "\n",
              "  <style>\n",
              "    .colab-df-container {\n",
              "      display:flex;\n",
              "      gap: 12px;\n",
              "    }\n",
              "\n",
              "    .colab-df-convert {\n",
              "      background-color: #E8F0FE;\n",
              "      border: none;\n",
              "      border-radius: 50%;\n",
              "      cursor: pointer;\n",
              "      display: none;\n",
              "      fill: #1967D2;\n",
              "      height: 32px;\n",
              "      padding: 0 0 0 0;\n",
              "      width: 32px;\n",
              "    }\n",
              "\n",
              "    .colab-df-convert:hover {\n",
              "      background-color: #E2EBFA;\n",
              "      box-shadow: 0px 1px 2px rgba(60, 64, 67, 0.3), 0px 1px 3px 1px rgba(60, 64, 67, 0.15);\n",
              "      fill: #174EA6;\n",
              "    }\n",
              "\n",
              "    .colab-df-buttons div {\n",
              "      margin-bottom: 4px;\n",
              "    }\n",
              "\n",
              "    [theme=dark] .colab-df-convert {\n",
              "      background-color: #3B4455;\n",
              "      fill: #D2E3FC;\n",
              "    }\n",
              "\n",
              "    [theme=dark] .colab-df-convert:hover {\n",
              "      background-color: #434B5C;\n",
              "      box-shadow: 0px 1px 3px 1px rgba(0, 0, 0, 0.15);\n",
              "      filter: drop-shadow(0px 1px 2px rgba(0, 0, 0, 0.3));\n",
              "      fill: #FFFFFF;\n",
              "    }\n",
              "  </style>\n",
              "\n",
              "    <script>\n",
              "      const buttonEl =\n",
              "        document.querySelector('#df-22736dd9-cd0a-4e52-a5d5-de24ac54263f button.colab-df-convert');\n",
              "      buttonEl.style.display =\n",
              "        google.colab.kernel.accessAllowed ? 'block' : 'none';\n",
              "\n",
              "      async function convertToInteractive(key) {\n",
              "        const element = document.querySelector('#df-22736dd9-cd0a-4e52-a5d5-de24ac54263f');\n",
              "        const dataTable =\n",
              "          await google.colab.kernel.invokeFunction('convertToInteractive',\n",
              "                                                    [key], {});\n",
              "        if (!dataTable) return;\n",
              "\n",
              "        const docLinkHtml = 'Like what you see? Visit the ' +\n",
              "          '<a target=\"_blank\" href=https://colab.research.google.com/notebooks/data_table.ipynb>data table notebook</a>'\n",
              "          + ' to learn more about interactive tables.';\n",
              "        element.innerHTML = '';\n",
              "        dataTable['output_type'] = 'display_data';\n",
              "        await google.colab.output.renderOutput(dataTable, element);\n",
              "        const docLink = document.createElement('div');\n",
              "        docLink.innerHTML = docLinkHtml;\n",
              "        element.appendChild(docLink);\n",
              "      }\n",
              "    </script>\n",
              "  </div>\n",
              "\n",
              "\n",
              "<div id=\"df-613875a1-06e5-4014-b67b-23cf0ca744ba\">\n",
              "  <button class=\"colab-df-quickchart\" onclick=\"quickchart('df-613875a1-06e5-4014-b67b-23cf0ca744ba')\"\n",
              "            title=\"Suggest charts\"\n",
              "            style=\"display:none;\">\n",
              "\n",
              "<svg xmlns=\"http://www.w3.org/2000/svg\" height=\"24px\"viewBox=\"0 0 24 24\"\n",
              "     width=\"24px\">\n",
              "    <g>\n",
              "        <path d=\"M19 3H5c-1.1 0-2 .9-2 2v14c0 1.1.9 2 2 2h14c1.1 0 2-.9 2-2V5c0-1.1-.9-2-2-2zM9 17H7v-7h2v7zm4 0h-2V7h2v10zm4 0h-2v-4h2v4z\"/>\n",
              "    </g>\n",
              "</svg>\n",
              "  </button>\n",
              "\n",
              "<style>\n",
              "  .colab-df-quickchart {\n",
              "      --bg-color: #E8F0FE;\n",
              "      --fill-color: #1967D2;\n",
              "      --hover-bg-color: #E2EBFA;\n",
              "      --hover-fill-color: #174EA6;\n",
              "      --disabled-fill-color: #AAA;\n",
              "      --disabled-bg-color: #DDD;\n",
              "  }\n",
              "\n",
              "  [theme=dark] .colab-df-quickchart {\n",
              "      --bg-color: #3B4455;\n",
              "      --fill-color: #D2E3FC;\n",
              "      --hover-bg-color: #434B5C;\n",
              "      --hover-fill-color: #FFFFFF;\n",
              "      --disabled-bg-color: #3B4455;\n",
              "      --disabled-fill-color: #666;\n",
              "  }\n",
              "\n",
              "  .colab-df-quickchart {\n",
              "    background-color: var(--bg-color);\n",
              "    border: none;\n",
              "    border-radius: 50%;\n",
              "    cursor: pointer;\n",
              "    display: none;\n",
              "    fill: var(--fill-color);\n",
              "    height: 32px;\n",
              "    padding: 0;\n",
              "    width: 32px;\n",
              "  }\n",
              "\n",
              "  .colab-df-quickchart:hover {\n",
              "    background-color: var(--hover-bg-color);\n",
              "    box-shadow: 0 1px 2px rgba(60, 64, 67, 0.3), 0 1px 3px 1px rgba(60, 64, 67, 0.15);\n",
              "    fill: var(--button-hover-fill-color);\n",
              "  }\n",
              "\n",
              "  .colab-df-quickchart-complete:disabled,\n",
              "  .colab-df-quickchart-complete:disabled:hover {\n",
              "    background-color: var(--disabled-bg-color);\n",
              "    fill: var(--disabled-fill-color);\n",
              "    box-shadow: none;\n",
              "  }\n",
              "\n",
              "  .colab-df-spinner {\n",
              "    border: 2px solid var(--fill-color);\n",
              "    border-color: transparent;\n",
              "    border-bottom-color: var(--fill-color);\n",
              "    animation:\n",
              "      spin 1s steps(1) infinite;\n",
              "  }\n",
              "\n",
              "  @keyframes spin {\n",
              "    0% {\n",
              "      border-color: transparent;\n",
              "      border-bottom-color: var(--fill-color);\n",
              "      border-left-color: var(--fill-color);\n",
              "    }\n",
              "    20% {\n",
              "      border-color: transparent;\n",
              "      border-left-color: var(--fill-color);\n",
              "      border-top-color: var(--fill-color);\n",
              "    }\n",
              "    30% {\n",
              "      border-color: transparent;\n",
              "      border-left-color: var(--fill-color);\n",
              "      border-top-color: var(--fill-color);\n",
              "      border-right-color: var(--fill-color);\n",
              "    }\n",
              "    40% {\n",
              "      border-color: transparent;\n",
              "      border-right-color: var(--fill-color);\n",
              "      border-top-color: var(--fill-color);\n",
              "    }\n",
              "    60% {\n",
              "      border-color: transparent;\n",
              "      border-right-color: var(--fill-color);\n",
              "    }\n",
              "    80% {\n",
              "      border-color: transparent;\n",
              "      border-right-color: var(--fill-color);\n",
              "      border-bottom-color: var(--fill-color);\n",
              "    }\n",
              "    90% {\n",
              "      border-color: transparent;\n",
              "      border-bottom-color: var(--fill-color);\n",
              "    }\n",
              "  }\n",
              "</style>\n",
              "\n",
              "  <script>\n",
              "    async function quickchart(key) {\n",
              "      const quickchartButtonEl =\n",
              "        document.querySelector('#' + key + ' button');\n",
              "      quickchartButtonEl.disabled = true;  // To prevent multiple clicks.\n",
              "      quickchartButtonEl.classList.add('colab-df-spinner');\n",
              "      try {\n",
              "        const charts = await google.colab.kernel.invokeFunction(\n",
              "            'suggestCharts', [key], {});\n",
              "      } catch (error) {\n",
              "        console.error('Error during call to suggestCharts:', error);\n",
              "      }\n",
              "      quickchartButtonEl.classList.remove('colab-df-spinner');\n",
              "      quickchartButtonEl.classList.add('colab-df-quickchart-complete');\n",
              "    }\n",
              "    (() => {\n",
              "      let quickchartButtonEl =\n",
              "        document.querySelector('#df-613875a1-06e5-4014-b67b-23cf0ca744ba button');\n",
              "      quickchartButtonEl.style.display =\n",
              "        google.colab.kernel.accessAllowed ? 'block' : 'none';\n",
              "    })();\n",
              "  </script>\n",
              "</div>\n",
              "    </div>\n",
              "  </div>\n"
            ]
          },
          "metadata": {},
          "execution_count": 41
        }
      ]
    },
    {
      "cell_type": "code",
      "source": [
        "train_data['title'] = train_data['title'].str.replace('^ +', \"\") # white space 데이터를 empty value로 변경\n",
        "train_data['title'].replace('', np.nan, inplace=True)\n",
        "print(train_data.isnull().sum())"
      ],
      "metadata": {
        "colab": {
          "base_uri": "https://localhost:8080/"
        },
        "id": "jUeyTXv68fOe",
        "outputId": "7aa39f3c-bcd3-4f02-9c2a-322dac203334"
      },
      "execution_count": null,
      "outputs": [
        {
          "output_type": "stream",
          "name": "stdout",
          "text": [
            "title     9\n",
            "labels    1\n",
            "dtype: int64\n"
          ]
        },
        {
          "output_type": "stream",
          "name": "stderr",
          "text": [
            "<ipython-input-42-ff19fde5b2ed>:1: FutureWarning: The default value of regex will change from True to False in a future version.\n",
            "  train_data['title'] = train_data['title'].str.replace('^ +', \"\") # white space 데이터를 empty value로 변경\n"
          ]
        }
      ]
    },
    {
      "cell_type": "code",
      "source": [
        "train_data = train_data.dropna(how = 'any')\n",
        "print(len(train_data))"
      ],
      "metadata": {
        "colab": {
          "base_uri": "https://localhost:8080/"
        },
        "id": "sBryFfus8uu0",
        "outputId": "19b0e6d0-e056-407d-947d-b351f14f9433"
      },
      "execution_count": null,
      "outputs": [
        {
          "output_type": "stream",
          "name": "stdout",
          "text": [
            "6714\n"
          ]
        }
      ]
    },
    {
      "cell_type": "code",
      "source": [
        "test_data.drop_duplicates(subset = ['title'], inplace=True) # title 열에서 중복인 내용이 있다면 중복 제거\n",
        "test_data['title'] = test_data['title'].str.replace(\"[^ㄱ-ㅎㅏ-ㅣ가-힣 ]\",\"\") # 정규 표현식 수행\n",
        "test_data['title'] = test_data['title'].str.replace('^ +', \"\") # 공백은 empty 값으로 변경\n",
        "test_data['title'].replace('', np.nan, inplace=True) # 공백은 Null 값으로 변경\n",
        "test_data = test_data.dropna(how='any') # Null 값 제거\n",
        "print('전처리 후 테스트용 샘플의 개수 :',len(test_data))"
      ],
      "metadata": {
        "colab": {
          "base_uri": "https://localhost:8080/"
        },
        "id": "OFtjoIfS8yUL",
        "outputId": "980f12de-c774-49ee-9332-f89fb12752eb"
      },
      "execution_count": null,
      "outputs": [
        {
          "output_type": "stream",
          "name": "stdout",
          "text": [
            "전처리 후 테스트용 샘플의 개수 : 3052\n"
          ]
        },
        {
          "output_type": "stream",
          "name": "stderr",
          "text": [
            "<ipython-input-44-8bbc6a3d92be>:2: FutureWarning: The default value of regex will change from True to False in a future version.\n",
            "  test_data['title'] = test_data['title'].str.replace(\"[^ㄱ-ㅎㅏ-ㅣ가-힣 ]\",\"\") # 정규 표현식 수행\n",
            "<ipython-input-44-8bbc6a3d92be>:3: FutureWarning: The default value of regex will change from True to False in a future version.\n",
            "  test_data['title'] = test_data['title'].str.replace('^ +', \"\") # 공백은 empty 값으로 변경\n"
          ]
        }
      ]
    },
    {
      "cell_type": "code",
      "source": [
        "stopwords = ['의','가','이','은','들','는','좀','잘','걍','과','도','를','으로','자','에','와','한','하다']\n"
      ],
      "metadata": {
        "id": "_lWt27Um9Lwq"
      },
      "execution_count": null,
      "outputs": []
    },
    {
      "cell_type": "code",
      "source": [
        "okt = Okt()\n",
        "okt.morphs('와 이런 것도 영화라고 차라리 뮤직비디오를 만드는 게 나을 뻔', stem = True)\n"
      ],
      "metadata": {
        "colab": {
          "base_uri": "https://localhost:8080/"
        },
        "id": "V-tbc5WT9OVh",
        "outputId": "e7e922c0-9c34-4984-bb7e-8d4abfb0b4e0"
      },
      "execution_count": null,
      "outputs": [
        {
          "output_type": "execute_result",
          "data": {
            "text/plain": [
              "['오다', '이렇다', '것', '도', '영화', '라고', '차라리', '뮤직비디오', '를', '만들다', '게', '나다', '뻔']"
            ]
          },
          "metadata": {},
          "execution_count": 46
        }
      ]
    },
    {
      "cell_type": "code",
      "source": [
        "X_train = []\n",
        "for sentence in tqdm(train_data['title']):\n",
        "    tokenized_sentence = okt.morphs(sentence, stem=True) # 토큰화\n",
        "    stopwords_removed_sentence = [word for word in tokenized_sentence if not word in stopwords] # 불용어 제거\n",
        "    X_train.append(stopwords_removed_sentence)"
      ],
      "metadata": {
        "colab": {
          "base_uri": "https://localhost:8080/"
        },
        "id": "xv-u4iy59YAd",
        "outputId": "cbe418a3-5ad6-421a-faa9-0409fe099e50"
      },
      "execution_count": null,
      "outputs": [
        {
          "output_type": "stream",
          "name": "stderr",
          "text": [
            "100%|██████████| 6714/6714 [00:12<00:00, 531.70it/s]\n"
          ]
        }
      ]
    },
    {
      "cell_type": "code",
      "source": [
        "print(X_train[3:6])\n"
      ],
      "metadata": {
        "colab": {
          "base_uri": "https://localhost:8080/"
        },
        "id": "BXHBbnKu9fob",
        "outputId": "db870266-f7f5-484f-efb1-c382dae09037"
      },
      "execution_count": null,
      "outputs": [
        {
          "output_type": "stream",
          "name": "stdout",
          "text": [
            "[['젠', '지', '트로피', '도난', '당하다'], ['작년', '이나', '올해', '나', '롤드컵', '때', '어떻다', '기적', '같다', '걸', '보다', '거', '같다'], ['사실', '순수', '젠', '지', '팬', '제일', '불쌍하다']]\n"
          ]
        }
      ]
    },
    {
      "cell_type": "code",
      "source": [
        "X_test = []\n",
        "for sentence in tqdm(test_data['title']):\n",
        "    tokenized_sentence = okt.morphs(sentence, stem=True) # 토큰화\n",
        "    stopwords_removed_sentence = [word for word in tokenized_sentence if not word in stopwords] # 불용어 제거\n",
        "    X_test.append(stopwords_removed_sentence)\n"
      ],
      "metadata": {
        "colab": {
          "base_uri": "https://localhost:8080/"
        },
        "id": "L8o6upWe9tnn",
        "outputId": "d525d68c-19c3-479e-ccb9-219670f3736e"
      },
      "execution_count": null,
      "outputs": [
        {
          "output_type": "stream",
          "name": "stderr",
          "text": [
            "100%|██████████| 3052/3052 [00:05<00:00, 556.28it/s]\n"
          ]
        }
      ]
    },
    {
      "cell_type": "code",
      "source": [
        "tokenizer = Tokenizer()\n",
        "tokenizer.fit_on_texts(X_train)\n"
      ],
      "metadata": {
        "id": "1WR1NYwA9yJU"
      },
      "execution_count": null,
      "outputs": []
    },
    {
      "cell_type": "code",
      "source": [
        "print(tokenizer.word_index)\n"
      ],
      "metadata": {
        "colab": {
          "base_uri": "https://localhost:8080/"
        },
        "id": "sWdKdNr29z1z",
        "outputId": "edb90caf-f6b2-4742-dd2a-a15c8dcb648d"
      },
      "execution_count": null,
      "outputs": [
        {
          "output_type": "stream",
          "name": "stdout",
          "text": [
            "{'젠': 1, '지': 2, '아니다': 3, '근데': 4, '쵸': 5, '보다': 6, '비다': 7, '팀': 8, '티원': 9, '임': 10, 'ㅋㅋ': 11, '즈': 12, '같다': 13, '없다': 14, '가다': 15, '진짜': 16, '페이커': 17, '있다': 18, '월': 19, '우승': 20, '되다': 21, '안': 22, '왜': 23, '다': 24, '한화': 25, '존나': 26, '거': 27, '아': 28, '을': 29, '못': 30, '개다': 31, 'ㅋㅋㅋ': 32, '만': 33, '내년': 34, '네': 35, '면': 36, 'ㄹㅇ': 37, '베릴': 38, '새끼': 39, '로': 40, '삼성': 41, '고': 42, '에서': 43, '제': 44, '오다': 45, '롤': 46, '년': 47, '이다': 48, '트로피': 49, '맞다': 50, '그냥': 51, '인데': 52, '선수': 53, '피넛': 54, '급': 55, '젠첩': 56, '함': 57, '제우스': 58, '언': 59, '칼': 60, '게': 61, '캐다': 62, '않다': 63, '들다': 64, '라스': 65, '지는': 66, 'ㅋㅋㅋㅋ': 67, '냐': 68, '기인': 69, '이유': 70, '개': 71, '먹다': 72, 'ㅇㅇ': 73, '원': 74, '알다': 75, '광동': 76, '더': 77, '지금': 78, '뭐': 79, '재계약': 80, '구': 81, '리헨즈': 82, '도란': 83, '오': 84, '나': 85, '한테': 86, '지다': 87, '별': 88, '때': 89, '전': 90, '랑': 91, '늘다': 92, '우승하다': 93, '애': 94, '올해': 95, '롤드컵': 96, '좋다': 97, '미드': 98, '담': 99, '리그': 100, '너': 101, '기': 102, 'ㅋㅋㅋㅋㅋ': 103, '크다': 104, '이랑': 105, '야': 106, '그렇다': 107, '카': 108, '삼': 109, '인': 110, '억': 111, '이번': 112, '생각': 113, '얘': 114, '터': 115, '케': 116, '팬': 117, '치다': 118, '나오다': 119, '하고': 120, '돈': 121, 'ㅈㄴ': 122, '이제': 123, '로스': 124, '이네': 125, '이기다': 126, '하': 127, '누가': 128, '케리': 129, '구마': 130, '갈다': 131, '말': 132, '저': 133, '컵': 134, '까지': 135, '탑': 136, '받다': 137, '평가': 138, '어떻다': 139, '슼갈들': 140, '중': 141, '회': 142, '페이': 143, '병신': 144, '적': 145, '그': 146, '버리다': 147, '안되다': 148, '계약': 149, '슼갈': 150, '많다': 151, '해주다': 152, '라': 153, '캐': 154, '슼': 155, '딱': 156, '좆': 157, '칸나': 158, '결승': 159, '진지하다': 160, '롤판': 161, '정글': 162, '유시': 163, '씨발': 164, '시즌': 165, '셜': 166, '솔직하다': 167, 'ㅋㅋㅋㅋㅋㅋ': 168, '강': 169, '연봉': 170, '서': 171, '젠마': 172, '확정': 173, '어디': 174, '난': 175, '정도': 176, '쇼메': 177, '모르다': 178, '데프트': 179, '나가다': 180, '웃기다': 181, '쓰다': 182, '성': 183, '룰러': 184, '비': 185, '무섭다': 186, '오피': 187, '돼다': 188, '시드': 189, '근본': 190, '뜨다': 191, '또': 192, '시발': 193, '스프링': 194, '표': 195, '부터': 196, '니까': 197, '누구': 198, '하나': 199, '주다': 200, '너무': 201, '빼다': 202, '인정': 203, '중국': 204, '딜': 205, '식': 206, '달다': 207, '거임': 208, '스토브': 209, '물로켓': 210, '권': 211, '라이엇': 212, '이지': 213, '수': 214, '그래서': 215, '명': 216, '이라': 217, '해보다': 218, '제일': 219, '끼다': 220, '많이': 221, '끄다': 222, '궁금하다': 223, '군': 224, '듯': 225, '점': 226, '쇼': 227, '뭔': 228, '내': 229, '박다': 230, '것': 231, '다른': 232, '계승': 233, '보고': 234, '단': 235, '연': 236, '팩트': 237, '기캐쵸페리': 238, '보': 239, '자다': 240, '남다': 241, '레전드': 242, '기대': 243, '징': 244, '라인': 245, '사실': 246, '슈퍼': 247, '유니폼': 248, '웃기': 249, '에도': 250, '이냐': 251, '디디': 252, '커리어': 253, '일': 254, '두': 255, '새': 256, '맘': 257, '속보': 258, '니': 259, '양': 260, '쎄다': 261, '그래도': 262, '스크림': 263, '불쌍하다': 264, '건': 265, '따다': 266, '싶다': 267, '개추': 268, '써다': 269, '영': 270, 'ㅋㅋㅋㅋㅋㅋㅋ': 271, '느낌': 272, '농심': 273, '밍': 274, '경기': 275, '씹다': 276, '만들다': 277, '은퇴': 278, '국제': 279, '젠장': 280, '역사': 281, '무관': 282, '확실하다': 283, '문제': 284, '리': 285, '전원': 286, '켈린': 287, '재밌다': 288, '라고': 289, '에이': 290, '대': 291, '위': 292, '입': 293, 'ㅈ': 294, '스킨': 295, '온': 296, '킹겐': 297, '놈': 298, '언제': 299, '감': 300, '같이': 301, '들이다': 302, '보이다': 303, '빨다': 304, '사다': 305, '잡다': 306, '터지다': 307, '화': 308, '플': 309, '인거': 310, '소리': 311, '담민': 312, '조마': 313, '동': 314, 'ㅋ': 315, '프로': 316, '몇': 317, '사람': 318, '얼마나': 319, '처럼': 320, '도피': 321, '탈출': 322, '오페': 323, '새다': 324, '번': 325, '기록': 326, '겜': 327, '게임': 328, '빨': 329, '다르다': 330, '대다': 331, '데': 332, '거지': 333, '인가': 334, '가능하다': 335, '한국': 336, '결국': 337, '브리': 338, '망하다': 339, '바이퍼': 340, '쓰리핏': 341, '위키': 342, '메이커': 343, '이렇게': 344, '내다': 345, '어디가': 346, '구단': 347, '역대': 348, '기다': 349, '중요하다': 350, '쉬': 351, '괜찮다': 352, '상': 353, '엔': 354, '실력': 355, '주': 356, '때문': 357, '놀이터': 358, '봄': 359, '씨맥': 360, '메타': 361, '별개': 362, '끝나다': 363, '장': 364, '나다': 365, '원래': 366, 'ㅋㅋㅋㅋㅋㅋㅋㅋ': 367, '바뀌다': 368, '킅': 369, '라는': 370, '갈드': 371, '지랄': 372, '조합': 373, '가면': 374, '아무리': 375, '이면': 376, '상체': 377, '필요하다': 378, '대인': 379, '엘': 380, '변화': 381, '이해': 382, '대단하다': 383, '서폿': 384, '한번': 385, '이라도': 386, '왤케': 387, '이라고': 388, '달': 389, '대체': 390, '시키다': 391, '입장': 392, '올리다': 393, '유지': 394, '증명': 395, '요': 396, '감독': 397, '당하다': 398, '이나': 399, '요즘': 400, '뭐임': 401, '혁': 402, '컷': 403, '쓸다': 404, '아직도': 405, '이건': 406, '긁다': 407, '보여주다': 408, '딮기': 409, '좋아하다': 410, '라인업': 411, '념글': 412, '원딜': 413, '미치다': 414, '월즈': 415, '그대로': 416, '넘다': 417, 'ㅋㅋㅋㅋㅋㅋㅋㅋㅋ': 418, '코치': 419, '멤버': 420, '폼': 421, '이상': 422, '작년': 423, '이미지': 424, '시절': 425, '론': 426, '본인': 427, '애초': 428, '밉다': 429, '해': 430, '이라는': 431, '짱깨': 432, '욕': 433, '솔랭': 434, 'ㄷㄷ': 435, '여기': 436, '밴픽': 437, '이고': 438, '년도': 439, '인기': 440, '깔다': 441, '뭔가': 442, '아무': 443, '이적': 444, '만나다': 445, '최고': 446, '체급': 447, '도르다': 448, '걸': 449, '삼화': 450, '세': 451, '의미': 452, '사': 453, '반박': 454, '간': 455, '지르다': 456, '인수': 457, '테디': 458, '바텀': 459, '대회': 460, '라이트': 461, '싫다': 462, '에선': 463, '이르다': 464, '없어지다': 465, '짜다': 466, '다음': 467, '말고': 468, '은근': 469, '인터뷰': 470, '영상': 471, '무조건': 472, '이야': 473, '노': 474, '역체': 475, '근황': 476, '찍다': 477, '전부': 478, '형': 479, '건가': 480, '저러다': 481, '대상': 482, '뒤지다': 483, '가능': 484, '등': 485, '티젠': 486, '데려오다': 487, '약': 488, '마다': 489, '개웃': 490, '기네': 491, '각': 492, '된거': 493, '자기': 494, '다시': 495, '무슨': 496, '부정': 497, '정리': 498, '글': 499, '젠까스': 500, '야하다': 501, '매물': 502, '갑자기': 503, '채다': 504, '이렇다': 505, '디': 506, '선택': 507, '탱': 508, '옵': 509, '뇌': 510, '멸망': 511, '톰': 512, '세트': 513, '박': 514, '패': 515, '시장': 516, '처': 517, 'ㅅㅂ': 518, '진열': 519, '웨이보': 520, '성적': 521, '족보': 522, '이상하다': 523, '바꾸다': 524, '팬덤': 525, '시': 526, '서부': 527, 'ㅋㅋㅋㅋㅋㅋㅋㅋㅋㅋ': 528, '바': 529, '에는': 530, '우리': 531, '맞추다': 532, '가장': 533, '쵸독들': 534, '짤': 535, '일단': 536, '가오': 537, '보임': 538, '도맘': 539, '빨리': 540, '동부': 541, '클로저': 542, '나무': 543, '생기다': 544, '기준': 545, '말다': 546, '메다': 547, '왜케': 548, '아직': 549, '논란': 550, '가보다': 551, '거품': 552, '거르': 553, '코': 554, '없이': 555, '해도': 556, '살다': 557, '순위': 558, '그거': 559, '잇다': 560, '개인': 561, '축리웹': 562, '김동준': 563, '노잼': 564, '지보': 565, '후': 566, '제리': 567, '김정균': 568, '웅기': 569, '정': 570, '빠지다': 571, '살': 572, '어케': 573, '느끼다': 574, '그렇게': 575, '마타': 576, '이노': 577, '벌써': 578, '모든': 579, '심하다': 580, '업보': 581, '찌다': 582, '대로': 583, '아가': 584, '인게': 585, '티': 586, '역겹다': 587, '숭배': 588, '간다': 589, '계속': 590, '오히려': 591, '님': 592, '딮': 593, '보단': 594, '하이재킹': 595, '줌': 596, '줄': 597, '스쿼드': 598, '신기하다': 599, '타': 600, '현': 601, '서다': 602, '이런': 603, '떠나다': 604, '이기': 605, '어차피': 606, '처음': 607, '음흉하다': 608, '어': 609, '볼': 610, '논리': 611, '아리': 612, '이름': 613, '찾다': 614, '벤치': 615, '어느': 616, '감코': 617, '호감': 618, '어딨다': 619, '높다': 620, '거의': 621, '찌라시': 622, '조': 623, '자체': 624, '해설': 625, '두다': 626, '오늘': 627, '갈이': 628, '씩': 629, '초': 630, '애매하다': 631, '신': 632, '붙다': 633, '인스타': 634, '좆망': 635, '칸': 636, '유관': 637, '얼마': 638, '윤민섭': 639, '다년': 640, '에이밍': 641, '혜지': 642, '앰비션': 643, '떼다': 644, '승': 645, '스포츠': 646, '남산': 647, '사라지다': 648, '주장': 649, '밖에': 650, '캐리': 651, '실시간': 652, '물어보다': 653, '엠비션': 654, '차다': 655, '지면': 656, '우승팀': 657, '넣다': 658, '듀렉스': 659, '반': 660, '국내': 661, '에서도': 662, '자리': 663, '얘기': 664, '낭만': 665, '라도': 666, '호소': 667, '킹': 668, '순': 669, '양심': 670, '서머': 671, '멀다': 672, '마지막': 673, '자꾸': 674, '날': 675, '떨어지다': 676, '력': 677, '쮀스': 678, '억이': 679, '들어오다': 680, '분': 681, '순수': 682, '포트': 683, 'ㅋㅋㅋㅋㅋㅋㅋㅋㅋㅋㅋㅋ': 684, '적다': 685, '든': 686, '비비다': 687, '카이': 688, '케빈': 689, '대우': 690, '제발': 691, '디플': 692, '겠다': 693, '차이': 694, '판': 695, '본': 696, '추가': 697, '옛날': 698, '돌리다': 699, '발': 700, '관심': 701, '별로': 702, '재창': 703, '싸다': 704, '안좋다': 705, '이란': 706, '현재': 707, '치면': 708, '게이': 709, '이형': 710, '따르다': 711, '유일하다': 712, '기습': 713, '그리다': 714, '샤': 715, '모두': 716, '타령': 717, '인증': 718, '세체': 719, '옵션': 720, '프런트': 721, '세다': 722, '상황': 723, '공식': 724, '항상': 725, '동전': 726, '절대': 727, '해체': 728, '보내다': 729, '뭘': 730, '싫어하다': 731, '분위기': 732, '올': 733, '준비': 734, '다운': 735, '부르다': 736, '약하다': 737, '티어': 738, '뱅': 739, '데려가다': 740, '페이즈': 741, '방송': 742, '순간': 743, '가슴': 744, '스타': 745, '상위': 746, '아예': 747, '근': 748, '커즈': 749, '여자': 750, '나비': 751, '앞': 752, '밀다': 753, '닉': 754, '제대로': 755, '음흉': 756, '인지': 757, '이야기': 758, '도대체': 759, '가져오다': 760, '운': 761, '라이너': 762, '사옥': 763, '로고': 764, '꼬마': 765, '스폰서': 766, '기사': 767, 'ㅋㅋㅋㅋㅋㅋㅋㅋㅋㅋㅋㅋㅋ': 768, '여': 769, '걸리다': 770, '바로': 771, '무서움': 772, '최강': 773, '둘': 774, '오후': 775, '범인': 776, 'ㅇㅈㄹ': 777, '부품': 778, '머': 779, '끼리': 780, '젤': 781, '위해': 782, '전성기': 783, '선': 784, '꺾다': 785, '상대': 786, '피셜': 787, '되어다': 788, '복귀': 789, '만에': 790, '그레이드': 791, '전이': 792, '의외로': 793, '예상': 794, '햄': 795, '넛신': 796, '기대다': 797, '기자': 798, '소식': 799, '폿': 800, '광': 801, '콜업': 802, '싸움': 803, '스폰지': 804, '타다': 805, '스폰': 806, '까스': 807, '지도': 808, '멋있다': 809, '땐': 810, '나대다': 811, '황': 812, '스카웃': 813, '막다': 814, '당연하다': 815, '팀임': 816, '빈': 817, '답': 818, '루': 819, '낫다': 820, '지리': 821, '연속': 822, '락스': 823, '가지': 824, '배다': 825, '쉬다': 826, '법': 827, '묻다': 828, 'ㄷ': 829, '전신': 830, '사이': 831, '수준': 832, '진심': 833, '박아': 834, '씨': 835, '도전': 836, '젠전드': 837, '나머지': 838, '만약': 839, '데뷔': 840, '하노': 841, '풀리다': 842, '요약': 843, '믿다': 844, '요청': 845, '알': 846, '제외': 847, '쟤': 848, '왤다': 849, '대충': 850, '에게': 851, '개좆': 852, '운영': 853, '무력': 854, '관계자': 855, '쯤': 856, '아쉽다': 857, '응원': 858, '불다': 859, '덕담': 860, 'ㅋㅋㅋㅋㅋㅋㅋㅋㅋㅋㅋ': 861, '성불': 862, '인생': 863, '오래': 864, '더샤이': 865, '컬': 866, '통나무': 867, '상위호환': 868, '밈': 869, '스읍': 870, '서포터': 871, '듀': 872, '튜브': 873, '리액션': 874, '주한': 875, '움': 876, '슼마갤': 877, '남': 878, '남자': 879, '올라오다': 880, '돈까스': 881, '산': 882, '리턴': 883, '럼': 884, '과거': 885, '맛있다': 886, '창': 887, '지우': 888, '그니까': 889, '한다는': 890, '필요없다': 891, '짓': 892, '피': 893, '힘들다': 894, '역시': 895, '안타깝다': 896, '결승전': 897, '이후': 898, '관계': 899, '현실': 900, '꼬감': 901, '싸우다': 902, '포기': 903, '롤컵': 904, '이즈': 905, '크라운': 906, '강팀': 907, '비교': 908, '에서는': 909, '쪽': 910, '지리다': 911, '무': 912, '키': 913, '그슬': 914, '팔': 915, '시작': 916, '모으다': 917, '어케됨': 918, '뭐라다': 919, '동안': 920, '방': 921, '뛰다': 922, '놓다': 923, '날다': 924, '여론': 925, '끝': 926, '잡히다': 927, '입하': 928, '클템': 929, '까진': 930, '보이': 931, '출신': 932, '라면': 933, '완료': 934, '걸다': 935, '꾸다': 936, '역체탑': 937, '흑자': 938, '능력': 939, '탈': 940, '이벤트': 941, '히': 942, '유튜브': 943, '페독': 944, '재미': 945, '절반': 946, '쵸독': 947, '들어가다': 948, '어떡하다': 949, '최악': 950, '역': 951, '가능성': 952, '수도': 953, '사건': 954, '지만': 955, '박히다': 956, '마카': 957, '비유': 958, '드': 959, '발표': 960, '이지만': 961, '행복': 962, '어렵다': 963, '다니다': 964, '기아': 965, '갖다': 966, '미래': 967, '뽑다': 968, '티저': 969, '개좆슼': 970, '날조': 971, '훔치다': 972, '그래그래': 973, 'ㅋㅋㅋㅋㅋㅋㅋㅋㅋㅋㅋㅋㅋㅋㅋ': 974, '가져가다': 975, '분들': 976, 'ㅋㅋㅋㅋㅋㅋㅋㅋㅋㅋㅋㅋㅋㅋ': 977, '프차': 978, '해외': 979, '똑똑하다': 980, '페이트': 981, '본사': 982, '사고': 983, '생각나다': 984, '사진': 985, '정보': 986, '안함': 987, '나쁘다': 988, '따리': 989, '하위': 990, '완장': 991, '악물다': 992, '충': 993, '떡밥': 994, '만능': 995, '재다': 996, '진출': 997, '저렇게': 998, '제바': 999, '맨': 1000, '집착': 1001, '이미': 1002, '먹음': 1003, '갤럭시': 1004, '메이킹': 1005, '만하': 1006, '어제': 1007, '플레임': 1008, '사기': 1009, '스': 1010, '근들갑': 1011, '성공하다': 1012, '얼굴': 1013, '나이': 1014, '호령': 1015, '투표': 1016, '유기': 1017, '마': 1018, '계': 1019, '듀오': 1020, '즙': 1021, '아놀드': 1022, '거절': 1023, '도망가다': 1024, '펨코': 1025, '딱하다': 1026, '사과': 1027, '예정': 1028, '아깝다': 1029, '레클레스': 1030, '행복하다': 1031, '딮마갤': 1032, '세계': 1033, '저격': 1034, '승패': 1035, '니깐': 1036, '언급': 1037, '정상': 1038, '유입': 1039, '동맹': 1040, '바보': 1041, '풀다': 1042, '팀팬': 1043, '커뮤': 1044, '혼자': 1045, '데리': 1046, '반지원정대': 1047, '언도': 1048, '곳': 1049, '프레임': 1050, '라이': 1051, '다이아': 1052, '단독': 1053, '콜': 1054, '뎊': 1055, '우': 1056, '원하다': 1057, '나름': 1058, '돌다': 1059, '김정수': 1060, '팔팔이': 1061, '사령관': 1062, '투': 1063, '내리다': 1064, '손목': 1065, '듀렉': 1066, '페리': 1067, '유': 1068, '안감': 1069, '슼팬들': 1070, '욕심': 1071, '저렇다': 1072, '만큼': 1073, '매': 1074, '무시': 1075, '핏': 1076, '문서': 1077, '아트': 1078, '추다': 1079, '붙이다': 1080, '햇': 1081, '내보내다': 1082, '그러니까': 1083, '몇개': 1084, '달라': 1085, '동빈': 1086, '꽤': 1087, '메인': 1088, '엿': 1089, '젠무': 1090, '악질': 1091, '약점': 1092, '사례': 1093, '마르다': 1094, '와중': 1095, '싹': 1096, '부럽다': 1097, '열등감': 1098, '젠북': 1099, '공정': 1100, '재': 1101, '지우다': 1102, '먼저': 1103, '머임': 1104, '시간': 1105, '대대': 1106, '파크': 1107, '래': 1108, '꺼': 1109, '실화': 1110, '키우다': 1111, '딮민이들': 1112, '죽이다': 1113, '뜸': 1114, '왕': 1115, '놓치다': 1116, '챔프': 1117, '밸런스': 1118, '쌔': 1119, '적임': 1120, '약간': 1121, '테': 1122, '지네': 1123, '깝': 1124, '울프': 1125, '담당': 1126, '슥': 1127, '추천': 1128, '존재': 1129, '똑같다': 1130, '거리': 1131, '죄': 1132, '투자': 1133, '욕먹다': 1134, '아시안': 1135, '그리핀': 1136, '대가리': 1137, '노비': 1138, '엄청': 1139, '비슷하다': 1140, '쌓다': 1141, '이니': 1142, '서로': 1143, '예전': 1144, '이스포츠': 1145, '힘': 1146, '역사상': 1147, '딱이다': 1148, '꼴': 1149, '보기': 1150, '상관없다': 1151, '종신': 1152, '왕따': 1153, '새롭다': 1154, '유출': 1155, '안해': 1156, '최초': 1157, '포지션': 1158, '머리': 1159, '배': 1160, '잘알다': 1161, '담다': 1162, '꾸리다': 1163, '돌아오다': 1164, '컨셉': 1165, '반응': 1166, '경': 1167, '냉정하다': 1168, '재능': 1169, '한젠': 1170, '벤픽': 1171, '너구리': 1172, '급임': 1173, '클리': 1174, '유럽': 1175, '표정': 1176, '루머': 1177, '대신': 1178, '길': 1179, '사랑': 1180, '하위호환': 1181, '뭐노': 1182, '갈아타다': 1183, '퇴': 1184, '아프리카': 1185, '결정': 1186, '꿀잼': 1187, '지로': 1188, '꼬': 1189, '라지': 1190, '토스': 1191, '대황': 1192, '버스': 1193, '응기': 1194, '잠수': 1195, '업글': 1196, '구도': 1197, '업다': 1198, '시계': 1199, '막': 1200, '말년': 1201, '강등': 1202, '스폰지밥': 1203, '뿐': 1204, '몇번': 1205, '째': 1206, '죄다': 1207, '질문': 1208, '회로': 1209, '실제': 1210, '돌아가다': 1211, '평생': 1212, '로드': 1213, '불가': 1214, '야구': 1215, '님들': 1216, '거도': 1217, '전시': 1218, '작': 1219, '어감': 1220, '로만': 1221, '던데': 1222, '유저': 1223, '매번': 1224, '합류': 1225, '히오스': 1226, '어디서': 1227, '옴': 1228, '모음': 1229, '왕조': 1230, '뻔하다': 1231, '전혀': 1232, '신경': 1233, '준우승': 1234, '대놓고': 1235, '근대': 1236, '짱': 1237, '증거': 1238, '쓰레기': 1239, '고르다': 1240, '합리': 1241, '솔': 1242, '업적': 1243, '시위': 1244, '그만': 1245, '포비': 1246, '저런': 1247, '클럽': 1248, '노리다': 1249, '달성': 1250, '벌다': 1251, '스펙': 1252, '빼먹다': 1253, '어쩔': 1254, '다가': 1255, '이니까': 1256, '희망': 1257, '논쟁': 1258, '플레이': 1259, '충격': 1260, '금액': 1261, '블': 1262, '취급': 1263, '저능': 1264, '건지다': 1265, '누누': 1266, '음': 1267, '죽다': 1268, '변하다': 1269, '전적': 1270, '눈': 1271, '편': 1272, '더니': 1273, '나은': 1274, '공론': 1275, '여서': 1276, '라서': 1277, '진지': 1278, '닫다': 1279, '모': 1280, '놀라다': 1281, '선수단': 1282, '위치': 1283, '착하다': 1284, '곧': 1285, '짐': 1286, '애가': 1287, '이리': 1288, '훨씬': 1289, '케이스': 1290, '뿐이다': 1291, '슬슬': 1292, '시각': 1293, '배우다': 1294, '목록': 1295, '걱정': 1296, '귀엽다': 1297, '물': 1298, '정해지다': 1299, '별명': 1300, '플러스': 1301, '린': 1302, '방출': 1303, '웃음': 1304, '벨': 1305, '퍼스트': 1306, '업그레이드': 1307, '가치': 1308, '횟수': 1309, '대상혁': 1310, '회수': 1311, '오피셜': 1312, '완전': 1313, '정규': 1314, '낮다': 1315, '뺏다': 1316, '기회': 1317, '한정': 1318, '전환': 1319, '낫': 1320, '협상': 1321, '상자': 1322, '목': 1323, '공개': 1324, '강전': 1325, '되게': 1326, '후반': 1327, '신인': 1328, '은애': 1329, '마유': 1330, '웃다': 1331, '면제': 1332, '유망': 1333, '라이프': 1334, '그랜드슬램': 1335, '문현준': 1336, '서사': 1337, '지훈': 1338, '년전': 1339, '감다': 1340, '갓': 1341, '자르반': 1342, '칼날': 1343, '가나': 1344, '가위바위보': 1345, '당시': 1346, '내부': 1347, '속': 1348, 'ㅋㅋㅋㅋㅋㅋㅋㅋㅋㅋㅋㅋㅋㅋㅋㅋ': 1349, '정지훈': 1350, '가스': 1351, '참다': 1352, '북미': 1353, '퍼펙트': 1354, '리헨': 1355, '칼리': 1356, '픽': 1357, '수가': 1358, '상대로': 1359, '단어': 1360, '담젠': 1361, '폭': 1362, '객관': 1363, '점점': 1364, '대가': 1365, '루시드': 1366, '늘리다': 1367, '웹툰': 1368, '도넛': 1369, '화나다': 1370, '고스트': 1371, '자원': 1372, '완성': 1373, '유스': 1374, '진': 1375, '존': 1376, '팅': 1377, '호피': 1378, '리뷰': 1379, '도요타': 1380, '빡세': 1381, '따로': 1382, '무지': 1383, '코인': 1384, '특': 1385, '팍': 1386, '놀랍다': 1387, 'ㅠㅠ': 1388, '영어': 1389, '쉐프': 1390, '거기': 1391, '볼때': 1392, '비호감': 1393, '정신병': 1394, '부활': 1395, '슼전드': 1396, '관리': 1397, '굳다': 1398, '감당': 1399, '루키': 1400, '도인': 1401, '건부': 1402, '박살': 1403, '고함': 1404, '으': 1405, '멸망하다': 1406, '쓰리다': 1407, '멍청하다': 1408, '느껴지다': 1409, '라스트': 1410, '댄스': 1411, '찍히다': 1412, '딸': 1413, '댓': 1414, '필요': 1415, '조용하다': 1416, '일도': 1417, '덜': 1418, 'ㅂㅅ': 1419, '가보': 1420, '부리다': 1421, '꿈': 1422, '멋': 1423, '레': 1424, '설마': 1425, '얼': 1426, '진성': 1427, '넥센': 1428, '방법': 1429, '채우다': 1430, '지나가다': 1431, '창고': 1432, '집': 1433, '성인': 1434, '감동': 1435, '회임': 1436, '행보': 1437, '아끼다': 1438, '결론': 1439, '구단주': 1440, '이쁘다': 1441, '양대': 1442, '응': 1443, '녀': 1444, '우승자': 1445, '서커스': 1446, '견': 1447, '리딸': 1448, '잭스': 1449, '작다': 1450, '괜히': 1451, '발리다': 1452, '일이': 1453, '최대': 1454, '드립': 1455, '누': 1456, '자랑': 1457, '월드컵': 1458, '떳다': 1459, '대전': 1460, '밥': 1461, '주인': 1462, '리치': 1463, '리카': 1464, '광고': 1465, '긔': 1466, '몸값': 1467, '완벽하다': 1468, '쵸구케': 1469, '분명': 1470, '킹존': 1471, '당당하다': 1472, '살벌하다': 1473, '순수하다': 1474, '그러면': 1475, '자료': 1476, '아마': 1477, '없애다': 1478, '베다': 1479, '시너지': 1480, '몰다': 1481, '꼭': 1482, '치고': 1483, '암만': 1484, '까지는': 1485, '이딴': 1486, '본적': 1487, '소름': 1488, '돋다': 1489, '케니언': 1490, '후원': 1491, '밝혀지다': 1492, '슬': 1493, '덥다': 1494, '라니까': 1495, '쿠로': 1496, '몸': 1497, '혹시': 1498, '삼블': 1499, '산다': 1500, '도둑': 1501, '양반': 1502, '갱': 1503, '대포': 1504, '나진': 1505, 'ㅡㅡ': 1506, '지표': 1507, '어울리다': 1508, '한해': 1509, '몹': 1510, '판도': 1511, '문': 1512, '마냥': 1513, '억울하다': 1514, '려면': 1515, '대기업': 1516, '매년': 1517, '잃다': 1518, '아가리': 1519, '농': 1520, '안다': 1521, '기분': 1522, '생명': 1523, '협곡': 1524, '행세': 1525, '갈아': 1526, '축구': 1527, '억지': 1528, '이구나': 1529, '템': 1530, '한텐': 1531, '본체': 1532, '판단': 1533, '예쁘다': 1534, '한마디': 1535, '리드': 1536, '마인드': 1537, 'ㅈㄹ': 1538, '기본': 1539, '떼': 1540, '소신': 1541, '발언': 1542, '나라': 1543, '나중': 1544, '떳': 1545, '오브': 1546, '경쟁': 1547, '거피': 1548, '옆': 1549, '배면': 1550, '상혁': 1551, '첫': 1552, '제시': 1553, '만족하다': 1554, '최소': 1555, '편임': 1556, '대표': 1557, '이득': 1558, '엉덩이': 1559, '짤녀': 1560, '많아지다': 1561, '적자': 1562, '신계': 1563, '진입': 1564, '마우스': 1565, '길다': 1566, '겨울': 1567, '의외': 1568, '브론즈': 1569, '올라가다': 1570, '분해': 1571, '깨달': 1572, '올인': 1573, '사오다': 1574, '빠르다': 1575, '도움': 1576, '호우': 1577, '손': 1578, '닉네임': 1579, '이상호': 1580, '챌린저스': 1581, '사치': 1582, '골든': 1583, '다행': 1584, '닮다': 1585, '그림': 1586, '평균': 1587, '보다도': 1588, '물다': 1589, '군대': 1590, '셋': 1591, '가성': 1592, '개꿀잼': 1593, '등급': 1594, '내내': 1595, '죽': 1596, '차이점': 1597, '신검': 1598, '후회': 1599, '끼': 1600, '쵸비': 1601, '기간': 1602, '제도': 1603, '페까': 1604, '어이없다': 1605, '매치': 1606, '캡': 1607, '졸라': 1608, '성장': 1609, '갈리다': 1610, '꺽마햄': 1611, '화가': 1612, '민지': 1613, '서브': 1614, '갈수': 1615, '민섭': 1616, '멋지다': 1617, '박진혁': 1618, '아칼리': 1619, '고맙다': 1620, '그레이': 1621, '식다': 1622, '울다': 1623, '셈': 1624, '대리': 1625, '하루': 1626, '구케': 1627, '리핸즈': 1628, '원장': 1629, '치': 1630, '교전': 1631, '듣다': 1632, '약해지다': 1633, '확률': 1634, '털리다': 1635, '독주': 1636, '신나다': 1637, '핵심': 1638, '카나': 1639, '담그다': 1640, '딮민': 1641, '왕호': 1642, '너프': 1643, '설': 1644, '딜라': 1645, '안보': 1646, '후보': 1647, 'ㅅㅌㅊ': 1648, '일본': 1649, '두두': 1650, '백수': 1651, '실패하다': 1652, '차라리': 1653, '동준': 1654, '기피': 1655, '단합': 1656, '베테': 1657, '메': 1658, '점심': 1659, '극': 1660, '먹기': 1661, '기적': 1662, '너무하다': 1663, '인들': 1664, '떡': 1665, '견제': 1666, '압도': 1667, '즈그': 1668, '남산젠까스': 1669, '전무후무': 1670, '커지다': 1671, '퍼표비뎊베': 1672, '가도': 1673, '알아보다': 1674, '어이': 1675, '존경': 1676, '스럽다': 1677, '물량': 1678, '지고': 1679, '포인트': 1680, '급하다': 1681, '다큐': 1682, '쫓아내다': 1683, '어그': 1684, '설명': 1685, '굳이': 1686, '이래서': 1687, 'ㅇㅈ': 1688, '새삼': 1689, '보고오다': 1690, '그나마': 1691, '프': 1692, '제작': 1693, '그게': 1694, '전제': 1695, '아프다': 1696, '빼': 1697, '별도': 1698, '오자': 1699, '문득': 1700, '타이거즈': 1701, '근거': 1702, '아오': 1703, '늙다': 1704, '난리': 1705, '저번': 1706, '개막': 1707, '압수': 1708, '마임': 1709, '아무튼': 1710, '맛': 1711, '반납': 1712, '확인': 1713, '맨날': 1714, '씌우다': 1715, '관련': 1716, '쉴드치다': 1717, '좃': 1718, '불': 1719, '따라가다': 1720, '무능하다': 1721, '드리다': 1722, '인사': 1723, '실버': 1724, '디디다': 1725, '늘': 1726, '골드': 1727, '사정': 1728, '긴장': 1729, '디코': 1730, '기도': 1731, '힘드다': 1732, '안남다': 1733, '하필': 1734, '최종': 1735, '일어나다': 1736, '매각': 1737, '직접': 1738, '소환': 1739, '병신임': 1740, '책': 1741, '읽다': 1742, '이전': 1743, 'ㄷㄷㄷ': 1744, '가라': 1745, '기업': 1746, '현대': 1747, '정신': 1748, '손절': 1749, '그런데': 1750, '오른쪽': 1751, '환각': 1752, '캠': 1753, '일임': 1754, '쓴다': 1755, '금메달': 1756, '레플': 1757, '페': 1758, '평타': 1759, '상향': 1760, '평준화': 1761, '치기': 1762, '어짜피': 1763, '한데': 1764, '롱': 1765, '넘치다': 1766, '관': 1767, '그림판': 1768, '여성': 1769, '팔리다': 1770, '와드': 1771, '구분': 1772, '반짝': 1773, '다음해': 1774, '시대': 1775, '줄이다': 1776, '일진': 1777, '아이언': 1778, '이대로': 1779, '의문': 1780, '폐지': 1781, '기억': 1782, '이라서': 1783, '소': 1784, '잘생기다': 1785, '건데': 1786, '보지': 1787, '동시': 1788, '어캄': 1789, '여친': 1790, '허다': 1791, '갑': 1792, '메이': 1793, '잃어버리다': 1794, 'ㅅㅂㅋㅋ': 1795, '로는': 1796, '잖다': 1797, '미인': 1798, '캡스': 1799, '장면': 1800, '면서': 1801, '개좆슼갈들': 1802, '호': 1803, '경우': 1804, '강하다': 1805, '열': 1806, '암': 1807, '념': 1808, '차이다': 1809, '디자인': 1810, '런가': 1811, '달라지다': 1812, '발작': 1813, '해먹': 1814, '새벽': 1815, '자임': 1816, '조작': 1817, '상식': 1818, '우기다': 1819, '장식': 1820, '밑': 1821, '퍼': 1822, '듬': 1823, '는걸': 1824, '교통': 1825, '고트': 1826, '엮': 1827, '고버': 1828, '자신': 1829, '덕분': 1830, '부모': 1831, '포핏': 1832, '화이트': 1833, '추': 1834, '거나': 1835, '켜': 1836, '드디어': 1837, '잔': 1838, '쌔보': 1839, '댓글': 1840, '아래': 1841, '넘어가다': 1842, '개편': 1843, '의지': 1844, '프론트': 1845, '긴급': 1846, '모름': 1847, '반대': 1848, '비엘': 1849, '노래': 1850, '흡수': 1851, '역체롤': 1852, '뉴진스': 1853, '으론': 1854, '엇': 1855, '먹히다': 1856, '분탕': 1857, '정통': 1858, '축구선수': 1859, '어떤': 1860, '가요': 1861, '서양': 1862, '바르다': 1863, '심리': 1864, '바람': 1865, '까지만': 1866, '잡': 1867, '사서': 1868, '입다': 1869, '뒤': 1870, '정이': 1871, '대남': 1872, '버러지': 1873, '한순간': 1874, '끝임': 1875, '정글러': 1876, '그걸': 1877, '찾아가다': 1878, '주제': 1879, '이참': 1880, '날씨': 1881, '째다': 1882, '코로': 1883, '진실': 1884, '다데': 1885, '승자': 1886, '장애': 1887, '의식': 1888, '젠파르타': 1889, '외': 1890, '망상': 1891, '안내': 1892, '받아들이다': 1893, 'ㅋㅋㅋㅋㅋㅋㅋㅋㅋㅋㅋㅋㅋㅋㅋㅋㅋㅋㅋㅋㅋ': 1894, '프로게이머': 1895, '토토': 1896, '셜임': 1897, '젠담': 1898, '열리다': 1899, '퀴즈': 1900, '저기': 1901, '첩': 1902, '밀리다': 1903, '리캡': 1904, '잘나오다': 1905, '제안': 1906, '돌이': 1907, '외모': 1908, '쵸맘': 1909, '부': 1910, '러': 1911, '한전': 1912, '박사': 1913, '빡치다': 1914, '유일': 1915, '베트남': 1916, '영업': 1917, '라이즈': 1918, '쩌': 1919, '민석': 1920, '카드': 1921, '공중': 1922, '판이': 1923, '화려하다': 1924, '시점': 1925, '뭉치다': 1926, '로치': 1927, '메이지': 1928, '살리다': 1929, '총': 1930, '시도': 1931, '버전': 1932, '당장': 1933, '만큼은': 1934, '먹방': 1935, '최신': 1936, '딜라잇': 1937, '랙': 1938, '행사': 1939, '중간': 1940, '크랙': 1941, '합': 1942, '메네스': 1943, '랜드': 1944, '스토리': 1945, '탄생': 1946, '탓': 1947, '변수': 1948, '불화': 1949, '피다': 1950, '천': 1951, '근속': 1952, '혈': 1953, '뚫리다': 1954, '갈': 1955, '어지간하다': 1956, '뱅이': 1957, '데리다': 1958, '연습': 1959, '부리': 1960, 'ㄱㅊ': 1961, '킹표비뎊베': 1962, '성립': 1963, '쵸페': 1964, '예약': 1965, '판정': 1966, '기량': 1967, '땜': 1968, '컷임': 1969, 'ㄴ': 1970, '구리다': 1971, '열다': 1972, '구경': 1973, '라네': 1974, '내놓다': 1975, '전략': 1976, '슼까': 1977, '당': 1978, '이하': 1979, '카운터': 1980, '마음': 1981, '내후년': 1982, '의리': 1983, '삭제': 1984, '스펠': 1985, '순하다': 1986, '터보': 1987, '웃': 1988, '개념': 1989, 'ㅆㅅㅌㅊ': 1990, '막차': 1991, '줄어들다': 1992, '클래식': 1993, '돌': 1994, '거북': 1995, '김기인': 1996, '데프': 1997, '공통점': 1998, '영원하다': 1999, '달리다': 2000, '패치': 2001, '세금': 2002, '초반': 2003, '누나': 2004, '발리': 2005, '개막전': 2006, '허위': 2007, '냄새': 2008, '미안하다': 2009, '오프더레코드': 2010, '년차': 2011, '징동': 2012, '킹루쇼에켈': 2013, '말고는': 2014, '대결': 2015, '김건': 2016, '너넨': 2017, '쉽다': 2018, '피지': 2019, '깎다': 2020, '업': 2021, '친하다': 2022, '프트': 2023, '련': 2024, '재미없다': 2025, '그만하다': 2026, '착각': 2027, '젠데': 2028, '좆슼': 2029, '팀원': 2030, '맥': 2031, '갈수록': 2032, '샤오후': 2033, '구나': 2034, '려고': 2035, '인식': 2036, '실패': 2037, '대한': 2038, '공감': 2039, '생기': 2040, '께': 2041, '피넛보': 2042, '제파': 2043, '유독': 2044, '표뎊': 2045, '중계': 2046, '승률': 2047, '고혈': 2048, '연재': 2049, '카를': 2050, '어딜': 2051, '여러': 2052, '안딜': 2053, '이여': 2054, '난쟁이': 2055, '서밋': 2056, '성향': 2057, '안거': 2058, '뱅울': 2059, '아주': 2060, '업글임': 2061, '구간': 2062, '퍼포먼스': 2063, '존중': 2064, '김': 2065, '카엘': 2066, '원조': 2067, '선언': 2068, '미가': 2069, '지안': 2070, '럼블': 2071, '러브': 2072, '가야': 2073, '베를린': 2074, '버돌': 2075, '천주': 2076, '최': 2077, '탱커': 2078, '스카': 2079, '쿨': 2080, '불리다': 2081, '도란피넛': 2082, '오랜': 2083, '식이': 2084, '킬': 2085, '적어도': 2086, '릴베': 2087, '부상': 2088, 'ㄴㄴ': 2089, '독': 2090, '매치다': 2091, '천재': 2092, '만이': 2093, '광희': 2094, '검빨': 2095, '저건': 2096, '엔젤': 2097, '도피딜': 2098, '정지': 2099, '위기': 2100, '태윤': 2101, '트이다': 2102, '코어': 2103, '탭': 2104, '시기': 2105, '킹팀': 2106, '담하다': 2107, '천지': 2108, '콘돔': 2109, '파이': 2110, '꾸준하다': 2111, '합의': 2112, '트리': 2113, '파덕': 2114, '승점': 2115, '자판기': 2116, '브': 2117, '속도': 2118, '일상': 2119, '이프': 2120, '묻히다': 2121, '도저히': 2122, '티셔츠': 2123, '년생': 2124, '접시': 2125, '명단': 2126, '젠파르타들': 2127, '안나': 2128, '후계': 2129, '노려보다': 2130, '문화': 2131, '당황': 2132, '노틸': 2133, '대주': 2134, '뽀록': 2135, '지라': 2136, '무죄': 2137, '중요': 2138, '형님': 2139, '잔뜩': 2140, '동생': 2141, '미아': 2142, '형태': 2143, '저희': 2144, '이중인격': 2145, '갤러리': 2146, '젠까스들': 2147, '어캐': 2148, '나뉘다': 2149, '넷플릭스': 2150, '어머니': 2151, '대통령': 2152, '설레다': 2153, '잡고': 2154, '고민': 2155, '시급하다': 2156, '공유': 2157, '부탁': 2158, '슼갈련들': 2159, '팔이': 2160, '방이': 2161, '대문': 2162, '구라': 2163, '호들갑': 2164, '떤다': 2165, '고도': 2166, '중임': 2167, '말살': 2168, '으로는': 2169, '청태': 2170, '넥': 2171, '단장': 2172, 'ㅋㅋㅋㅋㅋㅋㅋㅋㅋㅋㅋㅋㅋㅋㅋㅋㅋㅋㅋㅋ': 2173, '건드리다': 2174, '덩어리': 2175, '쫄리': 2176, '가까이': 2177, '벗어나다': 2178, '어쩐지': 2179, '지원': 2180, '희다': 2181, '살인마': 2182, '안경': 2183, '회사': 2184, '억지로': 2185, '구매': 2186, '엄마': 2187, '무덤': 2188, '로켓': 2189, '우기': 2190, '항의': 2191, '띠': 2192, '깡패': 2193, '샘숭': 2194, '못내': 2195, '필독': 2196, '번은': 2197, '찾아오다': 2198, '잘해주다': 2199, '지정': 2200, '나누다': 2201, '입법': 2202, '명언': 2203, '조심하다': 2204, '레넥': 2205, '왜함': 2206, '동북공정': 2207, '들키다': 2208, '열심히': 2209, '개추좀': 2210, '배그': 2211, '머함': 2212, '사의': 2213, '여기다': 2214, '풀네임': 2215, '놀다': 2216, '주주': 2217, '찍': 2218, '피아노': 2219, '작전': 2220, '악당': 2221, '탐방': 2222, '삼국지': 2223, '념글컷': 2224, '명맥': 2225, '아줌마': 2226, '우선': 2227, '다해': 2228, '다이나믹스': 2229, '허상': 2230, '라며': 2231, '취미': 2232, '임팩트': 2233, '똥구멍': 2234, '해봤다': 2235, '폰': 2236, '스티커': 2237, '붙이': 2238, '신상혁': 2239, 'ㅜ': 2240, '인정받다': 2241, '멘탈': 2242, '여성혐오': 2243, '딜기캐쵸': 2244, '큐': 2245, '찡찡대다': 2246, '청': 2247, '커피': 2248, '덜다': 2249, '어리다': 2250, '다치다': 2251, 'ㅉ': 2252, '소송': 2253, '논': 2254, '지나': 2255, '우린': 2256, '어떻': 2257, '갈련': 2258, '간단하다': 2259, '큐베': 2260, '피해자': 2261, '범': 2262, '스카이': 2263, '번째': 2264, '민심': 2265, '로얄': 2266, '똑같이': 2267, '홈피': 2268, '노답': 2269, '꿀잠': 2270, '튀다': 2271, '통': 2272, '아이디': 2273, '까먹다': 2274, '모순': 2275, '깨닫다': 2276, '도둑질': 2277, '특징': 2278, '꼽아보': 2279, '주자': 2280, '복싱': 2281, '사일러': 2282, '소중하다': 2283, '필': 2284, '랭': 2285, '윗': 2286, '프레이': 2287, '살기': 2288, '후예': 2289, '명확하다': 2290, '일지': 2291, '목격': 2292, '케빨': 2293, '랜더': 2294, '햇노': 2295, '그리고': 2296, '려': 2297, '한남': 2298, '장이': 2299, '탕후루': 2300, '달라짐': 2301, '사이버': 2302, '찾아보다': 2303, '란': 2304, '휴': 2305, '악': 2306, '남아': 2307, '꾸미다': 2308, '현명하다': 2309, '대부분': 2310, '궁': 2311, '어따': 2312, '지나다': 2313, '주변': 2314, '스시': 2315, '켜다': 2316, '중인': 2317, '쪽팔리다': 2318, '꼬우': 2319, '겨우': 2320, '체': 2321, '그런': 2322, '입꾹': 2323, '주문': 2324, '나서다': 2325, '추정': 2326, '제의': 2327, '주전': 2328, '닥치다': 2329, '그건': 2330, '서울대': 2331, '졸업장': 2332, '오존': 2333, '블루': 2334, '루나': 2335, '틱': 2336, '분리': 2337, '금보': 2338, '노무': 2339, '민망하다': 2340, '하지만': 2341, '롤붕': 2342, '스타워킨': 2343, '듣기': 2344, '부턴': 2345, '무현': 2346, '로시': 2347, '스위스': 2348, '무근': 2349, '어색하다': 2350, '진격': 2351, '자존심': 2352, '외국': 2353, '맵': 2354, '서폿템': 2355, '신임': 2356, '정답': 2357, '희소식': 2358, '신분': 2359, '세탁': 2360, '얻다': 2361, '분명하다': 2362, '경고': 2363, '잠깐': 2364, '백': 2365, '어플': 2366, '지애': 2367, '로서': 2368, '젠런트': 2369, '파워': 2370, '단순': 2371, '꿇다': 2372, '사과문': 2373, '사회': 2374, '입증': 2375, '번하다': 2376, '헌법': 2377, '심심하다': 2378, '사면': 2379, '땡기다': 2380, '솔찌': 2381, '쏘다': 2382, '깨지다': 2383, '동양': 2384, '관점': 2385, '통째': 2386, '다시다': 2387, '파엠': 2388, '십': 2389, '파티': 2390, '부자': 2391, '나잘하다': 2392, '으로도': 2393, '야스오': 2394, '안쓰럽다': 2395, '정확하다': 2396, '가운데': 2397, '먹이다': 2398, '삼전': 2399, '가지다': 2400, '지노': 2401, '흥행': 2402, '완전하다': 2403, '손가락': 2404, '수뇌부': 2405, '깨다': 2406, '임프': 2407, '젠전드임': 2408, '가계': 2409, '컬러': 2410, '전세계': 2411, '탈락': 2412, '누구신지': 2413, '주가': 2414, '자고': 2415, '달자': 2416, '지능': 2417, '아보': 2418, '안달': 2419, '승계': 2420, '호흡': 2421, '클린': 2422, '광탈': 2423, '유튜버': 2424, '일반': 2425, '조선': 2426, '치트키': 2427, '누군지': 2428, '오라': 2429, '이어도': 2430, '며': 2431, '튀어나오다': 2432, '느그': 2433, '봉': 2434, '톡방': 2435, '아들': 2436, '디시': 2437, '상상': 2438, '유턴': 2439, '헨': 2440, '이용': 2441, '심': 2442, '별거': 2443, '고리': 2444, '만듬': 2445, '풀': 2446, '잡아먹다': 2447, '동상': 2448, '조만간': 2449, '합법': 2450, '각각': 2451, '간나': 2452, '껄': 2453, '남연': 2454, '무성': 2455, '우스': 2456, '기원': 2457, '전보': 2458, '스코어': 2459, '스태틱빨': 2460, '이상은': 2461, '쵸페딜': 2462, '인방': 2463, '중국인': 2464, '겟': 2465, '코리아': 2466, '넛맘': 2467, '시냐': 2468, '도사': 2469, '구멍': 2470, '한국인': 2471, '돈좀': 2472, '개좆즙': 2473, '성장하다': 2474, '렙': 2475, '재산': 2476, '런': 2477, '일자리': 2478, '사업': 2479, '뉴비': 2480, '매우': 2481, '리스크': 2482, '정배': 2483, '어쩌': 2484, '컴캐스트': 2485, '사귀다': 2486, '돼지': 2487, '극복': 2488, '신다': 2489, '롤팀': 2490, '꾀': 2491, '장난': 2492, '도딜': 2493, '페미': 2494, '소굴': 2495, '딜리': 2496, '흠': 2497, '던지다': 2498, '리기': 2499, '나슼갈': 2500, '타이틀': 2501, '승리': 2502, '꺼지다': 2503, '개최': 2504, '설다': 2505, '한보': 2506, '발성': 2507, '애드': 2508, '취직': 2509, '확신': 2510, '전임': 2511, '끌다': 2512, '고하': 2513, '박재혁': 2514, '친구': 2515, '시나': 2516, '잘나가다': 2517, '진행': 2518, '직': 2519, '메시': 2520, '스타일': 2521, '배혜지': 2522, '부다': 2523, '보다는': 2524, '공시': 2525, '파이널': 2526, '기캐쵸로': 2527, '출전': 2528, '실검': 2529, '이빨': 2530, '물건': 2531, '잘쓰다': 2532, '귀': 2533, '꽃': 2534, '플랜': 2535, 'ㄹㅇㅋㅋ': 2536, '팰': 2537, '기캐쵸에': 2538, '보노': 2539, '역천괴': 2540, '잊다': 2541, '성골': 2542, '영향력': 2543, '절': 2544, '대못': 2545, '강점': 2546, '기케쵸': 2547, '찢기다': 2548, '폭파': 2549, '시종': 2550, '노리': 2551, '하자': 2552, '폐': 2553, '자살': 2554, '태그': 2555, '타가': 2556, '현역': 2557, '저하': 2558, '룰루': 2559, '미니': 2560, '셀링': 2561, '프리미어': 2562, '빌딩': 2563, '폭발': 2564, '시들다': 2565, '찡': 2566, '솔랭돌리': 2567, '연승': 2568, 'ㅉㅉ': 2569, '전승': 2570, '뽕': 2571, '고베': 2572, '걷어차다': 2573, '아펠': 2574, '순환': 2575, '분안': 2576, '이즈리얼': 2577, '뻔': 2578, '네임드': 2579, '만난': 2580, '매칭': 2581, '축하': 2582, '끝내다': 2583, '대해': 2584, '푼': 2585, '엑소더스': 2586, '그때': 2587, '팀탓': 2588, '희망이': 2589, 'ㄱㄱㄱ': 2590, '재앙': 2591, '뛰어넘다': 2592, 'ㅁㅊ': 2593, '손해': 2594, '최근': 2595, '클래스': 2596, '도입': 2597, '퍼펙': 2598, '서열': 2599, '왜캐': 2600, '트': 2601, '뉴스': 2602, '한상용': 2603, '삶': 2604, '체크': 2605, '짬': 2606, '칰갈': 2607, '강타': 2608, '실': 2609, '잼민': 2610, '방패': 2611, '케이': 2612, '아트록스': 2613, '경험': 2614, '이슈': 2615, '이상혁': 2616, '로코': 2617, '참가': 2618, '뷰': 2619, '징징대다': 2620, '미리': 2621, '툴': 2622, '불안하다': 2623, '술': 2624, '담킅': 2625, '트페': 2626, '넛': 2627, '준준': 2628, '셀캡': 2629, '재미있다': 2630, '중위': 2631, '강가': 2632, '수명': 2633, '올스타': 2634, '인기투표': 2635, '도태': 2636, '상징': 2637, '수입': 2638, '푸만두': 2639, '전체': 2640, '꼬톰마': 2641, '뜻임': 2642, '가자미': 2643, '년뒤': 2644, '연상': 2645, '씨부리다': 2646, '주인공': 2647, '세명': 2648, '외국인': 2649, '태': 2650, 'ㅋㅋㅋㅋㅋㅋㅋㅋㅋㅋㅋㅋㅋㅋㅋㅋㅋㅋㅋㅋㅋㅋㅋㅋㅋㅋㅋ': 2651, '트윗': 2652, '경상도': 2653, '여행': 2654, '시원하다': 2655, '매다': 2656, '환영': 2657, '기념': 2658, '하이': 2659, '철새': 2660, '가안': 2661, '잘해야': 2662, '이중': 2663, '위상': 2664, '딮민이': 2665, '와도': 2666, 'ㄹㅇㅍㅌ': 2667, '반쪽': 2668, '좋아지다': 2669, '개똥': 2670, '띄우다': 2671, 'ㅁㅌㅊ': 2672, '제이스': 2673, '옴므': 2674, '척': 2675, '중반': 2676, '이분': 2677, '티젠전': 2678, '고개': 2679, '수나': 2680, '맨유': 2681, '모임': 2682, '남기다': 2683, '날리다': 2684, '과연': 2685, '올드': 2686, '끼우다': 2687, '틀다': 2688, '엘크': 2689, '좆집': 2690, '접다': 2691, '팀못': 2692, '구함': 2693, '슈': 2694, '희생': 2695, '욕함': 2696, '오르다': 2697, '전투력': 2698, '한계': 2699, '탑임': 2700, '찾기': 2701, '끔찍하다': 2702, '울': 2703, '지급': 2704, '마이너': 2705, '관건': 2706, '문재인': 2707, '집안': 2708, '리헨즈식': 2709, '걸그룹': 2710, '얍삽하': 2711, '후니': 2712, '기존': 2713, '향로': 2714, '근접': 2715, '동기부여': 2716, '분열': 2717, '슼갈젠첩': 2718, '떠오르다': 2719, '종착': 2720, '로라': 2721, '랭겜': 2722, '목표': 2723, '가끔': 2724, '꼴리다': 2725, '든지': 2726, '캐맘': 2727, '등각': 2728, '닫히다': 2729, '이지훈': 2730, '등장': 2731, '가기': 2732, '타임': 2733, '띄우기': 2734, '훨': 2735, '에만': 2736, '피하': 2737, '위주': 2738, '커다랗다': 2739, '캐년': 2740, '사가다': 2741, '점수': 2742, '막히다': 2743, '중국어': 2744, '남고': 2745, '무의미하다': 2746, '포텐': 2747, 'ㄷㄷㄷㄷㄷㄷㄷㄷㄷ': 2748, '니코': 2749, '섞다': 2750, '상관': 2751, '전생': 2752, '캐년맘': 2753, '레나': 2754, 'ㅋㅋㅋㅋㅋㅋㅋㅋㅋㅋㅋㅋㅋㅋㅋㅋㅋㅋㅋㅋㅋㅋ': 2755, '종료': 2756, '날뛰다': 2757, '모자라다': 2758, '질': 2759, '부러': 2760, '따라서': 2761, '조차도': 2762, '프차스타': 2763, '짜르': 2764, '조롱': 2765, '최후': 2766, '안남': 2767, '커비': 2768, '에리': 2769, '분석': 2770, '니시': 2771, '소가': 2772, '릴카': 2773, '게이머': 2774, '육식': 2775, '수련': 2776, '망가지다': 2777, 'ㅇㅇㅇ': 2778, '모시다': 2779, '파악': 2780, '쵸칼리': 2781, '게이밍': 2782, '맛보다': 2783, '포': 2784, '움직': 2785, '얜': 2786, '알바': 2787, '우위': 2788, '성공': 2789, '살아나다': 2790, '스킬': 2791, '샷': 2792, '사주': 2793, '빼기': 2794, '서버': 2795, '발음': 2796, '피리': 2797, '안도': 2798, '조선족': 2799, '실수': 2800, '편하다': 2801, '고정': 2802, '혐': 2803, '더샤': 2804, '보이스': 2805, '임신': 2806, '급식': 2807, '인걸': 2808, '만해': 2809, '요새': 2810, '일반인': 2811, '장담': 2812, '예배': 2813, '가격': 2814, '부가': 2815, '았': 2816, '흥민': 2817, '박멸': 2818, '오는': 2819, '아만': 2820, '봣': 2821, '사기꾼': 2822, '선점': 2823, '보호대': 2824, '때매': 2825, '딸리다': 2826, '구한': 2827, '오지': 2828, '꼬이다': 2829, '겁나다': 2830, '썰쟁': 2831, '높아지다': 2832, '리헨즈땜': 2833, '로써': 2834, '기조': 2835, '콤보': 2836, '응디': 2837, '오프닝': 2838, '급전': 2839, '이형은': 2840, '졸': 2841, '웨이': 2842, '애잔하다': 2843, '육': 2844, '이거지': 2845, '스파링': 2846, '처참하다': 2847, '비표뎊베': 2848, '암흑': 2849, '세탭': 2850, '침': 2851, '루트': 2852, '주도': 2853, '끌리다': 2854, '독일': 2855, '관광': 2856, '두아': 2857, '주지': 2858, '유력': 2859, '가하다': 2860, '찌': 2861, '줍다': 2862, '유튭': 2863, '간지나다': 2864, '털다': 2865, '그리즐리': 2866, '팔로우': 2867, '여전하다': 2868, '조회': 2869, '부터는': 2870, '일텐데': 2871, '킅마갤': 2872, '출장': 2873, '인지도': 2874, '숫자': 2875, '몸무게': 2876, 'ㄱㄱ': 2877, '접촉': 2878, '어려움': 2879, '암살자': 2880, '팀합': 2881, '자빠지다': 2882, '카서스': 2883, '잔류': 2884, '천조국': 2885, '매장': 2886, '파': 2887, '리신': 2888, '섬머': 2889, '병장': 2890, '기수': 2891, '슬하': 2892, '찢어지다': 2893, '관전': 2894, '내전': 2895, '늘어나다': 2896, '부진하다': 2897, '컴캐': 2898, '동선': 2899, '써머': 2900, '다인': 2901, '발견': 2902, '베': 2903, '수십억': 2904, '앰창': 2905, '솔킬': 2906, '간부': 2907, '걔': 2908, '매일': 2909, '센고쿠': 2910, '케일': 2911, '헨즈': 2912, '예후': 2913, '트레이드': 2914, '잠기다': 2915, '고아원': 2916, 'ㅅㅂㅋㅋㅋ': 2917, '알아내다': 2918, '거인': 2919, '깨맥': 2920, '천운': 2921, '판타지': 2922, '줜': 2923, '상태': 2924, '직전': 2925, '댐': 2926, '생방': 2927, '포장': 2928, '용': 2929, '병기': 2930, '평화롭다': 2931, '눈물': 2932, '재키': 2933, '대하': 2934, '시티': 2935, '억제': 2936, '차력': 2937, '블랙리스트': 2938, 'ㅆㅂ': 2939, '생': 2940, '대별': 2941, '가수': 2942, '꼴찌': 2943, '골': 2944, '롤붕이들': 2945, '카오스': 2946, '육아': 2947, '찌찌': 2948, '꼬집다': 2949, '친정': 2950, '학': 2951, 'ㅋㅋㅋㅋㅋㅋㅋㅋㅋㅋㅋㅋㅋㅋㅋㅋㅋ': 2952, '북': 2953, '대치': 2954, '게으르다': 2955, '커녕': 2956, 'ㄷㄷㄷㄷ': 2957, '결장': 2958, '젠까스거리': 2959, '마왕': 2960, '선동': 2961, '각종': 2962, '미세먼지': 2963, '코로나바이러스': 2964, '환경오염': 2965, '프레': 2966, '지옥': 2967, '이겠다': 2968, '도난': 2969, '케쵸': 2970, '반항': 2971, '가볍다': 2972, '개달': 2973, '각인': 2974, '적히다': 2975, '세우다': 2976, '심정은': 2977, '긁혓': 2978, '본업': 2979, '전공': 2980, '수석': 2981, '오전': 2982, '축구팀': 2983, '바르샤': 2984, '개그': 2985, '모래성': 2986, '무너지다': 2987, '실감': 2988, '핏하': 2989, '껀덕': 2990, '대혁명': 2991, '방금': 2992, '징크스': 2993, '찾아내다': 2994, '챙기다': 2995, '퀄': 2996, '긁힌거': 2997, '실체': 2998, '고온': 2999, '쏠리다': 3000, '메로': 3001, '움찔': 3002, '씨빨': 3003, '사창가': 3004, '공세': 3005, '뻘소리': 3006, '도구': 3007, '킬줬으': 3008, '폐닭': 3009, '전권': 3010, '어쩌구밴픽': 3011, '개조': 3012, '활동': 3013, '역할': 3014, '롬': 3015, '자막': 3016, '뒷': 3017, '어쩌려': 3018, '발라': 3019, '스리': 3020, '개처': 3021, '여혐': 3022, '배고프다': 3023, '버프먹': 3024, '리븐': 3025, '힐일': 3026, '간꼴임': 3027, '안산': 3028, '트루': 3029, '헬퍼': 3030, '지까짓': 3031, '아찔하다': 3032, 'ㅋㅋㅋㄲㅋㅋ': 3033, '따윈': 3034, '증발': 3035, '여진': 3036, '빙결': 3037, '해태': 3038, '신세계': 3039, '춤': 3040, '볼맛': 3041, '요소': 3042, '억뷰': 3043, '좆븅신같은': 3044, '가가': 3045, '꽉': 3046, '의주': 3047, '만화': 3048, '맘껏': 3049, '디펜딩': 3050, '챔피언': 3051, '위함': 3052, '역설': 3053, '빼박': 3054, '방좀': 3055, '피씨': 3056, '시설': 3057, '유명하다': 3058, '경계': 3059, '짝퉁': 3060, '이비인후과': 3061, '실존': 3062, '향': 3063, '비방': 3064, '캡쳐': 3065, '매입': 3066, '를번': 3067, '대요': 3068, '자력': 3069, '뒷방': 3070, '한테라': 3071, '기만': 3072, '쌍욕': 3073, '용소': 3074, '년월': 3075, '비약': 3076, '운영자': 3077, '사이트': 3078, '신고': 3079, '금고': 3080, '땅땅': 3081, '분실': 3082, '어찌저찌': 3083, '그니': 3084, '오케이': 3085, '개좆킅팬': 3086, '체면': 3087, '대의': 3088, '연쇄': 3089, '유영철': 3090, 'ㅅㅂㅋㅋㅋㅋㅋㅋㅋㅋㅋㅋㅋ': 3091, '화면': 3092, '야시': 3093, '천사': 3094, '조선시대': 3095, '가문': 3096, '용이': 3097, '단고기': 3098, '순장': 3099, '쁘락찌': 3100, '해봣자': 3101, '벼슬': 3102, 'ㅄ': 3103, '평가절하': 3104, '스폰한다': 3105, '용한': 3106, '온갖': 3107, '얕다': 3108, '국외': 3109, '은거': 3110, '좆패': 3111, '첼': 3112, '저렴하다': 3113, '업도': 3114, '자라다': 3115, '치전': 3116, '하이제': 3117, '고생': 3118, '부대': 3119, '아빠': 3120, '누적': 3121, '밖': 3122, '노페': 3123, '리딸함': 3124, '갈라': 3125, '쪽쪽': 3126, '초가스': 3127, '고인': 3128, '납득': 3129, '세레머니': 3130, '더불다': 3131, '자금': 3132, '바짝': 3133, '가깝다': 3134, '벌레': 3135, '디엠': 3136, '메시지': 3137, '슼서운': 3138, '노장': 3139, '대열': 3140, '땐줄': 3141, '악박': 3142, '이재용': 3143, '팀애': 3144, '와는': 3145, '슼갈임': 3146, '프로판': 3147, '개좆젠': 3148, '저딴': 3149, '측': 3150, '재력': 3151, '이든': 3152, '존웃': 3153, '아누': 3154, 'ㅇㅈㅇㅈ': 3155, '지지다': 3156, '유시민': 3157, '해달': 3158, '고구려': 3159, '탐냄': 3160, '닉추': 3161, '임요환': 3162, '장재호': 3163, '등록': 3164, '활약': 3165, '강탈': 3166, '유임': 3167, '차려': 3168, '붙혔다': 3169, '드럭': 3170, '대보다': 3171, '능건데': 3172, '어쩌다': 3173, '세기': 3174, '떄': 3175, '제갈량': 3176, '페쵸대전': 3177, '치질': 3178, '치핵': 3179, '기점': 3180, '토': 3181, '알잔': 3182, '근처': 3183, '꼬라박': 3184, '짆': 3185, '정치사': 3186, '상도': 3187, '플리': 3188, '카라': 3189, '근접하다': 3190, '외치': 3191, '독서': 3192, '명상': 3193, '항목': 3194, '씨바': 3195, '벌리다': 3196, '원스': 3197, '추워지다': 3198, '실망하다': 3199, '메달': 3200, '공홈': 3201, '여성인권': 3202, '젠지팬특': 3203, '종결': 3204, '입닥쳐': 3205, '경이': 3206, '로운': 3207, '캐빨': 3208, '랭전': 3209, '사가': 3210, '긔윤': 3211, '두번째': 3212, '루쇼에켈퍼': 3213, '표피': 3214, '데베': 3215, '조급하다': 3216, '개임': 3217, '줸': 3218, '눱': 3219, '찰지다': 3220, '물컵': 3221, '녹': 3222, '장물': 3223, '건함': 3224, '빨간색': 3225, '핑': 3226, '국채': 3227, '끝판': 3228, '밝히다': 3229, '추측': 3230, '유이': 3231, '아지만': 3232, '위키피디아': 3233, '계시다': 3234, '일베': 3235, '용어': 3236, '지향': 3237, '코시': 3238, '두산': 3239, '베어스': 3240, '황비': 3241, '아이템': 3242, '자본': 3243, '후회되다': 3244, '전파': 3245, '한체폿': 3246, '투명': 3247, '망토': 3248, '스트리머': 3249, '쮀쓰': 3250, '생배': 3251, '멈추다': 3252, '도적': 3253, 'ㅇㅋ': 3254, '캐드': 3255, '럴': 3256, '함부로': 3257, '숙취': 3258, '해소': 3259, '편의점': 3260, '아침밥': 3261, '룰러코': 3262, '소유권': 3263, '소름끼치다': 3264, '뉘앙스': 3265, '알빠': 3266, '월즈먹으': 3267, '통산': 3268, '자백': 3269, '물리다': 3270, '우습다': 3271, '유주': 3272, '젖살': 3273, '엄젠': 3274, '연고': 3275, '구장': 3276, '고요': 3277, '여부': 3278, '르': 3279, '소모': 3280, '설치다': 3281, '뎅겅파': 3282, '예견': 3283, '해오다': 3284, '못깜': 3285, '인지부조화': 3286, '구로': 3287, '홀랑': 3288, '거노': 3289, '드가자잇': 3290, '반증': 3291, '직관': 3292, '시끄럽다': 3293, '까악까악': 3294, '거림': 3295, '퀼': 3296, '포진': 3297, '철판': 3298, '드가자': 3299, '비번': 3300, '썅년': 3301, '룸': 3302, '까봐': 3303, '들근': 3304, '달린다': 3305, '딸도': 3306, '사라': 3307, '저축은행': 3308, '쉰': 3309, '변경슼': 3310, '닉넴': 3311, '산놈젠': 3312, '흙': 3313, '수저': 3314, '므시': 3315, '썸머': 3316, '지스트리머': 3317, '도덕': 3318, '까짓': 3319, '슥갈돌': 3320, '쉐도': 3321, '자택': 3322, '폭탄': 3323, '트타': 3324, '솔킬따': 3325, '산적': 3326, '왤케못하': 3327, '화근': 3328, '중얼거리다': 3329, '복지': 3330, '저작권': 3331, '롤게': 3332, '빈부격차': 3333, '겆북공정': 3334, '부캐': 3335, '들어서다': 3336, '자네': 3337, '스맵': 3338, '고릴라': 3339, '드임': 3340, '녹다': 3341, '따내다': 3342, '해고': 3343, '하기는': 3344, '밤새': 3345, '장식품': 3346, '부여': 3347, '집단': 3348, '띵하다': 3349, '우울하다': 3350, '유니콘': 3351, '신규': 3352, '예감': 3353, '페쇼까려': 3354, '뎈': 3355, '킨': 3356, '회지': 3357, '엑소': 3358, '및': 3359, '샤코': 3360, '시브': 3361, '오공': 3362, '디코이': 3363, '더독': 3364, '마렵지않': 3365, '닥치': 3366, '빌런': 3367, '봇갱': 3368, '천방지축마골피': 3369, '창립': 3370, '비하인드': 3371, '폭찰': 3372, '추하다': 3373, '장수': 3374, '돌침대': 3375, '파딱': 3376, '병': 3377, '양자역학': 3378, '친절': 3379, '상담': 3380, '콩': 3381, '글자': 3382, '동조': 3383, '창녀': 3384, '좆목질': 3385, '아침': 3386, '분탕치': 3387, '좋긔': 3388, '하임': 3389, '스깠': 3390, '장보': 3391, '행동': 3392, '강령': 3393, '이씨': 3394, '연애': 3395, '해대': 3396, '화두': 3397, '고로': 3398, '어휴': 3399, '조선말': 3400, '쌍놈': 3401, '타릭': 3402, '으로써': 3403, '슼전드인줄': 3404, '초라하다': 3405, '일주일': 3406, '개팀': 3407, '젠슬람': 3408, '속마음': 3409, '꺼리다': 3410, '부심': 3411, '당한': 3412, '헛것': 3413, '끝장': 3414, '삼엽충': 3415, '소실': 3416, '음식': 3417, '안주': 3418, '냅다': 3419, '박대해': 3420, '쫄깃': 3421, '진도': 3422, '농구': 3423, '숨기다': 3424, '뎊릴': 3425, '파노': 3426, '떡하니': 3427, 'ㅠㅠㅠ': 3428, '껀데': 3429, '팀삼': 3430, '포함': 3431, '인증샷': 3432, '맘대로': 3433, '지하': 3434, '역다': 3435, '개좆슼급': 3436, '능': 3437, '간단': 3438, '명료하다': 3439, '유래': 3440, '골치': 3441, '파지다': 3442, '메이저': 3443, '태반': 3444, '헉': 3445, '스랑': 3446, '샛기': 3447, '인대': 3448, '딮기임': 3449, '고아': 3450, '억까거르': 3451, '즘': 3452, '빠꾸먹': 3453, '멍청이': 3454, '놉': 3455, '쿨손절': 3456, '현우': 3457, '슼말곤': 3458, '음음': 3459, '븅신팀': 3460, '시발련드': 3461, '팀를': 3462, '기반': 3463, '쿠사리': 3464, '걔네': 3465, '네버': 3466, '이보': 3467, '레네다': 3468, '평소': 3469, '항전': 3470, '활발하다': 3471, '두렵다': 3472, '룰러토스': 3473, '삼성역': 3474, '사르다': 3475, '구성원': 3476, '성격': 3477, '명분': 3478, '펨베': 3479, '젠티전': 3480, '비빔': 3481, '흔적': 3482, '바쁘다': 3483, '개차반': 3484, '후손': 3485, '성광고': 3486, '졸업': 3487, '우길': 3488, '수록': 3489, '드러내다': 3490, '어색': 3491, '리츠': 3492, '왕가': 3493, '부끄럽다': 3494, '카메라': 3495, '부착': 3496, '고려조': 3497, '선의': 3498, '괸계임': 3499, '쌘': 3500, '충분하다': 3501, '위장': 3502, '근데없쥬': 3503, '준결승': 3504, '자랑스럽다': 3505, '중얼중얼': 3506, '합치다': 3507, '이루다': 3508, '관데': 3509, '톡식': 3510, '시스템': 3511, '펌하': 3512, '펴다': 3513, '삼청': 3514, '태현': 3515, '겆': 3516, '겆북': 3517, '답시고': 3518, '거만': 3519, '공정은': 3520, '쉬움': 3521, '창단': 3522, '서울': 3523, '끊다': 3524, '해당': 3525, '색': 3526, '고지': 3527, '북한': 3528, '땅': 3529, '혈통': 3530, '라니깐': 3531, '최면': 3532, '그까짓': 3533, '아이폰': 3534, '타락': 3535, '전사': 3536, '계정': 3537, '매몰': 3538, '중연': 3539, '벽앞': 3540, '무릎': 3541, '욕처': 3542, '장가': 3543, '왜못함': 3544, '과도': 3545, '거름': 3546, '젠전': 3547, '허겁지겁': 3548, '정신차리다': 3549, '격겜임': 3550, '한복': 3551, '곤룡포': 3552, '프린터': 3553, '비치': 3554, '지해': 3555, '어처구니': 3556, '열폭': 3557, '자위': 3558, '처남': 3559, '롤스터': 3560, '암튼': 3561, '실물': 3562, '이어지다': 3563, '박자': 3564, '오픈': 3565, '못하쥬': 3566, '총껨': 3567, '장애자': 3568, '겻던': 3569, '안단': 3570, '이상형': 3571, '사피': 3572, '퀘스트': 3573, '질의': 3574, '소용없다': 3575, '오락가락': 3576, '본진': 3577, '침투': 3578, '기전': 3579, '중립': 3580, '기어': 3581, '흐름': 3582, '흑우': 3583, '젠지측': 3584, '회장': 3585, '서구': 3586, '처형': 3587, '수영복': 3588, '우연히': 3589, '아레나': 3590, '난젠첩': 3591, '팩폭글': 3592, '알량하다': 3593, '중요도': 3594, '펍': 3595, '추론': 3596, '신성': 3597, '로마제국': 3598, '로마': 3599, '럼맨': 3600, '인간': 3601, '하고프다': 3602, '업계': 3603, '일부러': 3604, '인계': 3605, '한적': 3606, '양산': 3607, '몰락하다': 3608, '동력': 3609, '모니터': 3610, '딸각': 3611, '점멸': 3612, '써주다': 3613, '대접': 3614, '요한복음': 3615, '절절': 3616, '예측': 3617, '찬밥': 3618, 'ㄹㄹ': 3619, '천마': 3620, '간첩': 3621, '청조': 3622, '코장피셜': 3623, '젠까스년들': 3624, '구르다': 3625, '노력': 3626, '그땐': 3627, '저급하다': 3628, '병신년': 3629, '대답': 3630, '양보': 3631, '메일': 3632, '테러': 3633, '초창': 3634, '첫월즈': 3635, '젠붕이팬': 3636, '슼평': 3637, '연설': 3638, '쿨하다': 3639, '막말': 3640, '신봉': 3641, '주행': 3642, '소유': 3643, '슼팬': 3644, '핵': 3645, '예수': 3646, '페아커같': 3647, '한지': 3648, '허가': 3649, '낮': 3650, '패딩': 3651, '개좆비': 3652, '강제': 3653, '팀프': 3654, '차도': 3655, '기쁘다': 3656, '핑계': 3657, '회고록': 3658, '슼까들': 3659, '후신': 3660, '인가요': 3661, '섹스': 3662, '양키': 3663, '븅': 3664, '신들': 3665, '강의식': 3666, 'ㅅㅅㅅㅅㅅㅅㅅㅅㅅㅅ': 3667, '자재': 3668, '니모': 3669, '구미호': 3670, '공명첩': 3671, '루퍼': 3672, '토로': 3673, '발린': 3674, '상인': 3675, '파서': 3676, '젠지빰': 3677, '다수': 3678, '동의': 3679, '킅브듀': 3680, '눈가': 3681, '아웅': 3682, '펙트좀': 3683, '들이밀다': 3684, '발해': 3685, '위잉위잉하': 3686, '썰리다': 3687, '매직': 3688, '캐스터': 3689, '퀵샷': 3690, '터뷰': 3691, '고말숙': 3692, '비리다': 3693, '완': 3694, '계란': 3695, '성경': 3696, '최대로': 3697, '미스틱': 3698, '허구': 3699, '좌빨': 3700, '카페': 3701, '글감': 3702, '결단': 3703, '간담': 3704, '민': 3705, '힘내다': 3706, '억대': 3707, '빈도': 3708, '릴리': 3709, '그브': 3710, '곱다': 3711, '팬층': 3712, '두텁다': 3713, '김동쥰': 3714, '화하다': 3715, '십억': 3716, '엄두': 3717, '손절함': 3718, '방비': 3719, '제이': 3720, '소소하다': 3721, '으로서': 3722, '출연': 3723, '뭐길': 3724, '방탄': 3725, '겜함': 3726, '뒷모습': 3727, '아이러니': 3728, '어떄': 3729, '썰다': 3730, '추수': 3731, '거뭐': 3732, '혜자': 3733, '클템픽': 3734, '타고나다': 3735, '리라': 3736, '바프': 3737, '며칠': 3738, '굶다': 3739, '먹튀': 3740, '레이': 3741, '딮전드임': 3742, '태업': 3743, '더럽다': 3744, '나타남': 3745, '쵸맘제독넛맘도맘': 3746, '빠구리': 3747, '차비': 3748, '이신': 3749, '전만': 3750, '뇌피셜': 3751, 'ㄷㄷㄷㄷㄷㄷㄷ': 3752, '불독': 3753, '중독': 3754, '상이': 3755, '퍼안에듬': 3756, '반토막': 3757, '올랏': 3758, '화전': 3759, '칭티안': 3760, '관종끼': 3761, '영향': 3762, '프랜차이즈': 3763, '가입': 3764, '제독': 3765, '조건': 3766, '개빡': 3767, '우지': 3768, '챠': 3769, '끼울다': 3770, '당초': 3771, '문턱': 3772, '치명': 3773, '타네': 3774, '제자리': 3775, '지상': 3776, '주의': 3777, '페뱅울': 3778, '드니': 3779, '탑승': 3780, '태어나다': 3781, '패자부활전': 3782, '살찌다': 3783, '팬티': 3784, '방구': 3785, '한도': 3786, '얼른': 3787, '올려주다': 3788, '좀더': 3789, '워': 3790, '질리다': 3791, '지기': 3792, '리캡땜': 3793, '현질': 3794, '우역': 3795, '줫데': 3796, '도기': 3797, '진혁': 3798, '좆비': 3799, '유자': 3800, '찬가': 3801, '이형상': 3802, '달동': 3803, '메이플': 3804, '지환': 3805, '썰쟁이피셜': 3806, '수염': 3807, '반나절': 3808, '다모아': 3809, '무빙': 3810, '숨': 3811, '턱': 3812, '밀고': 3813, '가주': 3814, '애쉴리': 3815, '몸값얼': 3816, '만지다': 3817, '벌': 3818, '개이득': 3819, '게뭐노': 3820, '괜': 3821, '한수': 3822, '더쌘': 3823, '참여': 3824, '킆한딮': 3825, '어캐됨': 3826, '미국': 3827, '입덕': 3828, '달러': 3829, '칸표비뎊데': 3830, '관례': 3831, '도로': 3832, '콘서트': 3833, '팼': 3834, '솔킬빨': 3835, '인상': 3836, '누누이': 3837, '브실골플': 3838, '인성': 3839, '히트': 3840, '맞붙다': 3841, '이익': 3842, '무방': 3843, '서든': 3844, '배린': 3845, '보드': 3846, '싱기하': 3847, '닯긴': 3848, '원전': 3849, '굴': 3850, '지아': 3851, '갠방': 3852, '개꿀': 3853, '돼드': 3854, '벨벳': 3855, '조이': 3856, '식당': 3857, '이쯤': 3858, '벵기': 3859, '정착': 3860, '같이도': 3861, '케미': 3862, '납치': 3863, '라임': 3864, '티젠티': 3865, '마음먹다': 3866, 'ㅇㅇㅇㅇ': 3867, 'ㄷㄷㄷㄷㄷㄷㄷㄷㄷㄷㄷㄷㄷㄷㄷㄷ': 3868, '스팸문자': 3869, '한중': 3870, '가르침': 3871, '유형': 3872, '인재': 3873, '이떄': 3874, '선발': 3875, '스탠딩': 3876, '숙련': 3877, '알파메일': 3878, '괴롭히다': 3879, '다라': 3880, '자식': 3881, '똥칰': 3882, '서폿챔': 3883, '피넛없는': 3884, '구마룰러': 3885, '집합소': 3886, '싯팔': 3887, '조르다': 3888, '부분': 3889, '짠하다': 3890, '제드': 3891, '준': 3892, '포커페이스': 3893, '그중': 3894, '인도': 3895, '소시오패스': 3896, '감독대행': 3897, '부담스럽다': 3898, '편견': 3899, '흘러가다': 3900, '주둥이': 3901, '룰러가': 3902, '실검위또': 3903, '드레이븐': 3904, '겐': 3905, '국': 3906, '문지르다': 3907, '전립선': 3908, 'ㅡㅡㅡㅡㅡㅡㅡㅡㅡ': 3909, '으랙': 3910, 'ㅡㅡㅡㅡ': 3911, '구림': 3912, '롤쇼츠올렷는데': 3913, '가슴골': 3914, '삶다': 3915, '다자': 3916, '바라다': 3917, '각성': 3918, '리헨즈냐': 3919, '파급': 3920, '떄리다': 3921, '하레클레스': 3922, '짱꺠': 3923, '임금': 3924, '체불': 3925, '고작': 3926, '꽁': 3927, '짜지다': 3928, '푸다': 3929, '심판': 3930, '퍼즈': 3931, '싸개': 3932, '등임': 3933, '거짓말': 3934, '어보': 3935, '이중과세': 3936, '갖추다': 3937, '손톱': 3938, '사각사각': 3939, '씹히다': 3940, '그나저나': 3941, '걸레': 3942, '해피엔딩': 3943, '문씨': 3944, '얀': 3945, '코스': 3946, '류민석': 3947, '졸귀': 3948, '편이': 3949, '야망': 3950, '곰': 3951, '유기화합물': 3952, '안목': 3953, '우여곡절': 3954, '스팸': 3955, '문자': 3956, '븅딱들': 3957, '반말': 3958, '괴도': 3959, '달반': 3960, '햇수': 3961, '차임': 3962, '친선경기': 3963, '올스타전': 3964, '쵸맘입장': 3965, '구체': 3966, '일개': 3967, '티젠담듀때': 3968, '모이다': 3969, '일기': 3970, '바탕': 3971, '사일': 3972, '다음가다': 3973, '명문': 3974, '재량': 3975, '변경': 3976, '자선': 3977, '사업가': 3978, '단순하다': 3979, '호의': 3980, '적응': 3981, '진압': 3982, '팀랭': 3983, '스태틱': 3984, '반하다': 3985, '음료수': 3986, '펑': 3987, '달려들다': 3988, '헛소리': 3989, '구태': 3990, '묶이다': 3991, '흔들리다': 3992, '특히': 3993, '마자': 3994, '데스노트': 3995, '좆물견': 3996, '못자다': 3997, '고정닉': 3998, '정균': 3999, '도중': 4000, '원년': 4001, '가르다': 4002, '왤케역겹': 4003, '리콜': 4004, '씨잘': 4005, '제자': 4006, '최우': 4007, '군입대': 4008, '발기': 4009, '정력': 4010, '악재': 4011, '회복하다': 4012, '솔랭임': 4013, '겜때': 4014, '밴픽함': 4015, '도신': 4016, '경안': 4017, '대권': 4018, '사도': 4019, '도표': 4020, '비뎊': 4021, '재림': 4022, '최선': 4023, '딜도': 4024, '비례': 4025, '조커': 4026, '념들': 4027, '개눈': 4028, '에서야': 4029, '혜택': 4030, '국면': 4031, '주술': 4032, '시부야': 4033, '사변': 4034, '닥치고': 4035, '신축': 4036, '주택': 4037, '선생': 4038, '템포': 4039, '빨르다': 4040, '절박': 4041, '컵라면': 4042, '만년': 4043, '플레': 4044, '계기': 4045, '온전': 4046, '틀어놓다': 4047, '오버': 4048, '시시하다': 4049, '겓': 4050, '노련하다': 4051, '리핏': 4052, '요구': 4053, '우리나라': 4054, '팬사인회': 4055, '참석': 4056, '함정': 4057, '쓰리핏할': 4058, '캐쇼': 4059, '저녁밥': 4060, '종아리': 4061, '족': 4062, '보이지': 4063, '제케': 4064, '디른건': 4065, '애비': 4066, '방문': 4067, '유연하다': 4068, '인베': 4069, '멀쩡하다': 4070, '요인': 4071, '환상': 4072, '학교': 4073, '창문': 4074, '성은': 4075, '랭킹': 4076, '옛말': 4077, '재롱': 4078, '부임': 4079, '모양': 4080, '세파': 4081, '혈안': 4082, '팰거': 4083, '세도': 4084, '토악질': 4085, '이기세': 4086, '핏갈듯': 4087, '젠첩임': 4088, '관짝': 4089, '공포': 4090, '특집': 4091, '뚱러': 4092, '코칭스태프': 4093, '텔': 4094, '사이드': 4095, '소주': 4096, '참이슬': 4097, '고트인': 4098, '양쪽': 4099, '윈윈': 4100, 'ㄷㄷㄷㄷㄷㄷㄷㄷㄷㄷㄷㄷㄷㄷㄷㄷㄷㄷㄷㄷ': 4101, '내용': 4102, '럭키': 4103, '상윤': 4104, '데기': 4105, '짤리': 4106, '남녀': 4107, '팬다': 4108, '떠들다': 4109, '팀선': 4110, '구성': 4111, '기캐쵸면': 4112, '컨트롤': 4113, '찐슼갈': 4114, '함께': 4115, '고려': 4116, '임대': 4117, '복수': 4118, '다한': 4119, '년안': 4120, '애슐리': 4121, '딤민': 4122, '원툴팀': 4123, '그슬따': 4124, '장례식': 4125, '옮기다': 4126, '웃돈': 4127, '고서': 4128, '닝': 4129, '전하': 4130, '가정': 4131, '선정': 4132, '반영': 4133, '대망': 4134, '으로의': 4135, '안떳': 4136, '직업': 4137, '슼프런트': 4138, '처리': 4139, '삼일': 4140, '업뎃': 4141, '체제': 4142, '전가': 4143, '진행중': 4144, '해탈': 4145, '부터라도': 4146, '배신자': 4147, '브라움': 4148, '뽀삐': 4149, '어쨌다': 4150, '옵더레': 4151, '삼키다': 4152, '치통': 4153, '런동': 4154, '전라': 4155, '봉사': 4156, '하든': 4157, '어케될': 4158, '포샵': 4159, '찌걱': 4160, '차': 4161, '기프': 4162, '막상': 4163, '계획': 4164, '성능': 4165, '체감': 4166, '특이하다': 4167, '우주': 4168, '다크호스': 4169, '불꽃': 4170, '부두': 4171, '솔랭팀': 4172, '우결': 4173, '후렴': 4174, '어찌': 4175, '꼴찌팀': 4176, '준우': 4177, '특수하다': 4178, '펴포먼스': 4179, '여우': 4180, '잠정': 4181, '원한': 4182, '닐라': 4183, '찢다': 4184, '젠딮전': 4185, '긍정': 4186, '찌르다': 4187, '재밋겟노': 4188, '에이전트': 4189, '사인': 4190, '걸치다': 4191, '년더': 4192, '연장': 4193, '제공': 4194, '엔딩': 4195, '칼질': 4196, '레드': 4197, '핵꿀': 4198, '싸구려': 4199, '번월': 4200, '마린': 4201, '개수': 4202, '결말': 4203, '노후': 4204, '구슼': 4205, '갈림': 4206, '희생양': 4207, '레클': 4208, '낭비': 4209, '종반': 4210, '조차': 4211, '분당': 4212, '지피다': 4213, '구심': 4214, '탈주': 4215, '쏟아지다': 4216, 'ㅅㅂㅋㅋㅋㅋㅋㅋ': 4217, 'ㅅㅅㅅㅅㅅㅅㅅ': 4218, '동갑': 4219, '꼬실': 4220, '짱드컵': 4221, '내지': 4222, '똥': 4223, '젠딮': 4224, '다합': 4225, 'ㅌㅋㅋ': 4226, '깔끔하다': 4227, '구리지': 4228, '닮음': 4229, '얘둘': 4230, '어뜩하다': 4231, '로코도코': 4232, '어땟': 4233, '피셜제구케': 4234, '마이크': 4235, '사족': 4236, '씬': 4237, '전문가': 4238, '픽이었단': 4239, '켈린버리': 4240, '비보': 4241, '번돈': 4242, '내야': 4243, '개별': 4244, '론데': 4245, '어케함': 4246, '피에스타': 4247, '차지': 4248, 'ㅓ': 4249, '속이다': 4250, '월즈먹': 4251, '물리': 4252, '패후': 4253, '기고': 4254, '변호인': 4255, '있곸': 4256, '오프': 4257, '더롤': 4258, '웟노': 4259, '라이브': 4260, '리그컵': 4261, '아이유': 4262, '결혼': 4263, '아이큐': 4264, '자취': 4265, '맴버': 4266, '버캐쇼덕켈': 4267, '안키': 4268, '서진혁': 4269, '동일': 4270, '인물': 4271, '릴폭시': 4272, '가혹하다': 4273, '엄살': 4274, '맘년': 4275, '혼내다': 4276, '쇼트트랙': 4277, '제비': 4278, '딜탑알': 4279, '인분': 4280, '흥함': 4281, '싸인': 4282, '다떳노': 4283, 'ㅅㅅㅅ': 4284, '메리트': 4285, '가치관': 4286, '외화': 4287, '노잼밈': 4288, '종목': 4289, 'ㅅㅅㅅㅅㅅ': 4290, '뭉클하다': 4291, '팬싸인회': 4292, '냉혹하다': 4293, '공허': 4294, '유충': 4295, '선혈': 4296, '딮젠': 4297, '주도하다': 4298, '오너캐': 4299, '존내': 4300, '세부': 4301, '사항': 4302, '킹루쇼에켈이': 4303, '계륵': 4304, '원담': 4305, '원기': 4306, '아디': 4307, '나락가': 4308, '성폭행': 4309, '피해': 4310, '경찰': 4311, '낭심': 4312, '탑포변': 4313, '가게': 4314, '회도': 4315, '인척': 4316, '스펀지밥': 4317, '속상하다': 4318, '리헨즈보면': 4319, '킹겐표식데프트': 4320, '먹': 4321, '밈좀': 4322, '겟앰': 4323, '번만': 4324, '명도': 4325, '이도': 4326, '도아': 4327, '이론': 4328, '단물': 4329, '헨즈바텀': 4330, '통틀어': 4331, '딮킅': 4332, '더쌔': 4333, '뇌파': 4334, '섀끼': 4335, '외면': 4336, '캐베': 4337, '에드': 4338, '광화문': 4339, '고척': 4340, '존심': 4341, '굽히다': 4342, '의욕': 4343, '저밈': 4344, '팀별': 4345, '닷지': 4346, 'ㄷㄷㄷㄷㄷㄷ': 4347, '개목줄': 4348, '망겜': 4349, '랩': 4350, '작업': 4351, '문의': 4352, '줄다': 4353, '레알': 4354, '첼시': 4355, '거치다': 4356, '나사': 4357, '토론': 4358, '이래': 4359, '풀캠': 4360, '십자': 4361, '포화': 4362, '구버지': 4363, '오피셜떴': 4364, '카타리나': 4365, '분겜': 4366, '딜러': 4367, '카타': 4368, '만남': 4369, '리오스': 4370, '대폭발': 4371, '트렌드': 4372, '지점': 4373, 'ㅎㅎㅎ': 4374, '잘버': 4375, '시리즈': 4376, '깜냥': 4377, '여러분': 4378, '호랑이': 4379, '킅갈들': 4380, '소드': 4381, '호구': 4382, '딜임': 4383, '케랑': 4384, '혼': 4385, '자잘하다': 4386, '파격': 4387, '상해': 4388, '개좆슼갈': 4389, '멕': 4390, '싸': 4391, '렵': 4392, '저스쿼드': 4393, '성사': 4394, '만날': 4395, '제야': 4396, '범부': 4397, '계약서': 4398, '승인': 4399, '쉬임': 4400, '트위터': 4401, '금지': 4402, '데쓰': 4403, '저라뎃': 4404, '기기': 4405, '개소릴': 4406, '제캐쵸도': 4407, '영재': 4408, '용기': 4409, '어쩌다가': 4410, '크로스': 4411, '막강': 4412, '립': 4413, '레벨': 4414, '바텀텔': 4415, '몇몇': 4416, '무슨무슨': 4417, '굴욕': 4418, '기캐쵸맘': 4419, '빙의': 4420, '다짐': 4421, '꼴등': 4422, '십자가': 4423, '패업': 4424, '분만': 4425, '트릴': 4426, '파가': 4427, '사공': 4428, '들어주다': 4429, '뻔햇음': 4430, '스쿼드긴하': 4431, '평점': 4432, '색기': 4433, '따위': 4434, '리나': 4435, '소규모': 4436, '쵸룰': 4437, '바텀탓': 4438, '아크': 4439, '샨크샨': 4440, '다리우스': 4441, '데이터': 4442, '용량': 4443, '딘심': 4444, '안일하다': 4445, '바라지': 4446, '리오레': 4447, '유학': 4448, '망설이다': 4449, '그해': 4450, '만들어지다': 4451, '년임': 4452, '개폭망': 4453, '하라': 4454, '과정': 4455, '뒤통수': 4456, '후려': 4457, '별다르다': 4458, '팔씨름': 4459, '인자': 4460, '강임': 4461, '유로파리그': 4462, '인안나': 4463, '대학': 4464, '전국': 4465, '결선': 4466, '활성화': 4467, '공트': 4468, '휴식': 4469, '전력': 4470, '보강': 4471, '찬': 4472, '부담': 4473, '불구': 4474, '해구': 4475, '띵진이햄': 4476, '대한민국': 4477, '다물다': 4478, '룰러롤': 4479, '굳히다': 4480, 'ㅅㅅㅅㅅㅅㅅㅅㅅㅅ': 4481, '썩다': 4482, '벽': 4483, '안쌔보': 4484, '촤비': 4485, '토크': 4486, '숔': 4487, 'ㅋㅋㅋㅋㅋㅋㅋㅋㅋㅋㅋㅋㅋㅋㅋㅋㅋㅋㅋ': 4488, '쌘건': 4489, '못함': 4490, '아군': 4491, '앵': 4492, '터치': 4493, '느거': 4494, '꿈깨': 4495, '좀해': 4496, '이인': 4497, '느': 4498, '우비': 4499, '쯔': 4500, '헨쯔': 4501, '됫노': 4502, '놀리다': 4503, '쵸비스테픈': 4504, '커리': 4505, '여장남자': 4506, '도장': 4507, '무력하다': 4508, '밥팀': 4509, '눈치': 4510, '잘못': 4511, '링크': 4512, '바랬는데': 4513, '젠지리헨즈': 4514, '여포': 4515, '마리': 4516, '심해': 4517, '과는': 4518, '버프': 4519, '멸치': 4520, '쵸맘이': 4521, '사빠': 4522, '캉겐': 4523, '레어짤': 4524, '킹쇼': 4525, '궁합': 4526, '피넛맘': 4527, '팝콘': 4528, '뜯다': 4529, '부패': 4530, '읍': 4531, '무뇌팀': 4532, '피넛인건': 4533, '치가': 4534, '리헨즠': 4535, '못햇다': 4536, '좃된': 4537, '방향성': 4538, '무엇': 4539, '심다': 4540, 'ㄷㄷㄷㄷㄷㄷㄷㄷ': 4541, '역롤': 4542, '택함': 4543, '수틀': 4544, '철': 4545, '불가능': 4546, '밥집': 4547, '팀빨': 4548, '태안': 4549, '넘기다': 4550, '정인': 4551, '어려워지다': 4552, '풀캠메': 4553, '멘트': 4554, '만들기': 4555, '넛딜': 4556, '룰러보': 4557, '니그로': 4558, 'ㅅㅂㅅㅂ': 4559, '드림팀': 4560, 'ㅋㅋㅌㅌ': 4561, '사하다': 4562, '나니': 4563, '갈씨': 4564, '공동': 4565, '전선': 4566, '기캐쵸페': 4567, '쇼메패': 4568, '브로': 4569, '어케막을건데': 4570, '단체': 4571, '올려놓다': 4572, '치열하다': 4573, '갑갑하다': 4574, '개인플레이': 4575, '나이트': 4576, '소문': 4577, '퍼지다': 4578, 'ㄷㄷㄷㄷㄷㄷㄷㄷㄷㄷㄷㄷㄷ': 4579, '그려지다': 4580, '망령': 4581, '멘붕': 4582, '중고': 4583, '상보': 4584, '칰': 4585, '월즈없': 4586, '중심': 4587, '안빰': 4588, '누군가': 4589, '팀운': 4590, '목요일': 4591, '안댔늠데': 4592, '다정하다': 4593, '특기': 4594, '투서폿': 4595, '인과': 4596, '젠칰전': 4597, '불판': 4598, '후끈하다': 4599, '실소': 4600, '엠창': 4601, '칸피넛쵸비': 4602, '나타': 4603, '버릇': 4604, '이자': 4605, '도란피넛딜': 4606, '톡': 4607, '칰마갤': 4608, '핫함': 4609, '픽임': 4610, '고고': 4611, '회랑': 4612, '꾹': 4613, '연비': 4614, '퍼먹는': 4615, '로밍': 4616, '하니': 4617, '쩝': 4618, '말아먹다': 4619, '질질': 4620, '도파': 4621, '이랑은': 4622, '짜증나다': 4623, '화좀': 4624, '쎼': 4625, '들먹이다': 4626, '감코진': 4627, '소통': 4628, '핼': 4629, '에바': 4630, '볼트': 4631, '페이지': 4632, '우르르': 4633, '국밥': 4634, '뜻': 4635, '팀리퀴드': 4636, '중신': 4637, '슼갈입장': 4638, '라운드': 4639, '고제': 4640, '보모': 4641, '꼰': 4642, '신지드': 4643, '원툴': 4644, 'ㅆ': 4645, '어쩌면': 4646, '숟가락': 4647, '훗날': 4648, '겁': 4649, '도와주다': 4650, '랫': 4651, '절하': 4652, '틀리다': 4653, '전어': 4654, '벌벌': 4655, '떨다': 4656, '무게': 4657, '차이나다': 4658, '친분': 4659, '확': 4660, '강민석': 4661, '고용': 4662, '준피셜': 4663, '밴픽썰': 4664, '인거임': 4665, '그라가스': 4666, '두뇌': 4667, '에서만': 4668, '이두': 4669, '안심': 4670, '손풀때': 4671, '노틸러스': 4672, '수단': 4673, '주류': 4674, '대칭': 4675, '디플켈린': 4676, '고기': 4677, '구울': 4678, '익히다': 4679, '주력': 4680, '피넛제카': 4681, '쌜것': 4682, '왜케안뜨노': 4683, '젠첩쓰리핏': 4684, '렛츠고': 4685, '축제': 4686, '지키다': 4687, '컴백': 4688, 'ㄹㅇㅋㅋㅋㅋㅋㅋㅋㅋㅋㅋ': 4689, '기캐쵸페리입갤': 4690, '초파리': 4691, '지금껏': 4692, '김하람': 4693, '버려지다': 4694, '부들부들': 4695, '곁': 4696, 'ㄷㄷㄴ': 4697, '무용': 4698, '트할': 4699, '서라벌': 4700, '에이밍리헨즈': 4701, '협박': 4702, '지배': 4703, '종': 4704, '우려': 4705, '깨': 4706, '모조리': 4707, '손절침': 4708, 'ㄱㅆㅅㅌㅊ': 4709, '화들짝': 4710, '도주': 4711, '미리보기': 4712, '장난감': 4713, '측은하다': 4714, '모친': 4715, '끈끈': 4716, '호완': 4717, '팰걸': 4718, '원정': 4719, 'ㅅㅅ': 4720, '샤라': 4721, '이견': 4722, '뇌지컬쩌노': 4723, '칼부': 4724, '룰러쵸비': 4725, '인팟': 4726, '깍': 4727, '힘없다': 4728, '그동안': 4729, '올핸': 4730, '얽히다': 4731, '뭉치': 4732, '쌜거같긴함': 4733, '켈린가': 4734, '젠좆': 4735, '틀': 4736, '여자애': 4737, '공주': 4738, '막타좀': 4739, '왜곡': 4740, '애착': 4741, '인형': 4742, '자극받다': 4743, '젠지거르': 4744, '해적': 4745, '갈드컵거르': 4746, '겪다': 4747, '거길': 4748, '대다수': 4749, '친': 4750, '탈출기': 4751, '홀': 4752, '언플': 4753, '피넛쵸비': 4754, '아카데미': 4755, '친형': 4756, '퀸': 4757, '보루': 4758, '아시안컵': 4759, '안지': 4760, '창조': 4761, '채널': 4762, '기레기': 4763, '랑은': 4764, '쵸비빠': 4765, '같잖다': 4766, '쫓다': 4767, '온대': 4768, '고모': 4769, '파전': 4770, '낮아지다': 4771, '일수': 4772, '오리': 4773, '약속': 4774, '국재': 4775, '탑서폿': 4776, '빠': 4777, '마렵': 4778, '재킹함': 4779, '들어맞다': 4780, 'ㄷㄷㄷㄷㄷㄷㄷㄷㄷㄷㄷ': 4781, '클리어': 4782, '욕구': 4783, '뒤졋': 4784, '넛상혁': 4785, '기캐쵸리': 4786, '뒤늦다': 4787, '오신': 4788, '가족': 4789, '황부': 4790, '영입꼬': 4791, '테크': 4792, '고전': 4793, '피자': 4794, '피넛이었': 4795, '뒈지다': 4796, '친건': 4797, '랄로': 4798, '구조대': 4799, '실례': 4800, '젠첩련들': 4801, '치우다': 4802, '자학': 4803, '백만배': 4804, '행방': 4805, '안나왓': 4806, '비난': 4807, '애니': 4808, '방학': 4809, '어둠': 4810, '프차같노': 4811, '줌마': 4812, '단계': 4813, '도약': 4814, '넥서스': 4815, '울먹이다': 4816, '낫띵': 4817, '킨드해': 4818, '기쵸': 4819, '자극': 4820, '악성': 4821, 'ㄱ': 4822, '으로가': 4823, '매너': 4824, '일본어': 4825, '팬임': 4826, '검금': 4827, '절벽': 4828, '민거': 4829, '국뽕': 4830, '레즈': 4831, '임시조치': 4832, '예외': 4833, '할아버지': 4834, '내진': 4835, '최저': 4836, '불만': 4837, '기안': 4838, '롤컵보': 4839, '볼땐': 4840, '폭력': 4841, '스톰': 4842, '애쉬': 4843, '정치': 4844, '창년': 4845, '극한': 4846, '그다음': 4847, '쵸면': 4848, '못연': 4849, '예의': 4850, '기캐쵸중': 4851, 'ㅎ': 4852, '쭌': 4853, '전도': 4854, '좆박': 4855, '식음': 4856, '킅감': 4857, '부스': 4858, '그릴': 4859, '뿜빰': 4860, '나루토': 4861, '그림실력': 4862, '결성': 4863, '사용': 4864, '리스트': 4865, '성역': 4866, '따라잡다': 4867, '백정': 4868, '리헨즈간다늗데': 4869, '쵸맘들': 4870, '명호': 4871, '첸': 4872, '렉카': 4873, '독박': 4874, '마파': 4875, '전문': 4876, '힐듯': 4877, '카정': 4878, '심각하다': 4879, '바지': 4880, '핏어떠': 4881, '궨': 4882, '뉴젠': 4883, '듀브광농': 4884, '장연': 4885, '시전': 4886, '관여': 4887, '벤틀리': 4888, '명장': 4889, '줫': 4890, '껄끄러움': 4891, '안긁혔음': 4892, '렙차': 4893, '작살': 4894, '뒷텔': 4895, '예술': 4896, '덩이': 4897, '킹캐': 4898, '칸임': 4899, '훠즈': 4900, '개또': 4901, '라이노': 4902, '군도': 4903, '배신': 4904, '사무': 4905, '총장': 4906, '피넛뇌': 4907, '고간': 4908, 'ㅡㅡㅡ': 4909, '미궁': 4910, '공지': 4911, '투임': 4912, '붕떠버렸': 4913, '가재': 4914, '좁다': 4915, '넓다': 4916, '비극': 4917, 'ㅇㅅㅇ': 4918, '일덴데': 4919, '기형': 4920, '누굴': 4921, '뻥튀기': 4922, '대황칰': 4923, '난적': 4924, '은하': 4925, '퍼즐': 4926, '개좆듀': 4927, '청산': 4928, '상습': 4929, '솔로': 4930, '광프동릭스': 4931, '티나': 4932, '얘넨': 4933, '처발릴떄': 4934, '퉁': 4935, '고버지': 4936, '일찐': 4937, '피제': 4938, '못구': 4939, '직스': 4940, '유리하다': 4941, '반전': 4942, '의하다': 4943, '마춤': 4944, '젠퍼팀': 4945, '후함': 4946, '파이크': 4947, '말실수': 4948, '지난': 4949, '독하다': 4950, '능청': 4951, '룰러잡을돈': 4952, '훌쩍': 4953, '인권위': 4954, '진정': 4955, '결별': 4956, '수순': 4957, 'ㅎㅌㅊ': 4958, '신입': 4959, '반드시': 4960, '구색': 4961, '데프트간': 4962, '행': 4963, '모이': 4964, '그것': 4965, '보전': 4966, '툰': 4967, '임마': 4968, '솔랭딸': 4969, '개쌔': 4970, '정의': 4971, '굿': 4972, '게다': 4973, '순도': 4974, '렉스': 4975, '성기조': 4976, '에든': 4977, '위협': 4978, '도르가': 4979, '좆맘': 4980, '거피셜': 4981, '리브': 4982, '계약해지': 4983, '딴': 4984, '솔랭천점': 4985, '놈임': 4986, '잘맞다': 4987, '이글': 4988, 'ㅋㅋㅋㅋㅋㅋㅋㅋㅋㅋㅋㅋㅋㅋㅋㅋㅋㅋㅋㅋㅋㅋㅋ': 4989, '프로리그': 4990, '우터피셜': 4991, '탓임': 4992, '출시': 4993, '옾더레': 4994, '먼일': 4995, '소개팅': 4996, '호텔': 4997, '룸서비스': 4998, '설거지': 4999, '칠': 5000, '완곡': 5001, '기정': 5002, '서폿없': 5003, '외적': 5004, '의사': 5005, '성배': 5006, '빠커': 5007, '젠평': 5008, '방대': 5009, '뒤틀다': 5010, '점마': 5011, '가난하다': 5012, '독새': 5013, '어질어질하다': 5014, '숙적': 5015, '이임': 5016, '씹어멉음': 5017, '만가': 5018, '바꼇': 5019, '염병': 5020, '때브터': 5021, '군콜업': 5022, '업글일': 5023, '실직': 5024, '박지': 5025, '전향': 5026, '지은': 5027, '궁굼': 5028, '달린': 5029, '듀란트': 5030, '골스': 5031, '수퍼': 5032, '밈임': 5033, 'ㅡㅡㅡㅡㅡㅡㅡㅡㅡㅡㅡㅡㅡ': 5034, '이모': 5035, '염': 5036, 'ㅡㅡㅡㅡㅡㅡㅡㅡㅡㅡㅡㅡㅡㅡ': 5037, '가노': 5038, '깨끗해지다': 5039, '컨데': 5040, '이상일': 5041, '제계': 5042, '표비뎊베': 5043, '망치다': 5044, '과소': 5045, '앰생': 5046, '만점': 5047, '점임': 5048, '텨': 5049, '개쫄리는거': 5050, '장하나': 5051, '짱개': 5052, '팀못구': 5053, '개쩌': 5054, '음해': 5055, '해원': 5056, '데스': 5057, '로또': 5058, '보너스': 5059, '샤워': 5060, '오줌': 5061, '최고점': 5062, '유자차': 5063, '맴버등급': 5064, '감치': 5065, '차야': 5066, '윌뷔': 5067, 'ㅠ': 5068, '한중일': 5069, '결과': 5070, '두려움': 5071, '브실': 5072, '거르기': 5073, '스왑': 5074, '현대인': 5075, '난습': 5076, '퍼센트': 5077, '기여': 5078, '문장': 5079, '습': 5080, '착착': 5081, '진작': 5082, '오구': 5083, '해드리다': 5084, '보성': 5085, '비키니': 5086, '웅장': 5087, '법가': 5088, '빨린': 5089, '쓸데없이': 5090, '로스트': 5091, '도란대다': 5092, '배정': 5093, '검': 5094, '나슼갈게': 5095, '줄줄이': 5096, '꿰': 5097, '레딧': 5098, '래야': 5099, '쟁이': 5100, '직후': 5101, '황의조': 5102, '슼한딮': 5103, '중대': 5104, '눈데': 5105, '기타등등': 5106, '폰겜충': 5107, '낌': 5108, '막장': 5109, '스멥': 5110, '정반대': 5111, '첨부': 5112, '오냐': 5113, '전설': 5114, '주노': 5115, '눈팅': 5116, 'ㄱㄴ': 5117, '패싱': 5118, '어케됬': 5119, '념글가': 5120, '중학교': 5121, '개맛': 5122, '미호': 5123, '앰버': 5124, '라슼갈': 5125, '우편함': 5126, '싸이': 5127, '버거': 5128, '천안문': 5129, '켈린정도': 5130, '나르다': 5131, '유튭올렷을때': 5132, '세상': 5133, '초비': 5134, '사임': 5135, '거부': 5136, '유닛': 5137, '감기': 5138, '진가': 5139, '뱅임': 5140, '페까들': 5141, '얘앞': 5142, '도라에몽': 5143, '빙자': 5144, '따오다': 5145, '틀타': 5146, '맥힘': 5147, '전격': 5148, '레드불': 5149, '김유식': 5150, 'ㅇㅁㄷㅈㅅㄲ': 5151, '돈찍누': 5152, '값어치': 5153, '간질': 5154, '마비': 5155, '결혼식': 5156, '초대': 5157, '부아': 5158, '전쟁': 5159, '도리': 5160, '은데': 5161, '의견': 5162, '덕질': 5163, '잘나다': 5164, '애도': 5165, '컴': 5166, '캐스': 5167, '팝업': 5168, '꿈꾸다': 5169, '시바': 5170, '동이': 5171, '바텀라인': 5172, '중요성': 5173, '빌리다': 5174, '얼평': 5175, '채': 5176, '꼴다': 5177, '쵸독임': 5178, '설득': 5179, '뎊맘': 5180, '패스': 5181, '샤넬': 5182, '모델': 5183, '발탁': 5184, '구독': 5185, '누르다': 5186, '유뷰트': 5187, '삐지다': 5188, '거꾸로': 5189, '헝': 5190, '반값': 5191, '그랜그슬램': 5192, '전국투어': 5193, '영국': 5194, '다그': 5195, '의상': 5196, '코스프레': 5197, '대박나다': 5198, '단위': 5199, '패션계': 5200, '정복': 5201, '거즘': 5202, '안기인': 5203, '엌': 5204, '리야': 5205, '다투다': 5206, '엄근진함': 5207, '라오': 5208, '얻어먹다': 5209, '개졷슼': 5210, '빽': 5211, 'ㅅㄱ': 5212, '좆밥팀': 5213, '실험': 5214, '쥐행임': 5215, '헝그리맨': 5216, '쵸룰리': 5217, '빼옴': 5218, '배아': 5219, '황프트': 5220, '킨드': 5221, '그브같': 5222, '라기보단': 5223, '주의자': 5224, '아랑': 5225, '삼겹살': 5226, '천하': 5227, 'ㅋㅋㅋㅋㅋㅋㅋㅋㅋㅋㅋㅋㅋㅋㅋㅋㅋㅋㅋㅋㅋㅋㅋㅋㅋㅋㅋㅋㅋㅋㅋ': 5228, '킅갤': 5229, '오리아나': 5230, '뎊베': 5231, '리바이': 5232, '포즌데': 5233, '한바탕': 5234, '꼭지': 5235, '소원': 5236, '언론플레이': 5237, '지갑': 5238, '보아': 5239, '무직': 5240, '나가야': 5241, '흰색': 5242, '다이애나': 5243, '손아귀': 5244, '딮붕이들': 5245, '탈티': 5246, '걔넨': 5247, '재밋겟': 5248, '미스': 5249, '채팅': 5250, '일시': 5251, '쏭': 5252, '모함': 5253, '전통': 5254, '티젠한딮': 5255, '월즈갈거': 5256, '황혼': 5257, '쌜듯': 5258, '박을수': 5259, '뎌': 5260, '옳다': 5261, '듀갤': 5262, '기다리다': 5263, '라기': 5264, '대폭': 5265, '포킹': 5266, '돌진': 5267, '평평': 5268, '평이': 5269, '숟': 5270, '직임': 5271, '조규남': 5272, '장님': 5273, '과학': 5274, '좆밥': 5275, '러임': 5276, '빨릴': 5277, '프리미엄': 5278, '공짜': 5279, '쏄수': 5280, '부모님': 5281, '해감': 5282, '밸류': 5283, '더쌘거같음': 5284, '승하': 5285, '어게인': 5286, '젓다': 5287, '건실': 5288, '갈곳도': 5289, '슼빠들': 5290, '치노': 5291, '퓨': 5292, '바텀텔타준': 5293, 'ㅌㅋㅋㅋ': 5294, '후자': 5295, '삽질': 5296, '뉴진': 5297, '스미다': 5298, '슼갈코인타': 5299, '톡톡하다': 5300, '치르다': 5301, '말좆': 5302, '호로': 5303, '타일': 5304, '무새': 5305, '븅신': 5306, '마따나': 5307, '최병훈': 5308, '철벽': 5309, '퇴물': 5310, '페제': 5311, '구오': 5312, '잘랏으': 5313, '그슬햇다': 5314, '어캐되': 5315, '때노': 5316, '돈준': 5317, '뭐함': 5318, '슼갈코': 5319, '헤으응거릴듯': 5320, '안락사': 5321, '원피스': 5322, '마사지': 5323, '프차왜한거': 5324, '선장': 5325, '측면': 5326, '틀드해': 5327, '작품': 5328, '기캐쵸페베': 5329, '티남': 5330, '남지': 5331, '하나같이': 5332, '기캐쵸딜': 5333, '비웃다': 5334, '고패': 5335, '체라': 5336, '거론': 5337, '인적': 5338, '조금': 5339, 'ㅋㅋㅋㅋㅋㅋㅋㅅㅂㅋㅋㅋ': 5340, '어케댐': 5341, '프로씬': 5342, '칸커페테': 5343, '닦이다': 5344, '프렌차이즈': 5345, '역체롤임': 5346, '어마어마하다': 5347, '하고도': 5348, '바드': 5349, '진자': 5350, '덕': 5351, '길어지다': 5352, '언럭키': 5353, '못정': 5354, '착시': 5355, '븅신들': 5356, '훈련소': 5357, '교관': 5358, '쌔지겟': 5359, '베팅': 5360, '투툴': 5361, '왜적': 5362, '생방송': 5363, '질적': 5364, '패더': 5365, '차갑다': 5366, '필사': 5367, '직원': 5368, '프린스': 5369, '생겻노': 5370, '사팔이': 5371, '팔팔': 5372, '뷰잉': 5373, '떡락': 5374, '이를': 5375, '달래다': 5376, '헤나': 5377, '구축': 5378, '고래': 5379, '형아': 5380, '아쉬움': 5381, '자강': 5382, '천하다': 5383, '평': 5384, '더쌔겟': 5385, '포텐셜': 5386, '회복': 5387, '바라보다': 5388, '형구': 5389, '정돈': 5390, '대비': 5391, '챌린져스': 5392, '월요일': 5393, '써밋': 5394, '남미': 5395, 'ㄹ': 5396, '종일': 5397, '호날두': 5398, '재정': 5399, '움직이다': 5400, 'ㅂㄹ': 5401, 'ㅌㅇ': 5402, 'ㅋㅊ': 5403, '잡아가다': 5404, '재탕하다': 5405, '테라포밍': 5406, '로란': 5407, '피넛있는': 5408, '도의': 5409, '조긴': 5410, '박행': 5411, '종종': 5412, '렉': 5413, '만렙': 5414, '개새끼': 5415, '제보': 5416, 'ㅣㅣ': 5417, '킹겐버리': 5418, '핑크': 5419, '쪽수': 5420, '지형': 5421, '수용': 5422, '페딜': 5423, '란줄': 5424, '슼뽕': 5425, '티비': 5426, '초상집': 5427, '터트려': 5428, '롤겔': 5429, '막임': 5430, '균열': 5431, '라나': 5432, '놔두다': 5433, '롤똥': 5434, '현지': 5435, '이아': 5436, '허리': 5437, '인비': 5438, '썸띵': 5439, '죽통': 5440, '조던': 5441, '코비': 5442, '어처피': 5443, '버': 5444, '로우': 5445, '갈리': 5446, '학년': 5447, '반함': 5448, '이구': 5449, '보급': 5450, '이억': 5451, '대박': 5452, '흩어지다': 5453, '최저임금': 5454, '태윤때문': 5455, '과극': 5456, '군화': 5457, '경험치': 5458, '밤새다': 5459, '개좃같겠': 5460, '격차': 5461, '내면': 5462, '부활마렵': 5463, 'ㅇ': 5464, '쑤닝': 5465, '킹임': 5466, '똥무': 5467, '불행하다': 5468, '정이오': 5469, '밍견': 5470, '마랑': 5471, '탑파': 5472, '엠': 5473, '망': 5474, '구해': 5475, '놀림': 5476, '고깃집': 5477, '주사위': 5478, '게낫': 5479, '혼란': 5480, '한두': 5481, '떼감': 5482, '주년': 5483, '젠마겔': 5484, '몰리다': 5485, '규정': 5486, '좆넛': 5487, '진즉': 5488, '이석희': 5489, 'ㅅㅂㅋㅋㅋㅋㅋㅋㅋㅋ': 5490, '딮이번': 5491, '슼토체스': 5492, '슈갤럼': 5493, '필수': 5494, '보호': 5495, '본격': 5496, '눕롤원툴': 5497, '옵팀': 5498, '한때': 5499, '센스': 5500, 'ㄱㅏ': 5501, '쿨거': 5502, '아기': 5503, '낳다': 5504, '울엇어': 5505, '용다': 5506, '젠티': 5507, '개막식': 5508, '장문': 5509, '에서까지': 5510, '참전': 5511, '화생': 5512, '듀랙스': 5513, '빈꼽': 5514, '툴팀임': 5515, '트롤': 5516, '박제': 5517, '폭기': 5518, '주작': 5519, '승강': 5520, '인플레': 5521, '사나이': 5522, '별루임': 5523, '무조': 5524, '콘': 5525, '닼': 5526, 'ㅋㅋㅋㅋㅋㅋㅋㅋㅋㅌㅋㅋㅋㅋ': 5527, '짬통': 5528, '마노': 5529, '말로': 5530, '도우': 5531, '인하다': 5532, '출하': 5533, '선빵': 5534, '타나토스': 5535, '라헬': 5536, '워낙': 5537, '고난': 5538, '행군': 5539, '결정전': 5540, '뎊맘들': 5541, '나슼갈게이': 5542, '흥미진진': 5543, '빅매치': 5544, 'ㅋㅋㅋㅋㅋㅋㅋㅋㅋㄲ': 5545, '개망햇': 5546, '기드온': 5547, '온갓': 5548, '대거': 5549, '족쇄': 5550, '플레이메이커': 5551, '쑤다': 5552, '이왕': 5553, '개오지': 5554, '기어오르다': 5555, '말임': 5556, '호성': 5557, '들러리': 5558, '솔카': 5559, '바오': 5560, '베카': 5561, '안딜햄': 5562, '꼭마햄': 5563, '어쩌라고': 5564, '대형': 5565, '버티다': 5566, '접': 5567, '입성': 5568, 'ㄱㅋㄱㄱㄱ': 5569, '조선인': 5570, '흥': 5571, '첨': 5572, '기자지': 5573, '벤치마킹': 5574, '떳으': 5575, '아무나': 5576, '롤념먹어': 5577, '웬만하다': 5578, '신청': 5579, '무임': 5580, '에야': 5581, '복권': 5582, '피넛캐니언': 5583, '여름': 5584, '이제야': 5585, '다미': 5586, '김고은': 5587, '한효주': 5588, '김목경': 5589, '욕좀': 5590, '온라인': 5591, '불쌍': 5592, '애이밍': 5593, '닉변': 5594, '공': 5595, '짜임': 5596, '돌림': 5597, 'ㅠㅠㅠㅠㅠㅠㅠ': 5598, '도안': 5599, '개졷망했': 5600, '임밸류': 5601, '과열': 5602, '왜저': 5603, '늦다': 5604, '엄대엄': 5605, '도맘임': 5606, '사망': 5607, '철권': 5608, '한단': 5609, '영상편집': 5610, '아이': 5611, '새탭': 5612, '끼얏': 5613, 'ㅎㄷㄷ': 5614, '개시': 5615, '안대': 5616, '개장': 5617, '수임': 5618, '비숫': 5619, '자국': 5620, '취향': 5621, '스팀': 5622, '담마겔': 5623, '바이블': 5624, '타치': 5625, '행운': 5626, '조견': 5627, '미수범': 5628, '트럭': 5629, '슥갈': 5630, '사오': 5631, '운동': 5632, '안됏음': 5633, '고수': 5634, '운지': 5635, '기절': 5636, '한가득': 5637, '코딱지': 5638, '발로': 5639, '집중': 5640, '킹겐햄': 5641, '느탑쮀': 5642, '불과': 5643, '망가뜨릴려': 5644, '작정': 5645, '신상': 5646, '장점': 5647, '챌린저스잖': 5648, '짓임': 5649, '헌': 5650, '정곡': 5651, '마는': 5652, '살살': 5653, '예능': 5654, '슈파젠': 5655, '좆즙': 5656, '비뎅겅이잖': 5657, '몇퍼임': 5658, '부들': 5659, '상호': 5660, '꺼드럭대던': 5661, '급매': 5662, '물들다': 5663, '슼갈없어': 5664, '잘만': 5665, '선픽': 5666, '해경': 5667, '기력': 5668, '빨팀': 5669, '야무지다': 5670, '팰듯': 5671, '신가': 5672, '듀랭': 5673, '슼갈아님': 5674, '잠잠하다': 5675, '드러나다': 5676, '담금질': 5677, '수혜': 5678, '드가는': 5679, '베스트': 5680, '한선수': 5681, '채감': 5682, '남탓': 5683, '자폭': 5684, '글임': 5685, '짤뭐': 5686, '타격': 5687, '관리자': 5688, '웰컴': 5689, '백련': 5690, '디씨': 5691, '피로': 5692, '엇으': 5693, '순방': 5694, '면상': 5695, '우왕': 5696, '고가': 5697, '뽀록나다': 5698, '단점': 5699, '탄핵': 5700, '이쁜이': 5701, '맘마': 5702, '쥐다': 5703, '그랜드': 5704, '슬램': 5705, '패착': 5706, '피넛임': 5707, '쭉': 5708, '체결': 5709, '태운': 5710, '탑신': 5711, '병자': 5712, '쿨감': 5713, '돌려주다': 5714, '멍멍': 5715, '속죄': 5716, '쮀': 5717, '박보영': 5718, '키스': 5719, '간지': 5720, '월등하다': 5721, '얹다': 5722, '염보성': 5723, '버그': 5724, '검술': 5725, '막내아들': 5726, '소설': 5727, '챔스': 5728, '더블': 5729, '엘리': 5730, '방식': 5731, '코메': 5732, '디네': 5733, '가랑이': 5734, '확실': 5735, '므시하': 5736, '거슬리다': 5737, '암살': 5738, '종이비행기': 5739, '포변': 5740, '쓰기': 5741, '더블엘리미네이션': 5742, '고비': 5743, '린다': 5744, '채금': 5745, '체재': 5746, '에스': 5747, '파니': 5748, '믹스': 5749, '조로': 5750, '개쩌는건': 5751, '효과': 5752, '나타나다': 5753, '어쩌누': 5754, '발발': 5755, '딮상': 5756, '중이': 5757, '쓰': 5758, '케이티': 5759, '신작': 5760, '브금': 5761, '제목': 5762, '피넛일듯': 5763, '예산': 5764, '도합': 5765, '천만': 5766, '귀하다': 5767, '키즈': 5768, '공략': 5769, '토요일': 5770, '촛불': 5771, '작용': 5772, '파훼': 5773, '고독': 5774, '캠프': 5775, '스킵': 5776, '픽이긴함': 5777, '해주': 5778, '의아': 5779, '유산': 5780, '롤갤념글': 5781, '어마': 5782, '담배': 5783, '만원': 5784, '론임': 5785, '플래': 5786, '구조': 5787, '브라': 5788, '흐': 5789, '낄낄': 5790, '보나': 5791, '태산': 5792, '야야': 5793, '브랜드': 5794, '명예': 5795, '주먹': 5796, '케나': 5797, '폿도': 5798, '강의': 5799, '해피': 5800, '라이벌': 5801, '습량': 5802, '받치다': 5803, '식단': 5804, '모습': 5805, '감사하다': 5806, '젠틀': 5807, '입문': 5808, '옛적': 5809, '슼갈논리': 5810, '공준': 5811, '진운': 5812, '젠첩왈': 5813, '리리': 5814, '던': 5815, '악의': 5816, '구내식당': 5817, '갯수': 5818, '매국노': 5819, '사회인': 5820, '빠리': 5821, '군데': 5822, '물론': 5823, '꼭마': 5824, '골동품': 5825, '성관계': 5826, '앰뒤슼갈년': 5827, '비상하다': 5828, '웅크리다': 5829, '강남대': 5830, '화재': 5831, '월즈파엠': 5832, '영혼': 5833, '하프': 5834, '류임': 5835, '치네다': 5836, '터뜨리다': 5837, '찔끔': 5838, '어카': 5839, '안팸': 5840, '카루키': 5841, '이지메': 5842, '승만': 5843, '패턴': 5844, '불축': 5845, '마법': 5846, '레프': 5847, '젝이렐': 5848, '공부': 5849, '개추점': 5850, '해달라다': 5851, '도피페딜끼': 5852, '프나틱': 5853, '그깟': 5854, '쪼가리': 5855, '째째하다': 5856, '명성': 5857, '관상': 5858, '먄': 5859, '캐초': 5860, '개씹좆킅': 5861, '서한': 5862, '월동': 5863, '인장': 5864, '는데': 5865, '포핏임': 5866, '선행': 5867, '지멘': 5868, '꺽': 5869, '왓': 5870, '김민교': 5871, '당근': 5872, '광팬': 5873, '석': 5874, '슼갈년들': 5875, '요리': 5876, '가요쇼': 5877, '카임': 5878, '말투': 5879, '부터가': 5880, '첩티': 5881, '축전': 5882, '컵특': 5883, '야근': 5884, '블츠': 5885, '먹고다': 5886, '연결': 5887, '애정': 5888, '이엇으': 5889, '몇대': 5890, '유동': 5891}\n"
          ]
        }
      ]
    },
    {
      "cell_type": "code",
      "source": [
        "threshold = 3\n",
        "total_cnt = len(tokenizer.word_index) # 단어의 수\n",
        "rare_cnt = 0 # 등장 빈도수가 threshold보다 작은 단어의 개수를 카운트\n",
        "total_freq = 0 # 훈련 데이터의 전체 단어 빈도수 총 합\n",
        "rare_freq = 0 # 등장 빈도수가 threshold보다 작은 단어의 등장 빈도수의 총 합\n",
        "\n",
        "# 단어와 빈도수의 쌍(pair)을 key와 value로 받는다.\n",
        "for key, value in tokenizer.word_counts.items():\n",
        "    total_freq = total_freq + value\n",
        "\n",
        "    # 단어의 등장 빈도수가 threshold보다 작으면\n",
        "    if(value < threshold):\n",
        "        rare_cnt = rare_cnt + 1\n",
        "        rare_freq = rare_freq + value\n",
        "\n",
        "print('단어 집합(vocabulary)의 크기 :',total_cnt)\n",
        "print('등장 빈도가 %s번 이하인 희귀 단어의 수: %s'%(threshold - 1, rare_cnt))\n",
        "print(\"단어 집합에서 희귀 단어의 비율:\", (rare_cnt / total_cnt)*100)\n",
        "print(\"전체 등장 빈도에서 희귀 단어 등장 빈도 비율:\", (rare_freq / total_freq)*100)\n"
      ],
      "metadata": {
        "colab": {
          "base_uri": "https://localhost:8080/"
        },
        "id": "1ffkyKJk94HM",
        "outputId": "166debbd-fc13-4dc3-e553-a6663846816b"
      },
      "execution_count": null,
      "outputs": [
        {
          "output_type": "stream",
          "name": "stdout",
          "text": [
            "단어 집합(vocabulary)의 크기 : 5891\n",
            "등장 빈도가 2번 이하인 희귀 단어의 수: 3771\n",
            "단어 집합에서 희귀 단어의 비율: 64.01290103547784\n",
            "전체 등장 빈도에서 희귀 단어 등장 빈도 비율: 9.327838050790957\n"
          ]
        }
      ]
    },
    {
      "cell_type": "code",
      "source": [
        "# 전체 단어 개수 중 빈도수 2이하인 단어는 제거.\n",
        "# 0번 패딩 토큰을 고려하여 + 1\n",
        "vocab_size = total_cnt - rare_cnt + 1\n",
        "print('단어 집합의 크기 :',vocab_size)"
      ],
      "metadata": {
        "colab": {
          "base_uri": "https://localhost:8080/"
        },
        "id": "ADWOojco-efv",
        "outputId": "f0ae6b40-8d2c-4317-bdc6-2fd0d05ad0e3"
      },
      "execution_count": null,
      "outputs": [
        {
          "output_type": "stream",
          "name": "stdout",
          "text": [
            "단어 집합의 크기 : 2121\n"
          ]
        }
      ]
    },
    {
      "cell_type": "code",
      "source": [
        "tokenizer = Tokenizer(vocab_size)\n",
        "tokenizer.fit_on_texts(X_train)\n",
        "X_train = tokenizer.texts_to_sequences(X_train)\n",
        "X_test = tokenizer.texts_to_sequences(X_test)\n"
      ],
      "metadata": {
        "id": "UWSsHtV8-iCo"
      },
      "execution_count": null,
      "outputs": []
    },
    {
      "cell_type": "code",
      "source": [
        "print(X_train[:3])\n"
      ],
      "metadata": {
        "colab": {
          "base_uri": "https://localhost:8080/"
        },
        "id": "kOdegEuY-l4a",
        "outputId": "1d829787-a791-4fd9-fce5-a444330a474d"
      },
      "execution_count": null,
      "outputs": [
        {
          "output_type": "stream",
          "name": "stdout",
          "text": [
            "[[92, 34, 16], [92, 241, 94, 487], [19, 12, 325, 1661, 26, 1381, 35, 16]]\n"
          ]
        }
      ]
    },
    {
      "cell_type": "code",
      "source": [
        "y_train = np.array(train_data['labels'])\n",
        "y_test = np.array(test_data['labels'])"
      ],
      "metadata": {
        "id": "wrlYNT_D-q17"
      },
      "execution_count": null,
      "outputs": []
    },
    {
      "cell_type": "code",
      "source": [
        "drop_train = [index for index, sentence in enumerate(X_train) if len(sentence) < 1]\n"
      ],
      "metadata": {
        "id": "mxzCJ7oK-t1p"
      },
      "execution_count": null,
      "outputs": []
    },
    {
      "cell_type": "code",
      "source": [
        "# 빈 샘플들을 제거\n",
        "X_train = np.delete(X_train, drop_train, axis=0)\n",
        "y_train = np.delete(y_train, drop_train, axis=0)\n",
        "print(len(X_train))\n",
        "print(len(y_train))\n"
      ],
      "metadata": {
        "colab": {
          "base_uri": "https://localhost:8080/"
        },
        "id": "2vrOaSuJ-w3_",
        "outputId": "5613bea4-28d9-4a03-a5ef-b927a0eb19ba"
      },
      "execution_count": null,
      "outputs": [
        {
          "output_type": "stream",
          "name": "stdout",
          "text": [
            "6704\n",
            "6704\n"
          ]
        },
        {
          "output_type": "stream",
          "name": "stderr",
          "text": [
            "/usr/local/lib/python3.10/dist-packages/numpy/lib/function_base.py:5071: VisibleDeprecationWarning: Creating an ndarray from ragged nested sequences (which is a list-or-tuple of lists-or-tuples-or ndarrays with different lengths or shapes) is deprecated. If you meant to do this, you must specify 'dtype=object' when creating the ndarray.\n",
            "  arr = asarray(arr)\n"
          ]
        }
      ]
    },
    {
      "cell_type": "code",
      "source": [
        "print('제목의 최대 길이 :',max(len(review) for review in X_train))\n",
        "print('제목의 평균 길이 :',sum(map(len, X_train))/len(X_train))\n",
        "plt.hist([len(review) for review in X_train], bins=50)\n",
        "plt.xlabel('length of samples')\n",
        "plt.ylabel('number of samples')\n",
        "plt.show()\n"
      ],
      "metadata": {
        "colab": {
          "base_uri": "https://localhost:8080/",
          "height": 485
        },
        "id": "PXi8LeeJ-0aL",
        "outputId": "cb72fe5f-c5f7-46a8-beea-ed7874366d86"
      },
      "execution_count": null,
      "outputs": [
        {
          "output_type": "stream",
          "name": "stdout",
          "text": [
            "제목의 최대 길이 : 18\n",
            "제목의 평균 길이 : 6.694510739856802\n"
          ]
        },
        {
          "output_type": "display_data",
          "data": {
            "text/plain": [
              "<Figure size 640x480 with 1 Axes>"
            ],
            "image/png": "[encoded data removed]"
          },
          "metadata": {}
        }
      ]
    },
    {
      "cell_type": "code",
      "source": [
        "def below_threshold_len(max_len, nested_list):\n",
        "  count = 0\n",
        "  for sentence in nested_list:\n",
        "    if(len(sentence) <= max_len):\n",
        "        count = count + 1\n",
        "  print('전체 샘플 중 길이가 %s 이하인 샘플의 비율: %s'%(max_len, (count / len(nested_list))*100))\n"
      ],
      "metadata": {
        "id": "stqVf6QG--UY"
      },
      "execution_count": null,
      "outputs": []
    },
    {
      "cell_type": "code",
      "source": [
        "max_len = 13\n",
        "below_threshold_len(max_len, X_train)\n"
      ],
      "metadata": {
        "colab": {
          "base_uri": "https://localhost:8080/"
        },
        "id": "VxGK5kn6_Hxu",
        "outputId": "f0e3f9ed-42d5-47a6-c690-35189d5f9b87"
      },
      "execution_count": null,
      "outputs": [
        {
          "output_type": "stream",
          "name": "stdout",
          "text": [
            "전체 샘플 중 길이가 13 이하인 샘플의 비율: 99.2989260143198\n"
          ]
        }
      ]
    },
    {
      "cell_type": "code",
      "source": [
        "X_train = pad_sequences(X_train, maxlen=max_len)\n",
        "X_test = pad_sequences(X_test, maxlen=max_len)\n"
      ],
      "metadata": {
        "id": "yfDuIv5G_Pve"
      },
      "execution_count": null,
      "outputs": []
    },
    {
      "cell_type": "code",
      "source": [
        "from tensorflow.keras.layers import Embedding, Dense, LSTM\n",
        "from tensorflow.keras.models import Sequential\n",
        "from tensorflow.keras.models import load_model\n",
        "from tensorflow.keras.callbacks import EarlyStopping, ModelCheckpoint\n",
        "\n",
        "embedding_dim = 100\n",
        "hidden_units = 128\n",
        "\n",
        "model = Sequential()\n",
        "model.add(Embedding(vocab_size, embedding_dim))\n",
        "model.add(LSTM(hidden_units))\n",
        "model.add(Dense(1, activation='sigmoid'))\n",
        "\n",
        "es = EarlyStopping(monitor='val_loss', mode='min', verbose=1, patience=4)\n",
        "mc = ModelCheckpoint('/content/drive/MyDrive/lstmLol/best_model.h5', monitor='val_acc', mode='max', verbose=1, save_best_only=True)\n",
        "\n",
        "model.compile(optimizer='rmsprop', loss='binary_crossentropy', metrics=['acc'])\n",
        "history = model.fit(X_train, y_train, epochs=15, callbacks=[es, mc], batch_size=64, validation_split=0.2)\n"
      ],
      "metadata": {
        "colab": {
          "base_uri": "https://localhost:8080/"
        },
        "id": "Ux00qarP_ik7",
        "outputId": "35563086-db7b-479b-d8ff-dc6335bc42b5"
      },
      "execution_count": null,
      "outputs": [
        {
          "output_type": "stream",
          "name": "stdout",
          "text": [
            "Epoch 1/15\n",
            "81/84 [===========================>..] - ETA: 0s - loss: 0.5580 - acc: 0.7461\n",
            "Epoch 1: val_acc improved from -inf to 0.74348, saving model to /content/drive/MyDrive/lstmLol/best_model.h5\n"
          ]
        },
        {
          "output_type": "stream",
          "name": "stderr",
          "text": [
            "/usr/local/lib/python3.10/dist-packages/keras/src/engine/training.py:3079: UserWarning: You are saving your model as an HDF5 file via `model.save()`. This file format is considered legacy. We recommend using instead the native Keras format, e.g. `model.save('my_model.keras')`.\n",
            "  saving_api.save_model(\n"
          ]
        },
        {
          "output_type": "stream",
          "name": "stdout",
          "text": [
            "\b\b\b\b\b\b\b\b\b\b\b\b\b\b\b\b\b\b\b\b\b\b\b\b\b\b\b\b\b\b\b\b\b\b\b\b\b\b\b\b\b\b\b\b\b\b\b\b\b\b\b\b\b\b\b\b\b\b\b\b\b\b\b\b\b\b\b\b\b\b\b\b\b\b\b\b\b\r84/84 [==============================] - 15s 72ms/step - loss: 0.5566 - acc: 0.7470 - val_loss: 0.5285 - val_acc: 0.7435\n",
            "Epoch 2/15\n",
            "84/84 [==============================] - ETA: 0s - loss: 0.4241 - acc: 0.8188\n",
            "Epoch 2: val_acc improved from 0.74348 to 0.81954, saving model to /content/drive/MyDrive/lstmLol/best_model.h5\n",
            "84/84 [==============================] - 2s 28ms/step - loss: 0.4241 - acc: 0.8188 - val_loss: 0.4668 - val_acc: 0.8195\n",
            "Epoch 3/15\n",
            "84/84 [==============================] - ETA: 0s - loss: 0.3276 - acc: 0.8786\n",
            "Epoch 3: val_acc improved from 0.81954 to 0.85086, saving model to /content/drive/MyDrive/lstmLol/best_model.h5\n",
            "84/84 [==============================] - 2s 22ms/step - loss: 0.3276 - acc: 0.8786 - val_loss: 0.3848 - val_acc: 0.8509\n",
            "Epoch 4/15\n",
            "84/84 [==============================] - ETA: 0s - loss: 0.2829 - acc: 0.8926\n",
            "Epoch 4: val_acc did not improve from 0.85086\n",
            "84/84 [==============================] - 1s 11ms/step - loss: 0.2829 - acc: 0.8926 - val_loss: 0.4101 - val_acc: 0.8471\n",
            "Epoch 5/15\n",
            "84/84 [==============================] - ETA: 0s - loss: 0.2591 - acc: 0.9043\n",
            "Epoch 5: val_acc did not improve from 0.85086\n",
            "84/84 [==============================] - 2s 21ms/step - loss: 0.2591 - acc: 0.9043 - val_loss: 0.4024 - val_acc: 0.8494\n",
            "Epoch 6/15\n",
            "78/84 [==========================>...] - ETA: 0s - loss: 0.2401 - acc: 0.9113\n",
            "Epoch 6: val_acc did not improve from 0.85086\n",
            "84/84 [==============================] - 1s 13ms/step - loss: 0.2401 - acc: 0.9112 - val_loss: 0.4184 - val_acc: 0.8330\n",
            "Epoch 7/15\n",
            "81/84 [===========================>..] - ETA: 0s - loss: 0.2259 - acc: 0.9167\n",
            "Epoch 7: val_acc did not improve from 0.85086\n",
            "84/84 [==============================] - 1s 18ms/step - loss: 0.2276 - acc: 0.9168 - val_loss: 0.4300 - val_acc: 0.8397\n",
            "Epoch 7: early stopping\n"
          ]
        }
      ]
    },
    {
      "cell_type": "code",
      "source": [
        "loaded_model = load_model('/content/drive/MyDrive/lstmLol/best_model.h5')\n",
        "print(\"\\n 테스트 정확도: %.4f\" % (loaded_model.evaluate(X_test, y_test)[1]))\n"
      ],
      "metadata": {
        "colab": {
          "base_uri": "https://localhost:8080/"
        },
        "id": "7fFeM378ABF0",
        "outputId": "1608383d-29f5-4693-ae16-89a8f52e01d3"
      },
      "execution_count": null,
      "outputs": [
        {
          "output_type": "stream",
          "name": "stdout",
          "text": [
            "96/96 [==============================] - 1s 3ms/step - loss: 0.4801 - acc: 0.8195\n",
            "\n",
            " 테스트 정확도: 0.8195\n"
          ]
        }
      ]
    },
    {
      "cell_type": "code",
      "source": [
        "with open('tokenizer.pickle', 'wb') as handle:\n",
        "     pickle.dump(tokenizer, handle)\n",
        "\n",
        "with open('tokenizer.pickle', 'rb') as handle:\n",
        "    tokenizer = pickle.load(handle)\n"
      ],
      "metadata": {
        "id": "bIMjR504AKud"
      },
      "execution_count": null,
      "outputs": []
    },
    {
      "cell_type": "code",
      "source": [
        "def sentiment_predict(new_sentence):\n",
        "  new_sentence = re.sub(r'[^ㄱ-ㅎㅏ-ㅣ가-힣 ]','', new_sentence)\n",
        "  new_sentence = okt.morphs(new_sentence, stem=True) # 토큰화\n",
        "  new_sentence = [word for word in new_sentence if not word in stopwords] # 불용어 제거\n",
        "  encoded = tokenizer.texts_to_sequences([new_sentence]) # 정수 인코딩\n",
        "  pad_new = pad_sequences(encoded, maxlen = max_len) # 패딩\n",
        "  score = float(loaded_model.predict(pad_new)) # 예측\n",
        "  if(score > 0.5):\n",
        "    print(\"{:.2f}% 확률로 작성 가능한 제목입니다.\\n\".format(score * 100))\n",
        "  else:\n",
        "    print(\"{:.2f}% 확률로 블라인드 처리될 리뷰입니다.\\n\".format((1 - score) * 100))"
      ],
      "metadata": {
        "id": "s6wjOQ0EAQ2-"
      },
      "execution_count": null,
      "outputs": []
    },
    {
      "cell_type": "code",
      "source": [
        " while True:\n",
        "    title_write = input('제목 : ')\n",
        "    if title_write == '종료':\n",
        "        print('Board Shielder가 종료됩니다.')\n",
        "        break\n",
        "    sentiment_predict(title_write)"
      ],
      "metadata": {
        "colab": {
          "base_uri": "https://localhost:8080/"
        },
        "id": "6uaAnB78aIX0",
        "outputId": "e36683e0-cd45-4ca1-cc16-ed8469e4331c"
      },
      "execution_count": null,
      "outputs": [
        {
          "output_type": "stream",
          "name": "stdout",
          "text": [
            "제목 : 팀운 좆같네\n",
            "1/1 [==============================] - 3s 3s/step\n",
            "90.34% 확률로 블라인드 처리될 리뷰입니다.\n",
            "\n",
            "제목 : 오늘 팀운 개좋네\n",
            "1/1 [==============================] - 0s 20ms/step\n",
            "75.26% 확률로 작성 가능한 제목입니다.\n",
            "\n",
            "제목 : 난 박쥐라고 까는 새끼들이 젤 정신병자들같음ㅋㅋㅋ\n",
            "1/1 [==============================] - 0s 26ms/step\n",
            "98.88% 확률로 블라인드 처리될 리뷰입니다.\n",
            "\n",
            "제목 : 종료\n",
            "Board Shielder가 종료됩니다.\n"
          ]
        }
      ]
    }
  ]
}